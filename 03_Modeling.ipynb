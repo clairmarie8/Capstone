{
 "cells": [
  {
   "cell_type": "markdown",
   "metadata": {},
   "source": [
    "# Modeling"
   ]
  },
  {
   "cell_type": "markdown",
   "metadata": {},
   "source": [
    "## Imports"
   ]
  },
  {
   "cell_type": "code",
   "execution_count": 227,
   "metadata": {},
   "outputs": [],
   "source": [
    "import numpy as np\n",
    "import pandas as pd\n",
    "import pickle\n",
    "import matplotlib.pyplot as plt\n",
    "%matplotlib inline\n",
    "from sklearn.model_selection import train_test_split\n",
    "from sklearn.linear_model import LinearRegression\n",
    "from sklearn.metrics import mean_squared_error\n",
    "from sklearn.metrics import mean_squared_error, r2_score\n",
    "from sklearn.model_selection import cross_val_score\n",
    "from sklearn.neighbors import KNeighborsRegressor\n",
    "from sklearn.preprocessing import PolynomialFeatures\n",
    "import statsmodels.api as sm\n",
    "from sklearn.preprocessing import Normalizer\n",
    "from sklearn.preprocessing import StandardScaler\n",
    "from sklearn.tree import DecisionTreeRegressor\n",
    "from statsmodels.tools.eval_measures import rmse\n",
    "from sklearn import feature_selection\n",
    "from statsmodels.regression import linear_model"
   ]
  },
  {
   "cell_type": "markdown",
   "metadata": {},
   "source": [
    "## Import Pickle File"
   ]
  },
  {
   "cell_type": "code",
   "execution_count": 228,
   "metadata": {},
   "outputs": [],
   "source": [
    "infile = open('data/pickles/demolished_buildings.pickle', 'rb')\n",
    "demolished_buildings = pickle.load(infile)\n",
    "infile.close()"
   ]
  },
  {
   "cell_type": "code",
   "execution_count": 229,
   "metadata": {},
   "outputs": [
    {
     "data": {
      "text/plain": [
       "pandas.core.frame.DataFrame"
      ]
     },
     "execution_count": 229,
     "metadata": {},
     "output_type": "execute_result"
    }
   ],
   "source": [
    "type(demolished_buildings)"
   ]
  },
  {
   "cell_type": "code",
   "execution_count": 230,
   "metadata": {},
   "outputs": [
    {
     "data": {
      "text/html": [
       "<div>\n",
       "<style scoped>\n",
       "    .dataframe tbody tr th:only-of-type {\n",
       "        vertical-align: middle;\n",
       "    }\n",
       "\n",
       "    .dataframe tbody tr th {\n",
       "        vertical-align: top;\n",
       "    }\n",
       "\n",
       "    .dataframe thead th {\n",
       "        text-align: right;\n",
       "    }\n",
       "</style>\n",
       "<table border=\"1\" class=\"dataframe\">\n",
       "  <thead>\n",
       "    <tr style=\"text-align: right;\">\n",
       "      <th></th>\n",
       "      <th>policeprct</th>\n",
       "      <th>healtharea</th>\n",
       "      <th>zonedist1</th>\n",
       "      <th>zonedist2</th>\n",
       "      <th>zonedist3</th>\n",
       "      <th>overlay1</th>\n",
       "      <th>spdist1</th>\n",
       "      <th>spdist2</th>\n",
       "      <th>ltdheight</th>\n",
       "      <th>splitzone</th>\n",
       "      <th>...</th>\n",
       "      <th>factryarea</th>\n",
       "      <th>bldgfront</th>\n",
       "      <th>ext</th>\n",
       "      <th>irrlotcode</th>\n",
       "      <th>lottype</th>\n",
       "      <th>assesstot</th>\n",
       "      <th>yearbuilt</th>\n",
       "      <th>histdist</th>\n",
       "      <th>landmark</th>\n",
       "      <th>lifespan</th>\n",
       "    </tr>\n",
       "  </thead>\n",
       "  <tbody>\n",
       "    <tr>\n",
       "      <th>82</th>\n",
       "      <td>13.0</td>\n",
       "      <td>5900.0</td>\n",
       "      <td>C1-8A</td>\n",
       "      <td>0</td>\n",
       "      <td>0</td>\n",
       "      <td>0</td>\n",
       "      <td>0</td>\n",
       "      <td>0</td>\n",
       "      <td>0</td>\n",
       "      <td>N</td>\n",
       "      <td>...</td>\n",
       "      <td>0.0</td>\n",
       "      <td>0.0</td>\n",
       "      <td>0</td>\n",
       "      <td>N</td>\n",
       "      <td>5.0</td>\n",
       "      <td>478592.0</td>\n",
       "      <td>1972</td>\n",
       "      <td>0</td>\n",
       "      <td>0</td>\n",
       "      <td>46</td>\n",
       "    </tr>\n",
       "    <tr>\n",
       "      <th>106</th>\n",
       "      <td>108.0</td>\n",
       "      <td>1021.0</td>\n",
       "      <td>R5D</td>\n",
       "      <td>0</td>\n",
       "      <td>0</td>\n",
       "      <td>0</td>\n",
       "      <td>0</td>\n",
       "      <td>0</td>\n",
       "      <td>0</td>\n",
       "      <td>N</td>\n",
       "      <td>...</td>\n",
       "      <td>0.0</td>\n",
       "      <td>0.0</td>\n",
       "      <td>0</td>\n",
       "      <td>Y</td>\n",
       "      <td>6.0</td>\n",
       "      <td>64380.0</td>\n",
       "      <td>1972</td>\n",
       "      <td>0</td>\n",
       "      <td>0</td>\n",
       "      <td>30</td>\n",
       "    </tr>\n",
       "    <tr>\n",
       "      <th>134</th>\n",
       "      <td>81.0</td>\n",
       "      <td>3100.0</td>\n",
       "      <td>C4-4L</td>\n",
       "      <td>0</td>\n",
       "      <td>0</td>\n",
       "      <td>0</td>\n",
       "      <td>0</td>\n",
       "      <td>0</td>\n",
       "      <td>0</td>\n",
       "      <td>N</td>\n",
       "      <td>...</td>\n",
       "      <td>0.0</td>\n",
       "      <td>72.0</td>\n",
       "      <td>E</td>\n",
       "      <td>N</td>\n",
       "      <td>5.0</td>\n",
       "      <td>1757700.0</td>\n",
       "      <td>1922</td>\n",
       "      <td>0</td>\n",
       "      <td>0</td>\n",
       "      <td>69</td>\n",
       "    </tr>\n",
       "    <tr>\n",
       "      <th>185</th>\n",
       "      <td>66.0</td>\n",
       "      <td>5310.0</td>\n",
       "      <td>C8-2</td>\n",
       "      <td>0</td>\n",
       "      <td>0</td>\n",
       "      <td>0</td>\n",
       "      <td>OP</td>\n",
       "      <td>0</td>\n",
       "      <td>0</td>\n",
       "      <td>N</td>\n",
       "      <td>...</td>\n",
       "      <td>0.0</td>\n",
       "      <td>0.0</td>\n",
       "      <td>0</td>\n",
       "      <td>Y</td>\n",
       "      <td>5.0</td>\n",
       "      <td>19350.0</td>\n",
       "      <td>1972</td>\n",
       "      <td>0</td>\n",
       "      <td>0</td>\n",
       "      <td>25</td>\n",
       "    </tr>\n",
       "  </tbody>\n",
       "</table>\n",
       "<p>4 rows × 24 columns</p>\n",
       "</div>"
      ],
      "text/plain": [
       "     policeprct  healtharea zonedist1 zonedist2 zonedist3 overlay1 spdist1  \\\n",
       "82         13.0      5900.0     C1-8A         0         0        0       0   \n",
       "106       108.0      1021.0       R5D         0         0        0       0   \n",
       "134        81.0      3100.0     C4-4L         0         0        0       0   \n",
       "185        66.0      5310.0      C8-2         0         0        0      OP   \n",
       "\n",
       "    spdist2 ltdheight splitzone  ... factryarea bldgfront  ext  irrlotcode  \\\n",
       "82        0         0         N  ...        0.0       0.0    0           N   \n",
       "106       0         0         N  ...        0.0       0.0    0           Y   \n",
       "134       0         0         N  ...        0.0      72.0    E           N   \n",
       "185       0         0         N  ...        0.0       0.0    0           Y   \n",
       "\n",
       "     lottype  assesstot yearbuilt histdist  landmark  lifespan  \n",
       "82       5.0   478592.0      1972        0         0        46  \n",
       "106      6.0    64380.0      1972        0         0        30  \n",
       "134      5.0  1757700.0      1922        0         0        69  \n",
       "185      5.0    19350.0      1972        0         0        25  \n",
       "\n",
       "[4 rows x 24 columns]"
      ]
     },
     "execution_count": 230,
     "metadata": {},
     "output_type": "execute_result"
    }
   ],
   "source": [
    "demolished_buildings.head(4)"
   ]
  },
  {
   "cell_type": "markdown",
   "metadata": {},
   "source": [
    "## Continuous & Categorical Variables"
   ]
  },
  {
   "cell_type": "code",
   "execution_count": 231,
   "metadata": {},
   "outputs": [
    {
     "data": {
      "text/plain": [
       "['assesstot',\n",
       " 'bldgclass',\n",
       " 'bldgfront',\n",
       " 'ext',\n",
       " 'factryarea',\n",
       " 'healtharea',\n",
       " 'histdist',\n",
       " 'irrlotcode',\n",
       " 'landmark',\n",
       " 'lifespan',\n",
       " 'lotarea',\n",
       " 'lottype',\n",
       " 'ltdheight',\n",
       " 'overlay1',\n",
       " 'ownertype',\n",
       " 'policeprct',\n",
       " 'spdist1',\n",
       " 'spdist2',\n",
       " 'splitzone',\n",
       " 'strgearea',\n",
       " 'yearbuilt',\n",
       " 'zonedist1',\n",
       " 'zonedist2',\n",
       " 'zonedist3']"
      ]
     },
     "execution_count": 231,
     "metadata": {},
     "output_type": "execute_result"
    }
   ],
   "source": [
    "all_cols = list(demolished_buildings.columns)\n",
    "all_cols = sorted(all_cols)\n",
    "all_cols"
   ]
  },
  {
   "cell_type": "code",
   "execution_count": 232,
   "metadata": {},
   "outputs": [
    {
     "name": "stdout",
     "output_type": "stream",
     "text": [
      "['assesstot', 'bldgclass', 'bldgfront', 'ext', 'factryarea', 'healtharea', 'histdist', 'irrlotcode', 'landmark', 'lotarea', 'lottype', 'ltdheight', 'overlay1', 'ownertype', 'policeprct', 'spdist1', 'spdist2', 'splitzone', 'strgearea', 'yearbuilt', 'zonedist1', 'zonedist2', 'zonedist3']\n",
      "23\n"
     ]
    }
   ],
   "source": [
    "# making a list of continuous columns\n",
    "cont_cols = ['lotarea', 'strgearea','factryarea', 'bldgfront', 'assesstot', 'yearbuilt']\n",
    "\n",
    "# making a dataframe of continuous columns\n",
    "cont_cols_df = demolished_buildings[['lotarea', 'strgearea','factryarea', 'bldgfront', 'assesstot', 'yearbuilt']]\n",
    "\n",
    "#making a list of categorical columns\n",
    "cat_cols = []\n",
    "\n",
    "for col in all_cols:\n",
    "    if col in cont_cols:\n",
    "        pass\n",
    "    if col == 'lifespan':\n",
    "        pass\n",
    "    else:\n",
    "        cat_cols.append(col)\n",
    "    \n",
    "print(cat_cols)\n",
    "print(len(cat_cols))"
   ]
  },
  {
   "cell_type": "markdown",
   "metadata": {},
   "source": [
    "## Train Test Split"
   ]
  },
  {
   "cell_type": "code",
   "execution_count": 233,
   "metadata": {},
   "outputs": [],
   "source": [
    "# try a model using only continous variables\n",
    "X = cont_cols_df\n",
    "y = demolished_buildings['lifespan']\n",
    "\n",
    "X_train, X_test, y_train, y_test = train_test_split(X, y, test_size=0.33, random_state=12)"
   ]
  },
  {
   "cell_type": "markdown",
   "metadata": {},
   "source": [
    "## Model 1A : Linear Regression"
   ]
  },
  {
   "cell_type": "markdown",
   "metadata": {},
   "source": [
    "Using Continuous Variables only."
   ]
  },
  {
   "cell_type": "markdown",
   "metadata": {},
   "source": [
    "### From Scratch"
   ]
  },
  {
   "cell_type": "code",
   "execution_count": 234,
   "metadata": {},
   "outputs": [],
   "source": [
    "def linear_reg_model(Xtrain, ytrain, Xtest, ytest):\n",
    "    \"\"\"\n",
    "    Function takes training and test data as input and returns the following:\n",
    "    - Accuracy Score\n",
    "    - Coefficients\n",
    "    - P-values\n",
    "    - Mean squared error\n",
    "    - Root mean squared error\n",
    "    - R-squared\n",
    "    - Cross Validation Score    \n",
    "    - Residuals plot\n",
    "    - Predictions Dataframe\n",
    "    \"\"\"\n",
    "    \n",
    "    #instantiate model\n",
    "    model = LinearRegression(fit_intercept=True, copy_X=True).fit(Xtrain, ytrain)\n",
    "    #make predictions\n",
    "    y_pred = model.predict(Xtest)\n",
    "    #get coefficients\n",
    "    coef = model.coef_\n",
    "    #make list of columns\n",
    "    column_list = list(Xtrain.columns)    \n",
    "    # attach names to coefficients\n",
    "    coefficients = dict(zip(column_list, coef))    \n",
    "    #get performance metric\n",
    "    MSE = mean_squared_error(ytest, y_pred)    \n",
    "    #cross validation 5 folds\n",
    "    cvs = cross_val_score(estimator=model, X=Xtest, y=ytest, cv=5)        \n",
    "    #make dataframe of predictions\n",
    "    pred = pd.DataFrame({'Actual': ytest, 'Predicted': y_pred})\n",
    "    \n",
    "    #f-test to see which coefficients have p-values greater than 0.05\n",
    "    f_test = feature_selection.f_regression(Xtrain, ytrain)\n",
    "    pvalues = list(zip(list(Xtrain.columns), f_test[1]))\n",
    "    \n",
    "    large_pvalues = []\n",
    "    for i in pvalues:\n",
    "        if i[1] > 0.05:\n",
    "            large_pvalues.append(i)\n",
    "    \n",
    "    print('Accuracy Score ', model.score(Xtest, ytest))    \n",
    "    print('Coefficients ', coefficients)    \n",
    "    print('P-Values Greater than 0.05', large_pvalues)    \n",
    "    print('Mean Squared Error ', MSE)   \n",
    "    print('Root Mean Squared Error ', np.sqrt(MSE))    \n",
    "    print('R-Squared', r2_score(ytest, y_pred))       \n",
    "    print('Cross Validation Score ', cvs)\n",
    "\n",
    "    #plot residuals\n",
    "    residuals = ytest - y_pred\n",
    "    fig, ax = plt.subplots(figsize=(6,4))\n",
    "    ax.scatter(residuals, y_pred)\n",
    "    \n",
    "    return pred"
   ]
  },
  {
   "cell_type": "code",
   "execution_count": 235,
   "metadata": {},
   "outputs": [
    {
     "name": "stdout",
     "output_type": "stream",
     "text": [
      "Accuracy Score  0.9016724101573149\n",
      "Coefficients  {'lotarea': -3.165186189328124e-06, 'strgearea': -1.4043477822092771e-05, 'factryarea': 4.649129550462128e-05, 'bldgfront': 0.01900167271613683, 'assesstot': 1.7666912452889011e-10, 'yearbuilt': -1.039311825265042}\n",
      "P-Values Greater than 0.05 [('strgearea', 0.11552716074567967), ('assesstot', 0.3608876591422222)]\n",
      "Mean Squared Error  83.50043288795412\n",
      "Root Mean Squared Error  9.137857127792824\n",
      "R-Squared 0.9016724101573149\n",
      "Cross Validation Score  [0.89272863 0.88147014 0.90693815 0.90168005 0.90782767]\n"
     ]
    },
    {
     "data": {
      "text/html": [
       "<div>\n",
       "<style scoped>\n",
       "    .dataframe tbody tr th:only-of-type {\n",
       "        vertical-align: middle;\n",
       "    }\n",
       "\n",
       "    .dataframe tbody tr th {\n",
       "        vertical-align: top;\n",
       "    }\n",
       "\n",
       "    .dataframe thead th {\n",
       "        text-align: right;\n",
       "    }\n",
       "</style>\n",
       "<table border=\"1\" class=\"dataframe\">\n",
       "  <thead>\n",
       "    <tr style=\"text-align: right;\">\n",
       "      <th></th>\n",
       "      <th>Actual</th>\n",
       "      <th>Predicted</th>\n",
       "    </tr>\n",
       "  </thead>\n",
       "  <tbody>\n",
       "    <tr>\n",
       "      <th>36977</th>\n",
       "      <td>94</td>\n",
       "      <td>84.123631</td>\n",
       "    </tr>\n",
       "    <tr>\n",
       "      <th>35941</th>\n",
       "      <td>109</td>\n",
       "      <td>101.333591</td>\n",
       "    </tr>\n",
       "    <tr>\n",
       "      <th>33183</th>\n",
       "      <td>25</td>\n",
       "      <td>35.376091</td>\n",
       "    </tr>\n",
       "    <tr>\n",
       "      <th>13343</th>\n",
       "      <td>30</td>\n",
       "      <td>34.964462</td>\n",
       "    </tr>\n",
       "    <tr>\n",
       "      <th>21854</th>\n",
       "      <td>37</td>\n",
       "      <td>38.368223</td>\n",
       "    </tr>\n",
       "    <tr>\n",
       "      <th>...</th>\n",
       "      <td>...</td>\n",
       "      <td>...</td>\n",
       "    </tr>\n",
       "    <tr>\n",
       "      <th>26298</th>\n",
       "      <td>42</td>\n",
       "      <td>34.974682</td>\n",
       "    </tr>\n",
       "    <tr>\n",
       "      <th>37081</th>\n",
       "      <td>54</td>\n",
       "      <td>42.925295</td>\n",
       "    </tr>\n",
       "    <tr>\n",
       "      <th>10646</th>\n",
       "      <td>25</td>\n",
       "      <td>34.973528</td>\n",
       "    </tr>\n",
       "    <tr>\n",
       "      <th>35889</th>\n",
       "      <td>88</td>\n",
       "      <td>78.526495</td>\n",
       "    </tr>\n",
       "    <tr>\n",
       "      <th>10906</th>\n",
       "      <td>38</td>\n",
       "      <td>34.976510</td>\n",
       "    </tr>\n",
       "  </tbody>\n",
       "</table>\n",
       "<p>1170 rows × 2 columns</p>\n",
       "</div>"
      ],
      "text/plain": [
       "       Actual   Predicted\n",
       "36977      94   84.123631\n",
       "35941     109  101.333591\n",
       "33183      25   35.376091\n",
       "13343      30   34.964462\n",
       "21854      37   38.368223\n",
       "...       ...         ...\n",
       "26298      42   34.974682\n",
       "37081      54   42.925295\n",
       "10646      25   34.973528\n",
       "35889      88   78.526495\n",
       "10906      38   34.976510\n",
       "\n",
       "[1170 rows x 2 columns]"
      ]
     },
     "execution_count": 235,
     "metadata": {},
     "output_type": "execute_result"
    },
    {
     "data": {
      "image/png": "[encoded data removed]",
      "text/plain": [
       "<Figure size 432x288 with 1 Axes>"
      ]
     },
     "metadata": {
      "needs_background": "light"
     },
     "output_type": "display_data"
    }
   ],
   "source": [
    "linear_reg_model(X_train, y_train, X_test, y_test)"
   ]
  },
  {
   "cell_type": "markdown",
   "metadata": {},
   "source": [
    "__Comments__\n",
    "\n",
    "Even though most of the data did not have a linear relationship to the target variable, the model performed well. \n",
    "\n",
    "The r-squared value is 0.90, which means that the model explains 90% of the variation in building lifespan.\n",
    "\n",
    "The coefficients indicate tha factryarea and assesstot have the strongest influence on lifespan.\n",
    "\n",
    "An RMSE of 9.1 means that the predictions are off by 9 years on average in either direction.\n",
    "\n",
    "strgarea has a p-value of 1.155\\\n",
    "assesstot has a p-value of 0.360\\\n",
    "These are both greater than 0.05.\n",
    "\n",
    "The residuals plot has some patterns in it, so the model can likely be improved.\n",
    "\n",
    "__Next Steps:__\n",
    "\n",
    "Do a double check using statsmodels to confirm the results."
   ]
  },
  {
   "cell_type": "markdown",
   "metadata": {},
   "source": [
    "## Model 1A : Linear Regression"
   ]
  },
  {
   "cell_type": "markdown",
   "metadata": {},
   "source": [
    "### Using Mix of Continous & Categorical Variables"
   ]
  },
  {
   "cell_type": "markdown",
   "metadata": {},
   "source": [
    "This model is a double check of the first model. "
   ]
  },
  {
   "cell_type": "markdown",
   "metadata": {},
   "source": [
    "### Using Statsmodels"
   ]
  },
  {
   "cell_type": "code",
   "execution_count": 236,
   "metadata": {},
   "outputs": [
    {
     "data": {
      "text/html": [
       "<table class=\"simpletable\">\n",
       "<caption>OLS Regression Results</caption>\n",
       "<tr>\n",
       "  <th>Dep. Variable:</th>        <td>lifespan</td>     <th>  R-squared:         </th> <td>   0.903</td> \n",
       "</tr>\n",
       "<tr>\n",
       "  <th>Model:</th>                   <td>OLS</td>       <th>  Adj. R-squared:    </th> <td>   0.903</td> \n",
       "</tr>\n",
       "<tr>\n",
       "  <th>Method:</th>             <td>Least Squares</td>  <th>  F-statistic:       </th> <td>   3675.</td> \n",
       "</tr>\n",
       "<tr>\n",
       "  <th>Date:</th>             <td>Mon, 07 Sep 2020</td> <th>  Prob (F-statistic):</th>  <td>  0.00</td>  \n",
       "</tr>\n",
       "<tr>\n",
       "  <th>Time:</th>                 <td>17:23:56</td>     <th>  Log-Likelihood:    </th> <td> -8551.1</td> \n",
       "</tr>\n",
       "<tr>\n",
       "  <th>No. Observations:</th>      <td>  2373</td>      <th>  AIC:               </th> <td>1.712e+04</td>\n",
       "</tr>\n",
       "<tr>\n",
       "  <th>Df Residuals:</th>          <td>  2366</td>      <th>  BIC:               </th> <td>1.716e+04</td>\n",
       "</tr>\n",
       "<tr>\n",
       "  <th>Df Model:</th>              <td>     6</td>      <th>                     </th>     <td> </td>    \n",
       "</tr>\n",
       "<tr>\n",
       "  <th>Covariance Type:</th>      <td>nonrobust</td>    <th>                     </th>     <td> </td>    \n",
       "</tr>\n",
       "</table>\n",
       "<table class=\"simpletable\">\n",
       "<tr>\n",
       "       <td></td>         <th>coef</th>     <th>std err</th>      <th>t</th>      <th>P>|t|</th>  <th>[0.025</th>    <th>0.975]</th>  \n",
       "</tr>\n",
       "<tr>\n",
       "  <th>const</th>      <td> 2084.5033</td> <td>   14.479</td> <td>  143.967</td> <td> 0.000</td> <td> 2056.110</td> <td> 2112.896</td>\n",
       "</tr>\n",
       "<tr>\n",
       "  <th>lotarea</th>    <td>-3.165e-06</td> <td> 1.19e-06</td> <td>   -2.650</td> <td> 0.008</td> <td>-5.51e-06</td> <td>-8.23e-07</td>\n",
       "</tr>\n",
       "<tr>\n",
       "  <th>strgearea</th>  <td>-1.404e-05</td> <td>  5.6e-06</td> <td>   -2.508</td> <td> 0.012</td> <td> -2.5e-05</td> <td>-3.06e-06</td>\n",
       "</tr>\n",
       "<tr>\n",
       "  <th>factryarea</th> <td> 4.649e-05</td> <td> 4.17e-05</td> <td>    1.115</td> <td> 0.265</td> <td>-3.53e-05</td> <td>    0.000</td>\n",
       "</tr>\n",
       "<tr>\n",
       "  <th>bldgfront</th>  <td>    0.0190</td> <td>    0.004</td> <td>    4.854</td> <td> 0.000</td> <td>    0.011</td> <td>    0.027</td>\n",
       "</tr>\n",
       "<tr>\n",
       "  <th>assesstot</th>  <td> 1.767e-10</td> <td> 1.91e-08</td> <td>    0.009</td> <td> 0.993</td> <td>-3.73e-08</td> <td> 3.76e-08</td>\n",
       "</tr>\n",
       "<tr>\n",
       "  <th>yearbuilt</th>  <td>   -1.0393</td> <td>    0.007</td> <td> -140.685</td> <td> 0.000</td> <td>   -1.054</td> <td>   -1.025</td>\n",
       "</tr>\n",
       "</table>\n",
       "<table class=\"simpletable\">\n",
       "<tr>\n",
       "  <th>Omnibus:</th>       <td>982.092</td> <th>  Durbin-Watson:     </th> <td>   2.063</td>\n",
       "</tr>\n",
       "<tr>\n",
       "  <th>Prob(Omnibus):</th> <td> 0.000</td>  <th>  Jarque-Bera (JB):  </th> <td> 162.554</td>\n",
       "</tr>\n",
       "<tr>\n",
       "  <th>Skew:</th>          <td>-0.329</td>  <th>  Prob(JB):          </th> <td>5.03e-36</td>\n",
       "</tr>\n",
       "<tr>\n",
       "  <th>Kurtosis:</th>      <td> 1.899</td>  <th>  Cond. No.          </th> <td>8.04e+08</td>\n",
       "</tr>\n",
       "</table><br/><br/>Warnings:<br/>[1] Standard Errors assume that the covariance matrix of the errors is correctly specified.<br/>[2] The condition number is large, 8.04e+08. This might indicate that there are<br/>strong multicollinearity or other numerical problems."
      ],
      "text/plain": [
       "<class 'statsmodels.iolib.summary.Summary'>\n",
       "\"\"\"\n",
       "                            OLS Regression Results                            \n",
       "==============================================================================\n",
       "Dep. Variable:               lifespan   R-squared:                       0.903\n",
       "Model:                            OLS   Adj. R-squared:                  0.903\n",
       "Method:                 Least Squares   F-statistic:                     3675.\n",
       "Date:                Mon, 07 Sep 2020   Prob (F-statistic):               0.00\n",
       "Time:                        17:23:56   Log-Likelihood:                -8551.1\n",
       "No. Observations:                2373   AIC:                         1.712e+04\n",
       "Df Residuals:                    2366   BIC:                         1.716e+04\n",
       "Df Model:                           6                                         \n",
       "Covariance Type:            nonrobust                                         \n",
       "==============================================================================\n",
       "                 coef    std err          t      P>|t|      [0.025      0.975]\n",
       "------------------------------------------------------------------------------\n",
       "const       2084.5033     14.479    143.967      0.000    2056.110    2112.896\n",
       "lotarea    -3.165e-06   1.19e-06     -2.650      0.008   -5.51e-06   -8.23e-07\n",
       "strgearea  -1.404e-05    5.6e-06     -2.508      0.012    -2.5e-05   -3.06e-06\n",
       "factryarea  4.649e-05   4.17e-05      1.115      0.265   -3.53e-05       0.000\n",
       "bldgfront      0.0190      0.004      4.854      0.000       0.011       0.027\n",
       "assesstot   1.767e-10   1.91e-08      0.009      0.993   -3.73e-08    3.76e-08\n",
       "yearbuilt     -1.0393      0.007   -140.685      0.000      -1.054      -1.025\n",
       "==============================================================================\n",
       "Omnibus:                      982.092   Durbin-Watson:                   2.063\n",
       "Prob(Omnibus):                  0.000   Jarque-Bera (JB):              162.554\n",
       "Skew:                          -0.329   Prob(JB):                     5.03e-36\n",
       "Kurtosis:                       1.899   Cond. No.                     8.04e+08\n",
       "==============================================================================\n",
       "\n",
       "Warnings:\n",
       "[1] Standard Errors assume that the covariance matrix of the errors is correctly specified.\n",
       "[2] The condition number is large, 8.04e+08. This might indicate that there are\n",
       "strong multicollinearity or other numerical problems.\n",
       "\"\"\""
      ]
     },
     "execution_count": 236,
     "metadata": {},
     "output_type": "execute_result"
    }
   ],
   "source": [
    "Xcont_train = sm.add_constant(X_train)\n",
    "Xcont_test = sm.add_constant(X_test)\n",
    "\n",
    "model = sm.OLS(y_train, Xcont_train)\n",
    "fitted_model = model.fit()\n",
    "fitted_model.summary()"
   ]
  },
  {
   "cell_type": "markdown",
   "metadata": {},
   "source": [
    "__Comments__\n",
    "\n",
    "This model is a double check confirming the results of the first model.\n",
    "\n",
    "P-value for factryarea, strgearea and assesstot are > 0.05, so these coefficients are irrelevant for predicting the target and should be dropped. However, this will result in less than 5 variables, so some of the categorical variables will need to be added.\n",
    "\n",
    "factryarea coefficient has a value of 4.649e-05 or 464,900. This is outside of the 95% confidence interval.\n",
    "\n",
    "assesstot coefficient has a value of 1.767e-10 or 17,670,000,000. This is outside of the 95% confidence interval."
   ]
  },
  {
   "cell_type": "code",
   "execution_count": 237,
   "metadata": {},
   "outputs": [],
   "source": [
    "y_predict = fitted_model.predict(Xcont_test)"
   ]
  },
  {
   "cell_type": "code",
   "execution_count": 238,
   "metadata": {},
   "outputs": [
    {
     "data": {
      "text/html": [
       "<div>\n",
       "<style scoped>\n",
       "    .dataframe tbody tr th:only-of-type {\n",
       "        vertical-align: middle;\n",
       "    }\n",
       "\n",
       "    .dataframe tbody tr th {\n",
       "        vertical-align: top;\n",
       "    }\n",
       "\n",
       "    .dataframe thead th {\n",
       "        text-align: right;\n",
       "    }\n",
       "</style>\n",
       "<table border=\"1\" class=\"dataframe\">\n",
       "  <thead>\n",
       "    <tr style=\"text-align: right;\">\n",
       "      <th></th>\n",
       "      <th>0</th>\n",
       "      <th>1</th>\n",
       "    </tr>\n",
       "  </thead>\n",
       "  <tbody>\n",
       "    <tr>\n",
       "      <th>const</th>\n",
       "      <td>2.056110e+03</td>\n",
       "      <td>2.112896e+03</td>\n",
       "    </tr>\n",
       "    <tr>\n",
       "      <th>lotarea</th>\n",
       "      <td>-5.507474e-06</td>\n",
       "      <td>-8.228984e-07</td>\n",
       "    </tr>\n",
       "    <tr>\n",
       "      <th>strgearea</th>\n",
       "      <td>-2.502368e-05</td>\n",
       "      <td>-3.063279e-06</td>\n",
       "    </tr>\n",
       "    <tr>\n",
       "      <th>factryarea</th>\n",
       "      <td>-3.526563e-05</td>\n",
       "      <td>1.282482e-04</td>\n",
       "    </tr>\n",
       "    <tr>\n",
       "      <th>bldgfront</th>\n",
       "      <td>1.132564e-02</td>\n",
       "      <td>2.667771e-02</td>\n",
       "    </tr>\n",
       "    <tr>\n",
       "      <th>assesstot</th>\n",
       "      <td>-3.726632e-08</td>\n",
       "      <td>3.761966e-08</td>\n",
       "    </tr>\n",
       "    <tr>\n",
       "      <th>yearbuilt</th>\n",
       "      <td>-1.053799e+00</td>\n",
       "      <td>-1.024825e+00</td>\n",
       "    </tr>\n",
       "  </tbody>\n",
       "</table>\n",
       "</div>"
      ],
      "text/plain": [
       "                       0             1\n",
       "const       2.056110e+03  2.112896e+03\n",
       "lotarea    -5.507474e-06 -8.228984e-07\n",
       "strgearea  -2.502368e-05 -3.063279e-06\n",
       "factryarea -3.526563e-05  1.282482e-04\n",
       "bldgfront   1.132564e-02  2.667771e-02\n",
       "assesstot  -3.726632e-08  3.761966e-08\n",
       "yearbuilt  -1.053799e+00 -1.024825e+00"
      ]
     },
     "execution_count": 238,
     "metadata": {},
     "output_type": "execute_result"
    }
   ],
   "source": [
    "ci = fitted_model.conf_int(alpha=0.05)\n",
    "ci"
   ]
  },
  {
   "cell_type": "code",
   "execution_count": 239,
   "metadata": {},
   "outputs": [
    {
     "data": {
      "text/plain": [
       "-5.507473956161507e-06"
      ]
     },
     "execution_count": 239,
     "metadata": {},
     "output_type": "execute_result"
    }
   ],
   "source": [
    "ci[0]['lotarea']"
   ]
  },
  {
   "cell_type": "code",
   "execution_count": 240,
   "metadata": {},
   "outputs": [
    {
     "data": {
      "text/plain": [
       "-8.22898422633378e-07"
      ]
     },
     "execution_count": 240,
     "metadata": {},
     "output_type": "execute_result"
    }
   ],
   "source": [
    "ci[1]['lotarea']"
   ]
  },
  {
   "cell_type": "code",
   "execution_count": 241,
   "metadata": {},
   "outputs": [
    {
     "data": {
      "text/plain": [
       "-4.684575533528129e-06"
      ]
     },
     "execution_count": 241,
     "metadata": {},
     "output_type": "execute_result"
    }
   ],
   "source": [
    "lot_area_interval = ci[0]['lotarea'] - ci[1]['lotarea']\n",
    "lot_area_interval"
   ]
  },
  {
   "cell_type": "markdown",
   "metadata": {},
   "source": [
    "## Model 2 : Linear Regression"
   ]
  },
  {
   "cell_type": "markdown",
   "metadata": {},
   "source": [
    "### Using Mix of Continous & Categorical Variables"
   ]
  },
  {
   "cell_type": "code",
   "execution_count": 242,
   "metadata": {},
   "outputs": [],
   "source": [
    "infile = open('data/pickles/demo_cat.pickle', 'rb')\n",
    "demo_cat = pickle.load(infile)\n",
    "infile.close()"
   ]
  },
  {
   "cell_type": "code",
   "execution_count": 243,
   "metadata": {},
   "outputs": [
    {
     "data": {
      "text/html": [
       "<div>\n",
       "<style scoped>\n",
       "    .dataframe tbody tr th:only-of-type {\n",
       "        vertical-align: middle;\n",
       "    }\n",
       "\n",
       "    .dataframe tbody tr th {\n",
       "        vertical-align: top;\n",
       "    }\n",
       "\n",
       "    .dataframe thead th {\n",
       "        text-align: right;\n",
       "    }\n",
       "</style>\n",
       "<table border=\"1\" class=\"dataframe\">\n",
       "  <thead>\n",
       "    <tr style=\"text-align: right;\">\n",
       "      <th></th>\n",
       "      <th>0</th>\n",
       "      <th>1</th>\n",
       "      <th>2</th>\n",
       "      <th>3</th>\n",
       "      <th>4</th>\n",
       "      <th>5</th>\n",
       "      <th>6</th>\n",
       "      <th>7</th>\n",
       "      <th>8</th>\n",
       "      <th>9</th>\n",
       "      <th>10</th>\n",
       "      <th>11</th>\n",
       "      <th>12</th>\n",
       "      <th>13</th>\n",
       "      <th>14</th>\n",
       "      <th>15</th>\n",
       "      <th>16</th>\n",
       "      <th>17</th>\n",
       "      <th>18</th>\n",
       "      <th>19</th>\n",
       "    </tr>\n",
       "  </thead>\n",
       "  <tbody>\n",
       "    <tr>\n",
       "      <th>0</th>\n",
       "      <td>0.0</td>\n",
       "      <td>0.0</td>\n",
       "      <td>0.0</td>\n",
       "      <td>0.0</td>\n",
       "      <td>0.0</td>\n",
       "      <td>0.0</td>\n",
       "      <td>0.0</td>\n",
       "      <td>0.0</td>\n",
       "      <td>0.0</td>\n",
       "      <td>0.0</td>\n",
       "      <td>0.0</td>\n",
       "      <td>1.0</td>\n",
       "      <td>0.0</td>\n",
       "      <td>0.0</td>\n",
       "      <td>0.0</td>\n",
       "      <td>0.0</td>\n",
       "      <td>0.0</td>\n",
       "      <td>0.0</td>\n",
       "      <td>0.0</td>\n",
       "      <td>0.0</td>\n",
       "    </tr>\n",
       "    <tr>\n",
       "      <th>1</th>\n",
       "      <td>1.0</td>\n",
       "      <td>0.0</td>\n",
       "      <td>0.0</td>\n",
       "      <td>0.0</td>\n",
       "      <td>0.0</td>\n",
       "      <td>0.0</td>\n",
       "      <td>0.0</td>\n",
       "      <td>0.0</td>\n",
       "      <td>0.0</td>\n",
       "      <td>0.0</td>\n",
       "      <td>0.0</td>\n",
       "      <td>1.0</td>\n",
       "      <td>0.0</td>\n",
       "      <td>0.0</td>\n",
       "      <td>0.0</td>\n",
       "      <td>0.0</td>\n",
       "      <td>0.0</td>\n",
       "      <td>0.0</td>\n",
       "      <td>0.0</td>\n",
       "      <td>0.0</td>\n",
       "    </tr>\n",
       "    <tr>\n",
       "      <th>2</th>\n",
       "      <td>0.0</td>\n",
       "      <td>0.0</td>\n",
       "      <td>0.0</td>\n",
       "      <td>0.0</td>\n",
       "      <td>0.0</td>\n",
       "      <td>0.0</td>\n",
       "      <td>0.0</td>\n",
       "      <td>0.0</td>\n",
       "      <td>0.0</td>\n",
       "      <td>0.0</td>\n",
       "      <td>0.0</td>\n",
       "      <td>1.0</td>\n",
       "      <td>0.0</td>\n",
       "      <td>0.0</td>\n",
       "      <td>0.0</td>\n",
       "      <td>0.0</td>\n",
       "      <td>0.0</td>\n",
       "      <td>1.0</td>\n",
       "      <td>0.0</td>\n",
       "      <td>0.0</td>\n",
       "    </tr>\n",
       "  </tbody>\n",
       "</table>\n",
       "</div>"
      ],
      "text/plain": [
       "     0    1    2    3    4    5    6    7    8    9   10   11   12   13   14  \\\n",
       "0  0.0  0.0  0.0  0.0  0.0  0.0  0.0  0.0  0.0  0.0  0.0  1.0  0.0  0.0  0.0   \n",
       "1  1.0  0.0  0.0  0.0  0.0  0.0  0.0  0.0  0.0  0.0  0.0  1.0  0.0  0.0  0.0   \n",
       "2  0.0  0.0  0.0  0.0  0.0  0.0  0.0  0.0  0.0  0.0  0.0  1.0  0.0  0.0  0.0   \n",
       "\n",
       "    15   16   17   18   19  \n",
       "0  0.0  0.0  0.0  0.0  0.0  \n",
       "1  0.0  0.0  0.0  0.0  0.0  \n",
       "2  0.0  0.0  1.0  0.0  0.0  "
      ]
     },
     "execution_count": 243,
     "metadata": {},
     "output_type": "execute_result"
    }
   ],
   "source": [
    "demo_cat.head(3)"
   ]
  },
  {
   "cell_type": "code",
   "execution_count": 244,
   "metadata": {},
   "outputs": [
    {
     "data": {
      "text/html": [
       "<div>\n",
       "<style scoped>\n",
       "    .dataframe tbody tr th:only-of-type {\n",
       "        vertical-align: middle;\n",
       "    }\n",
       "\n",
       "    .dataframe tbody tr th {\n",
       "        vertical-align: top;\n",
       "    }\n",
       "\n",
       "    .dataframe thead th {\n",
       "        text-align: right;\n",
       "    }\n",
       "</style>\n",
       "<table border=\"1\" class=\"dataframe\">\n",
       "  <thead>\n",
       "    <tr style=\"text-align: right;\">\n",
       "      <th></th>\n",
       "      <th>lotarea</th>\n",
       "      <th>strgearea</th>\n",
       "      <th>factryarea</th>\n",
       "      <th>bldgfront</th>\n",
       "      <th>assesstot</th>\n",
       "      <th>yearbuilt</th>\n",
       "    </tr>\n",
       "  </thead>\n",
       "  <tbody>\n",
       "    <tr>\n",
       "      <th>82</th>\n",
       "      <td>1840.0</td>\n",
       "      <td>0.0</td>\n",
       "      <td>0.0</td>\n",
       "      <td>0.0</td>\n",
       "      <td>478592.0</td>\n",
       "      <td>1972</td>\n",
       "    </tr>\n",
       "    <tr>\n",
       "      <th>106</th>\n",
       "      <td>7767.0</td>\n",
       "      <td>0.0</td>\n",
       "      <td>0.0</td>\n",
       "      <td>0.0</td>\n",
       "      <td>64380.0</td>\n",
       "      <td>1972</td>\n",
       "    </tr>\n",
       "    <tr>\n",
       "      <th>134</th>\n",
       "      <td>8000.0</td>\n",
       "      <td>0.0</td>\n",
       "      <td>0.0</td>\n",
       "      <td>72.0</td>\n",
       "      <td>1757700.0</td>\n",
       "      <td>1922</td>\n",
       "    </tr>\n",
       "  </tbody>\n",
       "</table>\n",
       "</div>"
      ],
      "text/plain": [
       "     lotarea  strgearea  factryarea  bldgfront  assesstot  yearbuilt\n",
       "82    1840.0        0.0         0.0        0.0   478592.0       1972\n",
       "106   7767.0        0.0         0.0        0.0    64380.0       1972\n",
       "134   8000.0        0.0         0.0       72.0  1757700.0       1922"
      ]
     },
     "execution_count": 244,
     "metadata": {},
     "output_type": "execute_result"
    }
   ],
   "source": [
    "cont_cols_df.head(3)"
   ]
  },
  {
   "cell_type": "code",
   "execution_count": 245,
   "metadata": {},
   "outputs": [
    {
     "data": {
      "text/plain": [
       "3543"
      ]
     },
     "execution_count": 245,
     "metadata": {},
     "output_type": "execute_result"
    }
   ],
   "source": [
    "len(cont_cols_df)"
   ]
  },
  {
   "cell_type": "code",
   "execution_count": 246,
   "metadata": {},
   "outputs": [
    {
     "data": {
      "text/plain": [
       "3543"
      ]
     },
     "execution_count": 246,
     "metadata": {},
     "output_type": "execute_result"
    }
   ],
   "source": [
    "len(demo_cat)"
   ]
  },
  {
   "cell_type": "code",
   "execution_count": 247,
   "metadata": {},
   "outputs": [],
   "source": [
    "cont_cols_df = cont_cols_df.reset_index()"
   ]
  },
  {
   "cell_type": "code",
   "execution_count": 248,
   "metadata": {},
   "outputs": [
    {
     "data": {
      "text/html": [
       "<div>\n",
       "<style scoped>\n",
       "    .dataframe tbody tr th:only-of-type {\n",
       "        vertical-align: middle;\n",
       "    }\n",
       "\n",
       "    .dataframe tbody tr th {\n",
       "        vertical-align: top;\n",
       "    }\n",
       "\n",
       "    .dataframe thead th {\n",
       "        text-align: right;\n",
       "    }\n",
       "</style>\n",
       "<table border=\"1\" class=\"dataframe\">\n",
       "  <thead>\n",
       "    <tr style=\"text-align: right;\">\n",
       "      <th></th>\n",
       "      <th>index</th>\n",
       "      <th>lotarea</th>\n",
       "      <th>strgearea</th>\n",
       "      <th>factryarea</th>\n",
       "      <th>bldgfront</th>\n",
       "      <th>assesstot</th>\n",
       "      <th>yearbuilt</th>\n",
       "      <th>0</th>\n",
       "      <th>1</th>\n",
       "      <th>2</th>\n",
       "      <th>...</th>\n",
       "      <th>10</th>\n",
       "      <th>11</th>\n",
       "      <th>12</th>\n",
       "      <th>13</th>\n",
       "      <th>14</th>\n",
       "      <th>15</th>\n",
       "      <th>16</th>\n",
       "      <th>17</th>\n",
       "      <th>18</th>\n",
       "      <th>19</th>\n",
       "    </tr>\n",
       "  </thead>\n",
       "  <tbody>\n",
       "    <tr>\n",
       "      <th>0</th>\n",
       "      <td>82</td>\n",
       "      <td>1840.0</td>\n",
       "      <td>0.0</td>\n",
       "      <td>0.0</td>\n",
       "      <td>0.0</td>\n",
       "      <td>478592.0</td>\n",
       "      <td>1972</td>\n",
       "      <td>0.0</td>\n",
       "      <td>0.0</td>\n",
       "      <td>0.0</td>\n",
       "      <td>...</td>\n",
       "      <td>0.0</td>\n",
       "      <td>1.0</td>\n",
       "      <td>0.0</td>\n",
       "      <td>0.0</td>\n",
       "      <td>0.0</td>\n",
       "      <td>0.0</td>\n",
       "      <td>0.0</td>\n",
       "      <td>0.0</td>\n",
       "      <td>0.0</td>\n",
       "      <td>0.0</td>\n",
       "    </tr>\n",
       "    <tr>\n",
       "      <th>1</th>\n",
       "      <td>106</td>\n",
       "      <td>7767.0</td>\n",
       "      <td>0.0</td>\n",
       "      <td>0.0</td>\n",
       "      <td>0.0</td>\n",
       "      <td>64380.0</td>\n",
       "      <td>1972</td>\n",
       "      <td>1.0</td>\n",
       "      <td>0.0</td>\n",
       "      <td>0.0</td>\n",
       "      <td>...</td>\n",
       "      <td>0.0</td>\n",
       "      <td>1.0</td>\n",
       "      <td>0.0</td>\n",
       "      <td>0.0</td>\n",
       "      <td>0.0</td>\n",
       "      <td>0.0</td>\n",
       "      <td>0.0</td>\n",
       "      <td>0.0</td>\n",
       "      <td>0.0</td>\n",
       "      <td>0.0</td>\n",
       "    </tr>\n",
       "    <tr>\n",
       "      <th>2</th>\n",
       "      <td>134</td>\n",
       "      <td>8000.0</td>\n",
       "      <td>0.0</td>\n",
       "      <td>0.0</td>\n",
       "      <td>72.0</td>\n",
       "      <td>1757700.0</td>\n",
       "      <td>1922</td>\n",
       "      <td>0.0</td>\n",
       "      <td>0.0</td>\n",
       "      <td>0.0</td>\n",
       "      <td>...</td>\n",
       "      <td>0.0</td>\n",
       "      <td>1.0</td>\n",
       "      <td>0.0</td>\n",
       "      <td>0.0</td>\n",
       "      <td>0.0</td>\n",
       "      <td>0.0</td>\n",
       "      <td>0.0</td>\n",
       "      <td>1.0</td>\n",
       "      <td>0.0</td>\n",
       "      <td>0.0</td>\n",
       "    </tr>\n",
       "  </tbody>\n",
       "</table>\n",
       "<p>3 rows × 27 columns</p>\n",
       "</div>"
      ],
      "text/plain": [
       "   index  lotarea  strgearea  factryarea  bldgfront  assesstot  yearbuilt  \\\n",
       "0     82   1840.0        0.0         0.0        0.0   478592.0       1972   \n",
       "1    106   7767.0        0.0         0.0        0.0    64380.0       1972   \n",
       "2    134   8000.0        0.0         0.0       72.0  1757700.0       1922   \n",
       "\n",
       "     0    1    2  ...   10   11   12   13   14   15   16   17   18   19  \n",
       "0  0.0  0.0  0.0  ...  0.0  1.0  0.0  0.0  0.0  0.0  0.0  0.0  0.0  0.0  \n",
       "1  1.0  0.0  0.0  ...  0.0  1.0  0.0  0.0  0.0  0.0  0.0  0.0  0.0  0.0  \n",
       "2  0.0  0.0  0.0  ...  0.0  1.0  0.0  0.0  0.0  0.0  0.0  1.0  0.0  0.0  \n",
       "\n",
       "[3 rows x 27 columns]"
      ]
     },
     "execution_count": 248,
     "metadata": {},
     "output_type": "execute_result"
    }
   ],
   "source": [
    "df2 = cont_cols_df.merge(demo_cat, how='outer', left_index=True, right_index=True)\n",
    "df2.head(3)"
   ]
  },
  {
   "cell_type": "code",
   "execution_count": 249,
   "metadata": {},
   "outputs": [],
   "source": [
    "# now remove columns that had questionable p-values\n",
    "df2 = df2.drop(axis=1, columns=['factryarea', 'strgearea', 'assesstot'])"
   ]
  },
  {
   "cell_type": "code",
   "execution_count": 250,
   "metadata": {},
   "outputs": [
    {
     "data": {
      "text/plain": [
       "24"
      ]
     },
     "execution_count": 250,
     "metadata": {},
     "output_type": "execute_result"
    }
   ],
   "source": [
    "#checking number of columns\n",
    "# before one-hot encoding the columns were 'irrlotcode', 'overlay1', 'splitzone', 'ownertype', 'ext'\n",
    "\n",
    "len(df2.columns)"
   ]
  },
  {
   "cell_type": "code",
   "execution_count": 251,
   "metadata": {},
   "outputs": [],
   "source": [
    "# making a model using continous & some categorical variables\n",
    "X2 = df2\n",
    "y2 = demolished_buildings['lifespan']\n",
    "\n",
    "X_train2, X_test2, y_train2, y_test2 = train_test_split(X2, y2, test_size=0.33, random_state=12)"
   ]
  },
  {
   "cell_type": "code",
   "execution_count": 252,
   "metadata": {},
   "outputs": [
    {
     "name": "stdout",
     "output_type": "stream",
     "text": [
      "Accuracy Score  0.9241797548876822\n",
      "Coefficients  {'index': 0.0002899849857458769, 'lotarea': 1.0962005111218138e-06, 'bldgfront': 0.015443088853120814, 'yearbuilt': -1.0199042825636502, 0: 0.8115953955017192, 1: 2.168924652209751, 2: 0.067237252460712, 3: 1.1263289537269254, 4: -0.610157438267647, 5: 2.6166579718042215, 6: -4.786188702421436, 7: -3.7957110364419586, 8: -3.491915721897984, 9: 1.7833027032601287, 10: -1.2752679231840456, 11: -6.241680500584169, 12: -5.282062444200504, 13: -2.4661354609314947, 14: -4.256106074061737, 15: -13.67111229368357, 16: 0.1893464280529193, 17: 1.2286553693594837, 18: -5.127564117354963, 19: -2.280779870132502}\n",
      "P-Values Greater than 0.05 [(0, 0.055949995001861715), (1, 0.49523852943170665), (2, 0.10735711510093252), (3, 0.45383879727504306), (4, 0.6276564854778712), (5, 0.3611001260957446), (6, 0.06863229521798112), (8, 0.05225209380313934), (12, 0.07185100135705064), (13, 0.7115786454923033), (15, 0.2470695313420242)]\n",
      "Mean Squared Error  64.38704842332011\n",
      "Root Mean Squared Error  8.02415406278569\n",
      "R-Squared 0.9241797548876822\n",
      "Cross Validation Score  [0.92509469 0.91074622 0.9186826  0.93032679 0.92816291]\n"
     ]
    },
    {
     "data": {
      "text/html": [
       "<div>\n",
       "<style scoped>\n",
       "    .dataframe tbody tr th:only-of-type {\n",
       "        vertical-align: middle;\n",
       "    }\n",
       "\n",
       "    .dataframe tbody tr th {\n",
       "        vertical-align: top;\n",
       "    }\n",
       "\n",
       "    .dataframe thead th {\n",
       "        text-align: right;\n",
       "    }\n",
       "</style>\n",
       "<table border=\"1\" class=\"dataframe\">\n",
       "  <thead>\n",
       "    <tr style=\"text-align: right;\">\n",
       "      <th></th>\n",
       "      <th>Actual</th>\n",
       "      <th>Predicted</th>\n",
       "    </tr>\n",
       "  </thead>\n",
       "  <tbody>\n",
       "    <tr>\n",
       "      <th>36977</th>\n",
       "      <td>94</td>\n",
       "      <td>84.640673</td>\n",
       "    </tr>\n",
       "    <tr>\n",
       "      <th>35941</th>\n",
       "      <td>109</td>\n",
       "      <td>104.863987</td>\n",
       "    </tr>\n",
       "    <tr>\n",
       "      <th>33183</th>\n",
       "      <td>25</td>\n",
       "      <td>31.899380</td>\n",
       "    </tr>\n",
       "    <tr>\n",
       "      <th>13343</th>\n",
       "      <td>30</td>\n",
       "      <td>32.498119</td>\n",
       "    </tr>\n",
       "    <tr>\n",
       "      <th>21854</th>\n",
       "      <td>37</td>\n",
       "      <td>39.388207</td>\n",
       "    </tr>\n",
       "    <tr>\n",
       "      <th>...</th>\n",
       "      <td>...</td>\n",
       "      <td>...</td>\n",
       "    </tr>\n",
       "    <tr>\n",
       "      <th>26298</th>\n",
       "      <td>42</td>\n",
       "      <td>36.251321</td>\n",
       "    </tr>\n",
       "    <tr>\n",
       "      <th>37081</th>\n",
       "      <td>54</td>\n",
       "      <td>48.077464</td>\n",
       "    </tr>\n",
       "    <tr>\n",
       "      <th>10646</th>\n",
       "      <td>25</td>\n",
       "      <td>31.712878</td>\n",
       "    </tr>\n",
       "    <tr>\n",
       "      <th>35889</th>\n",
       "      <td>88</td>\n",
       "      <td>82.852960</td>\n",
       "    </tr>\n",
       "    <tr>\n",
       "      <th>10906</th>\n",
       "      <td>38</td>\n",
       "      <td>31.787261</td>\n",
       "    </tr>\n",
       "  </tbody>\n",
       "</table>\n",
       "<p>1170 rows × 2 columns</p>\n",
       "</div>"
      ],
      "text/plain": [
       "       Actual   Predicted\n",
       "36977      94   84.640673\n",
       "35941     109  104.863987\n",
       "33183      25   31.899380\n",
       "13343      30   32.498119\n",
       "21854      37   39.388207\n",
       "...       ...         ...\n",
       "26298      42   36.251321\n",
       "37081      54   48.077464\n",
       "10646      25   31.712878\n",
       "35889      88   82.852960\n",
       "10906      38   31.787261\n",
       "\n",
       "[1170 rows x 2 columns]"
      ]
     },
     "execution_count": 252,
     "metadata": {},
     "output_type": "execute_result"
    },
    {
     "data": {
      "image/png": "[encoded data removed]",
      "text/plain": [
       "<Figure size 432x288 with 1 Axes>"
      ]
     },
     "metadata": {
      "needs_background": "light"
     },
     "output_type": "display_data"
    }
   ],
   "source": [
    "linear_reg_model(X_train2, y_train2, X_test2, y_test2)"
   ]
  },
  {
   "cell_type": "markdown",
   "metadata": {},
   "source": [
    "__Comments__\n",
    "\n",
    "Model performance improved slightly with RMSE down to 8.0 and accuracy up to 92%. \n",
    "\n",
    "Most p-values are very small, negative numbers which means they are statistically significant. \n",
    "\n",
    "Because the model improved after taking out 'factryarea', 'strgearea', 'assesstot', we can conclude that these features did not have a significant impact on the model.\n",
    "\n",
    "Cross Validation confirms that the accuracy score of 0.92 is in the range of replicable scores.\n",
    "\n",
    "The residuals plot shows a pattern, so there is more information that can be gleaned from the data. The pattern can be addressed by one of the following:\n",
    "1. Independent variables may be missing, more variables can be included\n",
    "2. The model may perform better with a polynomial term.\n",
    "3. The model may perform better with an interaction term.\n",
    "\n",
    "Next iteration: include more categorical variables."
   ]
  },
  {
   "cell_type": "markdown",
   "metadata": {},
   "source": [
    "## Model 3A: Linear Regression (Best Model)"
   ]
  },
  {
   "cell_type": "markdown",
   "metadata": {},
   "source": [
    "### Using Mix of Continous & Categorical Variables"
   ]
  },
  {
   "cell_type": "code",
   "execution_count": 253,
   "metadata": {},
   "outputs": [],
   "source": [
    "infile = open('data/pickles/demo_cat2.pickle', 'rb')\n",
    "demo_cat2 = pickle.load(infile)\n",
    "infile.close()"
   ]
  },
  {
   "cell_type": "code",
   "execution_count": 254,
   "metadata": {},
   "outputs": [
    {
     "data": {
      "text/plain": [
       "3543"
      ]
     },
     "execution_count": 254,
     "metadata": {},
     "output_type": "execute_result"
    }
   ],
   "source": [
    "len(cont_cols_df)"
   ]
  },
  {
   "cell_type": "code",
   "execution_count": 255,
   "metadata": {},
   "outputs": [
    {
     "data": {
      "text/plain": [
       "3543"
      ]
     },
     "execution_count": 255,
     "metadata": {},
     "output_type": "execute_result"
    }
   ],
   "source": [
    "len(demo_cat2)"
   ]
  },
  {
   "cell_type": "code",
   "execution_count": 256,
   "metadata": {},
   "outputs": [],
   "source": [
    "cont_cols_df = cont_cols_df.reset_index()"
   ]
  },
  {
   "cell_type": "code",
   "execution_count": 257,
   "metadata": {},
   "outputs": [
    {
     "data": {
      "text/html": [
       "<div>\n",
       "<style scoped>\n",
       "    .dataframe tbody tr th:only-of-type {\n",
       "        vertical-align: middle;\n",
       "    }\n",
       "\n",
       "    .dataframe tbody tr th {\n",
       "        vertical-align: top;\n",
       "    }\n",
       "\n",
       "    .dataframe thead th {\n",
       "        text-align: right;\n",
       "    }\n",
       "</style>\n",
       "<table border=\"1\" class=\"dataframe\">\n",
       "  <thead>\n",
       "    <tr style=\"text-align: right;\">\n",
       "      <th></th>\n",
       "      <th>level_0</th>\n",
       "      <th>index</th>\n",
       "      <th>lotarea</th>\n",
       "      <th>strgearea</th>\n",
       "      <th>factryarea</th>\n",
       "      <th>bldgfront</th>\n",
       "      <th>assesstot</th>\n",
       "      <th>yearbuilt</th>\n",
       "      <th>0</th>\n",
       "      <th>1</th>\n",
       "      <th>...</th>\n",
       "      <th>42</th>\n",
       "      <th>43</th>\n",
       "      <th>44</th>\n",
       "      <th>45</th>\n",
       "      <th>46</th>\n",
       "      <th>47</th>\n",
       "      <th>48</th>\n",
       "      <th>49</th>\n",
       "      <th>50</th>\n",
       "      <th>51</th>\n",
       "    </tr>\n",
       "  </thead>\n",
       "  <tbody>\n",
       "    <tr>\n",
       "      <th>0</th>\n",
       "      <td>0</td>\n",
       "      <td>82</td>\n",
       "      <td>1840.0</td>\n",
       "      <td>0.0</td>\n",
       "      <td>0.0</td>\n",
       "      <td>0.0</td>\n",
       "      <td>478592.0</td>\n",
       "      <td>1972</td>\n",
       "      <td>0.0</td>\n",
       "      <td>0.0</td>\n",
       "      <td>...</td>\n",
       "      <td>0.0</td>\n",
       "      <td>0.0</td>\n",
       "      <td>0.0</td>\n",
       "      <td>0.0</td>\n",
       "      <td>1.0</td>\n",
       "      <td>0.0</td>\n",
       "      <td>0.0</td>\n",
       "      <td>0.0</td>\n",
       "      <td>0.0</td>\n",
       "      <td>0.0</td>\n",
       "    </tr>\n",
       "    <tr>\n",
       "      <th>1</th>\n",
       "      <td>1</td>\n",
       "      <td>106</td>\n",
       "      <td>7767.0</td>\n",
       "      <td>0.0</td>\n",
       "      <td>0.0</td>\n",
       "      <td>0.0</td>\n",
       "      <td>64380.0</td>\n",
       "      <td>1972</td>\n",
       "      <td>1.0</td>\n",
       "      <td>0.0</td>\n",
       "      <td>...</td>\n",
       "      <td>0.0</td>\n",
       "      <td>0.0</td>\n",
       "      <td>0.0</td>\n",
       "      <td>1.0</td>\n",
       "      <td>0.0</td>\n",
       "      <td>0.0</td>\n",
       "      <td>0.0</td>\n",
       "      <td>0.0</td>\n",
       "      <td>0.0</td>\n",
       "      <td>0.0</td>\n",
       "    </tr>\n",
       "    <tr>\n",
       "      <th>2</th>\n",
       "      <td>2</td>\n",
       "      <td>134</td>\n",
       "      <td>8000.0</td>\n",
       "      <td>0.0</td>\n",
       "      <td>0.0</td>\n",
       "      <td>72.0</td>\n",
       "      <td>1757700.0</td>\n",
       "      <td>1922</td>\n",
       "      <td>0.0</td>\n",
       "      <td>0.0</td>\n",
       "      <td>...</td>\n",
       "      <td>0.0</td>\n",
       "      <td>0.0</td>\n",
       "      <td>0.0</td>\n",
       "      <td>0.0</td>\n",
       "      <td>1.0</td>\n",
       "      <td>0.0</td>\n",
       "      <td>0.0</td>\n",
       "      <td>0.0</td>\n",
       "      <td>0.0</td>\n",
       "      <td>0.0</td>\n",
       "    </tr>\n",
       "  </tbody>\n",
       "</table>\n",
       "<p>3 rows × 60 columns</p>\n",
       "</div>"
      ],
      "text/plain": [
       "   level_0  index  lotarea  strgearea  factryarea  bldgfront  assesstot  \\\n",
       "0        0     82   1840.0        0.0         0.0        0.0   478592.0   \n",
       "1        1    106   7767.0        0.0         0.0        0.0    64380.0   \n",
       "2        2    134   8000.0        0.0         0.0       72.0  1757700.0   \n",
       "\n",
       "   yearbuilt    0    1  ...   42   43   44   45   46   47   48   49   50   51  \n",
       "0       1972  0.0  0.0  ...  0.0  0.0  0.0  0.0  1.0  0.0  0.0  0.0  0.0  0.0  \n",
       "1       1972  1.0  0.0  ...  0.0  0.0  0.0  1.0  0.0  0.0  0.0  0.0  0.0  0.0  \n",
       "2       1922  0.0  0.0  ...  0.0  0.0  0.0  0.0  1.0  0.0  0.0  0.0  0.0  0.0  \n",
       "\n",
       "[3 rows x 60 columns]"
      ]
     },
     "execution_count": 257,
     "metadata": {},
     "output_type": "execute_result"
    }
   ],
   "source": [
    "df3 = cont_cols_df.merge(demo_cat2, how='outer', left_index=True, right_index=True)\n",
    "df3.head(3)"
   ]
  },
  {
   "cell_type": "code",
   "execution_count": 258,
   "metadata": {},
   "outputs": [],
   "source": [
    "# now remove columns that had questionable p-values\n",
    "df3 = df3.drop(axis=1, columns=['factryarea', 'strgearea', 'assesstot'])"
   ]
  },
  {
   "cell_type": "code",
   "execution_count": 259,
   "metadata": {},
   "outputs": [
    {
     "data": {
      "text/plain": [
       "57"
      ]
     },
     "execution_count": 259,
     "metadata": {},
     "output_type": "execute_result"
    }
   ],
   "source": [
    "#checking number of columns\n",
    "len(df3.columns)"
   ]
  },
  {
   "cell_type": "code",
   "execution_count": 260,
   "metadata": {},
   "outputs": [],
   "source": [
    "# making a model using continous & some categorical variables\n",
    "X3 = df3\n",
    "y3 = demolished_buildings['lifespan']\n",
    "\n",
    "X_train3, X_test3, y_train3, y_test3 = train_test_split(X3, y3, test_size=0.33, random_state=12)"
   ]
  },
  {
   "cell_type": "code",
   "execution_count": 261,
   "metadata": {},
   "outputs": [
    {
     "name": "stdout",
     "output_type": "stream",
     "text": [
      "Accuracy Score  0.9429043189570672\n",
      "Coefficients  {'level_0': 0.021938934129831705, 'index': -0.0015563042564456127, 'lotarea': -2.3115872165935594e-07, 'bldgfront': 0.01477934288813021, 'yearbuilt': -0.9972418860397917, 0: 0.8739190332257893, 1: 2.929671314498023, 2: 1.7711314737470127, 3: 3.024851355943456, 4: 1.6388840319667302, 5: 3.88950215164186, 6: -1.6407273040579833, 7: -1.9026249448146586, 8: 0.9284004743524263, 9: 0.47615546060584124, 10: 0.22609167774765593, 11: -2.1094122473741312, 12: -1.9205560619332556, 13: -0.7695308936892115, 14: -4.215509771937163, 15: -10.7919277517103, 16: 0.5318051608833474, 17: 0.540463494748785, 18: -1.2086384712554312, 19: -0.8334463420172895, 20: -7.927724339030746, 21: -8.743278294006565, 22: 1.7763568394002505e-15, 23: 2.5819255407879877, 24: -4.247464133991277, 25: -5.49740514670352, 26: -4.843720231151975, 27: -1.5568887494691859, 28: -1.8917456525808458, 29: -3.7817288623017826, 30: -4.020261867905617, 31: -2.631489980912823, 32: 4.244667215411749, 33: -0.25655061861510214, 34: -4.696367785907409, 35: -6.879150169298994, 36: 0.7644046900506556, 37: 0.9160350584469179, 38: 0.7814718100983323, 39: -0.69695828921004, 40: -0.37937885795997295, 41: 0.06613096605080815, 42: -0.9478808904909991, 43: 6.170891531083975, 44: 1.998538733161784, 45: -4.420749098187927, 46: -0.2827997194079036, 47: -3.5812175268718525, 48: 4.254798035160439, 49: 0.16285357438754286, 50: 3.7590211223349907, 51: 2.900847535350631}\n",
      "P-Values Greater than 0.05 [(0, 0.055949995001861715), (1, 0.49523852943170665), (2, 0.10735711510093252), (3, 0.45383879727504306), (4, 0.6276564854778712), (5, 0.3611001260957446), (6, 0.06863229521798112), (8, 0.05225209380313934), (12, 0.07185100135705064), (13, 0.7115786454923033), (15, 0.2470695313420242), (21, 0.4676499124417647), (23, 0.9449340118304432), (30, 0.3302066730173545), (32, 0.4605633386844876), (33, 0.09130433115060123), (34, 0.3337962779864635), (35, 0.8998857938931115), (36, 0.36027863457851717), (38, 0.48152589416877356), (40, 0.561710757425429), (44, 0.12143123850238134), (47, 0.11281610421550263), (48, 0.857127364482397), (49, 0.10593786107165847), (50, 0.5650994857732441), (51, 0.44915531200737)]\n",
      "Mean Squared Error  48.48602605581017\n",
      "Root Mean Squared Error  6.963190795591499\n",
      "R-Squared 0.9429043189570672\n",
      "Cross Validation Score  [0.93644922 0.93592586 0.93538664 0.94236348 0.94456936]\n"
     ]
    },
    {
     "name": "stderr",
     "output_type": "stream",
     "text": [
      "/opt/anaconda3/envs/capstone_env/lib/python3.8/site-packages/sklearn/feature_selection/_univariate_selection.py:302: RuntimeWarning: invalid value encountered in true_divide\n",
      "  corr /= X_norms\n"
     ]
    },
    {
     "data": {
      "text/html": [
       "<div>\n",
       "<style scoped>\n",
       "    .dataframe tbody tr th:only-of-type {\n",
       "        vertical-align: middle;\n",
       "    }\n",
       "\n",
       "    .dataframe tbody tr th {\n",
       "        vertical-align: top;\n",
       "    }\n",
       "\n",
       "    .dataframe thead th {\n",
       "        text-align: right;\n",
       "    }\n",
       "</style>\n",
       "<table border=\"1\" class=\"dataframe\">\n",
       "  <thead>\n",
       "    <tr style=\"text-align: right;\">\n",
       "      <th></th>\n",
       "      <th>Actual</th>\n",
       "      <th>Predicted</th>\n",
       "    </tr>\n",
       "  </thead>\n",
       "  <tbody>\n",
       "    <tr>\n",
       "      <th>36977</th>\n",
       "      <td>94</td>\n",
       "      <td>91.885731</td>\n",
       "    </tr>\n",
       "    <tr>\n",
       "      <th>35941</th>\n",
       "      <td>109</td>\n",
       "      <td>103.365252</td>\n",
       "    </tr>\n",
       "    <tr>\n",
       "      <th>33183</th>\n",
       "      <td>25</td>\n",
       "      <td>32.531279</td>\n",
       "    </tr>\n",
       "    <tr>\n",
       "      <th>13343</th>\n",
       "      <td>30</td>\n",
       "      <td>34.029748</td>\n",
       "    </tr>\n",
       "    <tr>\n",
       "      <th>21854</th>\n",
       "      <td>37</td>\n",
       "      <td>35.255557</td>\n",
       "    </tr>\n",
       "    <tr>\n",
       "      <th>...</th>\n",
       "      <td>...</td>\n",
       "      <td>...</td>\n",
       "    </tr>\n",
       "    <tr>\n",
       "      <th>26298</th>\n",
       "      <td>42</td>\n",
       "      <td>33.871031</td>\n",
       "    </tr>\n",
       "    <tr>\n",
       "      <th>37081</th>\n",
       "      <td>54</td>\n",
       "      <td>55.142326</td>\n",
       "    </tr>\n",
       "    <tr>\n",
       "      <th>10646</th>\n",
       "      <td>25</td>\n",
       "      <td>28.599410</td>\n",
       "    </tr>\n",
       "    <tr>\n",
       "      <th>35889</th>\n",
       "      <td>88</td>\n",
       "      <td>77.513050</td>\n",
       "    </tr>\n",
       "    <tr>\n",
       "      <th>10906</th>\n",
       "      <td>38</td>\n",
       "      <td>36.909482</td>\n",
       "    </tr>\n",
       "  </tbody>\n",
       "</table>\n",
       "<p>1170 rows × 2 columns</p>\n",
       "</div>"
      ],
      "text/plain": [
       "       Actual   Predicted\n",
       "36977      94   91.885731\n",
       "35941     109  103.365252\n",
       "33183      25   32.531279\n",
       "13343      30   34.029748\n",
       "21854      37   35.255557\n",
       "...       ...         ...\n",
       "26298      42   33.871031\n",
       "37081      54   55.142326\n",
       "10646      25   28.599410\n",
       "35889      88   77.513050\n",
       "10906      38   36.909482\n",
       "\n",
       "[1170 rows x 2 columns]"
      ]
     },
     "execution_count": 261,
     "metadata": {},
     "output_type": "execute_result"
    },
    {
     "data": {
      "image/png": "[encoded data removed]",
      "text/plain": [
       "<Figure size 432x288 with 1 Axes>"
      ]
     },
     "metadata": {
      "needs_background": "light"
     },
     "output_type": "display_data"
    }
   ],
   "source": [
    "linear_reg_model(X_train3, y_train3, X_test3, y_test3)"
   ]
  },
  {
   "cell_type": "markdown",
   "metadata": {},
   "source": [
    "__Comments__\n",
    "\n",
    "This model performed very well at 94% accuracy with a RMSE of 6.9. \n",
    "\n",
    "This means that the predictions are within 7 years of the actual value in either direction. This is useful.\n",
    "\n",
    "The residuals plot still shows a pattern. All possible features have been included, so the next potential steps include interactions and polynomial regression."
   ]
  },
  {
   "cell_type": "markdown",
   "metadata": {},
   "source": [
    "## Model 3B: Linear Regression (including questionable features)"
   ]
  },
  {
   "cell_type": "markdown",
   "metadata": {},
   "source": [
    "### In this model, keeping columns 'factryarea', 'strgearea', 'assesstot'"
   ]
  },
  {
   "cell_type": "code",
   "execution_count": 262,
   "metadata": {},
   "outputs": [],
   "source": [
    "infile = open('data/pickles/demo_cat2.pickle', 'rb')\n",
    "demo_cat2 = pickle.load(infile)\n",
    "infile.close()"
   ]
  },
  {
   "cell_type": "code",
   "execution_count": 263,
   "metadata": {},
   "outputs": [
    {
     "data": {
      "text/plain": [
       "3543"
      ]
     },
     "execution_count": 263,
     "metadata": {},
     "output_type": "execute_result"
    }
   ],
   "source": [
    "len(cont_cols_df)"
   ]
  },
  {
   "cell_type": "code",
   "execution_count": 264,
   "metadata": {},
   "outputs": [
    {
     "data": {
      "text/plain": [
       "3543"
      ]
     },
     "execution_count": 264,
     "metadata": {},
     "output_type": "execute_result"
    }
   ],
   "source": [
    "len(demo_cat2)"
   ]
  },
  {
   "cell_type": "code",
   "execution_count": 265,
   "metadata": {},
   "outputs": [
    {
     "data": {
      "text/html": [
       "<div>\n",
       "<style scoped>\n",
       "    .dataframe tbody tr th:only-of-type {\n",
       "        vertical-align: middle;\n",
       "    }\n",
       "\n",
       "    .dataframe tbody tr th {\n",
       "        vertical-align: top;\n",
       "    }\n",
       "\n",
       "    .dataframe thead th {\n",
       "        text-align: right;\n",
       "    }\n",
       "</style>\n",
       "<table border=\"1\" class=\"dataframe\">\n",
       "  <thead>\n",
       "    <tr style=\"text-align: right;\">\n",
       "      <th></th>\n",
       "      <th>level_0</th>\n",
       "      <th>index</th>\n",
       "      <th>lotarea</th>\n",
       "      <th>strgearea</th>\n",
       "      <th>factryarea</th>\n",
       "      <th>bldgfront</th>\n",
       "      <th>assesstot</th>\n",
       "      <th>yearbuilt</th>\n",
       "      <th>0</th>\n",
       "      <th>1</th>\n",
       "      <th>...</th>\n",
       "      <th>42</th>\n",
       "      <th>43</th>\n",
       "      <th>44</th>\n",
       "      <th>45</th>\n",
       "      <th>46</th>\n",
       "      <th>47</th>\n",
       "      <th>48</th>\n",
       "      <th>49</th>\n",
       "      <th>50</th>\n",
       "      <th>51</th>\n",
       "    </tr>\n",
       "  </thead>\n",
       "  <tbody>\n",
       "    <tr>\n",
       "      <th>0</th>\n",
       "      <td>0</td>\n",
       "      <td>82</td>\n",
       "      <td>1840.0</td>\n",
       "      <td>0.0</td>\n",
       "      <td>0.0</td>\n",
       "      <td>0.0</td>\n",
       "      <td>478592.0</td>\n",
       "      <td>1972</td>\n",
       "      <td>0.0</td>\n",
       "      <td>0.0</td>\n",
       "      <td>...</td>\n",
       "      <td>0.0</td>\n",
       "      <td>0.0</td>\n",
       "      <td>0.0</td>\n",
       "      <td>0.0</td>\n",
       "      <td>1.0</td>\n",
       "      <td>0.0</td>\n",
       "      <td>0.0</td>\n",
       "      <td>0.0</td>\n",
       "      <td>0.0</td>\n",
       "      <td>0.0</td>\n",
       "    </tr>\n",
       "    <tr>\n",
       "      <th>1</th>\n",
       "      <td>1</td>\n",
       "      <td>106</td>\n",
       "      <td>7767.0</td>\n",
       "      <td>0.0</td>\n",
       "      <td>0.0</td>\n",
       "      <td>0.0</td>\n",
       "      <td>64380.0</td>\n",
       "      <td>1972</td>\n",
       "      <td>1.0</td>\n",
       "      <td>0.0</td>\n",
       "      <td>...</td>\n",
       "      <td>0.0</td>\n",
       "      <td>0.0</td>\n",
       "      <td>0.0</td>\n",
       "      <td>1.0</td>\n",
       "      <td>0.0</td>\n",
       "      <td>0.0</td>\n",
       "      <td>0.0</td>\n",
       "      <td>0.0</td>\n",
       "      <td>0.0</td>\n",
       "      <td>0.0</td>\n",
       "    </tr>\n",
       "    <tr>\n",
       "      <th>2</th>\n",
       "      <td>2</td>\n",
       "      <td>134</td>\n",
       "      <td>8000.0</td>\n",
       "      <td>0.0</td>\n",
       "      <td>0.0</td>\n",
       "      <td>72.0</td>\n",
       "      <td>1757700.0</td>\n",
       "      <td>1922</td>\n",
       "      <td>0.0</td>\n",
       "      <td>0.0</td>\n",
       "      <td>...</td>\n",
       "      <td>0.0</td>\n",
       "      <td>0.0</td>\n",
       "      <td>0.0</td>\n",
       "      <td>0.0</td>\n",
       "      <td>1.0</td>\n",
       "      <td>0.0</td>\n",
       "      <td>0.0</td>\n",
       "      <td>0.0</td>\n",
       "      <td>0.0</td>\n",
       "      <td>0.0</td>\n",
       "    </tr>\n",
       "  </tbody>\n",
       "</table>\n",
       "<p>3 rows × 60 columns</p>\n",
       "</div>"
      ],
      "text/plain": [
       "   level_0  index  lotarea  strgearea  factryarea  bldgfront  assesstot  \\\n",
       "0        0     82   1840.0        0.0         0.0        0.0   478592.0   \n",
       "1        1    106   7767.0        0.0         0.0        0.0    64380.0   \n",
       "2        2    134   8000.0        0.0         0.0       72.0  1757700.0   \n",
       "\n",
       "   yearbuilt    0    1  ...   42   43   44   45   46   47   48   49   50   51  \n",
       "0       1972  0.0  0.0  ...  0.0  0.0  0.0  0.0  1.0  0.0  0.0  0.0  0.0  0.0  \n",
       "1       1972  1.0  0.0  ...  0.0  0.0  0.0  1.0  0.0  0.0  0.0  0.0  0.0  0.0  \n",
       "2       1922  0.0  0.0  ...  0.0  0.0  0.0  0.0  1.0  0.0  0.0  0.0  0.0  0.0  \n",
       "\n",
       "[3 rows x 60 columns]"
      ]
     },
     "execution_count": 265,
     "metadata": {},
     "output_type": "execute_result"
    }
   ],
   "source": [
    "df4 = cont_cols_df.merge(demo_cat2, how='outer', left_index=True, right_index=True)\n",
    "df4.head(3)"
   ]
  },
  {
   "cell_type": "code",
   "execution_count": 266,
   "metadata": {},
   "outputs": [
    {
     "data": {
      "text/plain": [
       "60"
      ]
     },
     "execution_count": 266,
     "metadata": {},
     "output_type": "execute_result"
    }
   ],
   "source": [
    "#checking number of columns\n",
    "len(df4.columns)"
   ]
  },
  {
   "cell_type": "code",
   "execution_count": 267,
   "metadata": {},
   "outputs": [],
   "source": [
    "# making a model using continous & some categorical variables\n",
    "X4 = df4\n",
    "y4 = demolished_buildings['lifespan']\n",
    "\n",
    "X_train4, X_test4, y_train4, y_test4 = train_test_split(X4, y4, test_size=0.33, random_state=12)"
   ]
  },
  {
   "cell_type": "code",
   "execution_count": 268,
   "metadata": {},
   "outputs": [
    {
     "name": "stdout",
     "output_type": "stream",
     "text": [
      "Accuracy Score  0.9430154387275055\n",
      "Coefficients  {'level_0': 0.021805857305733783, 'index': -0.0015447009848966618, 'lotarea': 2.4990008743223067e-08, 'strgearea': -9.21812601334057e-06, 'factryarea': -2.4818771725201028e-05, 'bldgfront': 0.01766270689883198, 'assesstot': -2.684382446882516e-08, 'yearbuilt': -0.9970215421498361, 0: 0.8678331678046987, 1: 2.9387457436126434, 2: 1.7947819974475725, 3: 3.011033221151226, 4: 1.6533483274366536, 5: 3.8594643124432833, 6: -1.6839620663658694, 7: -1.8683992972283938, 8: 0.9319129318672404, 9: 0.4849732436637907, 10: 0.20093373109593105, 11: -2.111978043641298, 12: -1.950355450504079, 13: -0.6243681200899361, 14: -4.243735173566778, 15: -10.877901748705742, 16: 0.4749940531579895, 17: 0.45151152209624135, 18: -1.2861844126248412, 19: -0.9302499699044777, 20: -8.021321382923475, 21: -8.672130224485251, 22: -1.865174681370263e-14, 23: 2.7897718309153645, 24: -4.2766791835302955, 25: -5.528881510484464, 26: -4.703924029049647, 27: -1.5290775923537465, 28: -1.801983035127615, 29: -3.584147342838855, 30: -4.097240923025395, 31: -2.536003350317251, 32: 4.13201798070399, 33: -0.08374568240953809, 34: -4.950952901633083, 35: -7.150901189264278, 36: 0.7176312672349864, 37: 1.164693538969213, 38: 0.7013091500760404, 39: -0.7013791395969582, 40: -0.40923288921487555, 41: 0.07099995468736102, 42: -0.959066084849985, 43: 6.167766164905155, 44: 1.903335562288274, 45: -4.478572152241049, 46: -0.29001176843832455, 47: -3.5882402444848864, 48: 4.294490671019433, 49: 0.12139121800850969, 50: 3.8528947172622154, 51: 2.747488838710583}\n",
      "P-Values Greater than 0.05 [('strgearea', 0.11552716074567967), ('assesstot', 0.3608876591422222), (0, 0.055949995001861715), (1, 0.49523852943170665), (2, 0.10735711510093252), (3, 0.45383879727504306), (4, 0.6276564854778712), (5, 0.3611001260957446), (6, 0.06863229521798112), (8, 0.05225209380313934), (12, 0.07185100135705064), (13, 0.7115786454923033), (15, 0.2470695313420242), (21, 0.4676499124417647), (23, 0.9449340118304432), (30, 0.3302066730173545), (32, 0.4605633386844876), (33, 0.09130433115060123), (34, 0.3337962779864635), (35, 0.8998857938931115), (36, 0.36027863457851717), (38, 0.48152589416877356), (40, 0.561710757425429), (44, 0.12143123850238134), (47, 0.11281610421550263), (48, 0.857127364482397), (49, 0.10593786107165847), (50, 0.5650994857732441), (51, 0.44915531200737)]\n",
      "Mean Squared Error  48.39166241943043\n",
      "Root Mean Squared Error  6.956411605089971\n",
      "R-Squared 0.9430154387275055\n",
      "Cross Validation Score  [0.93660777 0.93618484 0.93587757 0.94236466 0.94456619]\n"
     ]
    },
    {
     "name": "stderr",
     "output_type": "stream",
     "text": [
      "/opt/anaconda3/envs/capstone_env/lib/python3.8/site-packages/sklearn/feature_selection/_univariate_selection.py:302: RuntimeWarning: invalid value encountered in true_divide\n",
      "  corr /= X_norms\n"
     ]
    },
    {
     "data": {
      "text/html": [
       "<div>\n",
       "<style scoped>\n",
       "    .dataframe tbody tr th:only-of-type {\n",
       "        vertical-align: middle;\n",
       "    }\n",
       "\n",
       "    .dataframe tbody tr th {\n",
       "        vertical-align: top;\n",
       "    }\n",
       "\n",
       "    .dataframe thead th {\n",
       "        text-align: right;\n",
       "    }\n",
       "</style>\n",
       "<table border=\"1\" class=\"dataframe\">\n",
       "  <thead>\n",
       "    <tr style=\"text-align: right;\">\n",
       "      <th></th>\n",
       "      <th>Actual</th>\n",
       "      <th>Predicted</th>\n",
       "    </tr>\n",
       "  </thead>\n",
       "  <tbody>\n",
       "    <tr>\n",
       "      <th>36977</th>\n",
       "      <td>94</td>\n",
       "      <td>91.820145</td>\n",
       "    </tr>\n",
       "    <tr>\n",
       "      <th>35941</th>\n",
       "      <td>109</td>\n",
       "      <td>103.394809</td>\n",
       "    </tr>\n",
       "    <tr>\n",
       "      <th>33183</th>\n",
       "      <td>25</td>\n",
       "      <td>32.821729</td>\n",
       "    </tr>\n",
       "    <tr>\n",
       "      <th>13343</th>\n",
       "      <td>30</td>\n",
       "      <td>34.052913</td>\n",
       "    </tr>\n",
       "    <tr>\n",
       "      <th>21854</th>\n",
       "      <td>37</td>\n",
       "      <td>35.263679</td>\n",
       "    </tr>\n",
       "    <tr>\n",
       "      <th>...</th>\n",
       "      <td>...</td>\n",
       "      <td>...</td>\n",
       "    </tr>\n",
       "    <tr>\n",
       "      <th>26298</th>\n",
       "      <td>42</td>\n",
       "      <td>33.872876</td>\n",
       "    </tr>\n",
       "    <tr>\n",
       "      <th>37081</th>\n",
       "      <td>54</td>\n",
       "      <td>55.143007</td>\n",
       "    </tr>\n",
       "    <tr>\n",
       "      <th>10646</th>\n",
       "      <td>25</td>\n",
       "      <td>28.543318</td>\n",
       "    </tr>\n",
       "    <tr>\n",
       "      <th>35889</th>\n",
       "      <td>88</td>\n",
       "      <td>77.563356</td>\n",
       "    </tr>\n",
       "    <tr>\n",
       "      <th>10906</th>\n",
       "      <td>38</td>\n",
       "      <td>36.925158</td>\n",
       "    </tr>\n",
       "  </tbody>\n",
       "</table>\n",
       "<p>1170 rows × 2 columns</p>\n",
       "</div>"
      ],
      "text/plain": [
       "       Actual   Predicted\n",
       "36977      94   91.820145\n",
       "35941     109  103.394809\n",
       "33183      25   32.821729\n",
       "13343      30   34.052913\n",
       "21854      37   35.263679\n",
       "...       ...         ...\n",
       "26298      42   33.872876\n",
       "37081      54   55.143007\n",
       "10646      25   28.543318\n",
       "35889      88   77.563356\n",
       "10906      38   36.925158\n",
       "\n",
       "[1170 rows x 2 columns]"
      ]
     },
     "execution_count": 268,
     "metadata": {},
     "output_type": "execute_result"
    },
    {
     "data": {
      "image/png": "[encoded data removed]",
      "text/plain": [
       "<Figure size 432x288 with 1 Axes>"
      ]
     },
     "metadata": {
      "needs_background": "light"
     },
     "output_type": "display_data"
    }
   ],
   "source": [
    "linear_reg_model(X_train4, y_train4, X_test4, y_test4)"
   ]
  },
  {
   "cell_type": "markdown",
   "metadata": {},
   "source": [
    "__Comments__\n",
    "\n",
    "This model performed the same as the prior model, indicating that features 'factryarea', 'strgearea', 'assesstot' have no meaningful impact on the model. "
   ]
  },
  {
   "cell_type": "markdown",
   "metadata": {},
   "source": [
    "## Model 3C: Linear Regression (Limited Features) - BEST MODEL"
   ]
  },
  {
   "cell_type": "markdown",
   "metadata": {},
   "source": [
    "### Using all features with a P-value below 0.05"
   ]
  },
  {
   "cell_type": "code",
   "execution_count": 269,
   "metadata": {},
   "outputs": [
    {
     "ename": "KeyError",
     "evalue": "'[52] not found in axis'",
     "output_type": "error",
     "traceback": [
      "\u001b[0;31m---------------------------------------------------------------------------\u001b[0m",
      "\u001b[0;31mKeyError\u001b[0m                                  Traceback (most recent call last)",
      "\u001b[0;32m<ipython-input-269-67ef8da774fc>\u001b[0m in \u001b[0;36m<module>\u001b[0;34m\u001b[0m\n\u001b[1;32m      7\u001b[0m \u001b[0;34m\u001b[0m\u001b[0m\n\u001b[1;32m      8\u001b[0m \u001b[0;31m# removing columns that had questionable p-values\u001b[0m\u001b[0;34m\u001b[0m\u001b[0;34m\u001b[0m\u001b[0;34m\u001b[0m\u001b[0m\n\u001b[0;32m----> 9\u001b[0;31m df3C = df3C.drop(axis=1, columns=['factryarea', 'strgearea', 'assesstot', 2, 3, 5, 7, 8, 11, \n\u001b[0m\u001b[1;32m     10\u001b[0m                                   \u001b[0;36m12\u001b[0m\u001b[0;34m,\u001b[0m \u001b[0;36m14\u001b[0m\u001b[0;34m,\u001b[0m \u001b[0;36m15\u001b[0m\u001b[0;34m,\u001b[0m \u001b[0;36m18\u001b[0m\u001b[0;34m,\u001b[0m \u001b[0;36m19\u001b[0m\u001b[0;34m,\u001b[0m \u001b[0;36m20\u001b[0m\u001b[0;34m,\u001b[0m \u001b[0;36m21\u001b[0m\u001b[0;34m,\u001b[0m \u001b[0;36m22\u001b[0m\u001b[0;34m,\u001b[0m \u001b[0;36m23\u001b[0m\u001b[0;34m,\u001b[0m \u001b[0;36m25\u001b[0m\u001b[0;34m,\u001b[0m \u001b[0;36m32\u001b[0m\u001b[0;34m,\u001b[0m \u001b[0;36m34\u001b[0m\u001b[0;34m,\u001b[0m \u001b[0;36m35\u001b[0m\u001b[0;34m,\u001b[0m \u001b[0;36m39\u001b[0m\u001b[0;34m,\u001b[0m \u001b[0;36m42\u001b[0m\u001b[0;34m,\u001b[0m\u001b[0;34m\u001b[0m\u001b[0;34m\u001b[0m\u001b[0m\n\u001b[1;32m     11\u001b[0m                                   44, 49, 50, 51, 52])\n",
      "\u001b[0;32m/opt/anaconda3/envs/capstone_env/lib/python3.8/site-packages/pandas/core/frame.py\u001b[0m in \u001b[0;36mdrop\u001b[0;34m(self, labels, axis, index, columns, level, inplace, errors)\u001b[0m\n\u001b[1;32m   4155\u001b[0m                 \u001b[0mweight\u001b[0m  \u001b[0;36m1.0\u001b[0m     \u001b[0;36m0.8\u001b[0m\u001b[0;34m\u001b[0m\u001b[0;34m\u001b[0m\u001b[0m\n\u001b[1;32m   4156\u001b[0m         \"\"\"\n\u001b[0;32m-> 4157\u001b[0;31m         return super().drop(\n\u001b[0m\u001b[1;32m   4158\u001b[0m             \u001b[0mlabels\u001b[0m\u001b[0;34m=\u001b[0m\u001b[0mlabels\u001b[0m\u001b[0;34m,\u001b[0m\u001b[0;34m\u001b[0m\u001b[0;34m\u001b[0m\u001b[0m\n\u001b[1;32m   4159\u001b[0m             \u001b[0maxis\u001b[0m\u001b[0;34m=\u001b[0m\u001b[0maxis\u001b[0m\u001b[0;34m,\u001b[0m\u001b[0;34m\u001b[0m\u001b[0;34m\u001b[0m\u001b[0m\n",
      "\u001b[0;32m/opt/anaconda3/envs/capstone_env/lib/python3.8/site-packages/pandas/core/generic.py\u001b[0m in \u001b[0;36mdrop\u001b[0;34m(self, labels, axis, index, columns, level, inplace, errors)\u001b[0m\n\u001b[1;32m   3876\u001b[0m         \u001b[0;32mfor\u001b[0m \u001b[0maxis\u001b[0m\u001b[0;34m,\u001b[0m \u001b[0mlabels\u001b[0m \u001b[0;32min\u001b[0m \u001b[0maxes\u001b[0m\u001b[0;34m.\u001b[0m\u001b[0mitems\u001b[0m\u001b[0;34m(\u001b[0m\u001b[0;34m)\u001b[0m\u001b[0;34m:\u001b[0m\u001b[0;34m\u001b[0m\u001b[0;34m\u001b[0m\u001b[0m\n\u001b[1;32m   3877\u001b[0m             \u001b[0;32mif\u001b[0m \u001b[0mlabels\u001b[0m \u001b[0;32mis\u001b[0m \u001b[0;32mnot\u001b[0m \u001b[0;32mNone\u001b[0m\u001b[0;34m:\u001b[0m\u001b[0;34m\u001b[0m\u001b[0;34m\u001b[0m\u001b[0m\n\u001b[0;32m-> 3878\u001b[0;31m                 \u001b[0mobj\u001b[0m \u001b[0;34m=\u001b[0m \u001b[0mobj\u001b[0m\u001b[0;34m.\u001b[0m\u001b[0m_drop_axis\u001b[0m\u001b[0;34m(\u001b[0m\u001b[0mlabels\u001b[0m\u001b[0;34m,\u001b[0m \u001b[0maxis\u001b[0m\u001b[0;34m,\u001b[0m \u001b[0mlevel\u001b[0m\u001b[0;34m=\u001b[0m\u001b[0mlevel\u001b[0m\u001b[0;34m,\u001b[0m \u001b[0merrors\u001b[0m\u001b[0;34m=\u001b[0m\u001b[0merrors\u001b[0m\u001b[0;34m)\u001b[0m\u001b[0;34m\u001b[0m\u001b[0;34m\u001b[0m\u001b[0m\n\u001b[0m\u001b[1;32m   3879\u001b[0m \u001b[0;34m\u001b[0m\u001b[0m\n\u001b[1;32m   3880\u001b[0m         \u001b[0;32mif\u001b[0m \u001b[0minplace\u001b[0m\u001b[0;34m:\u001b[0m\u001b[0;34m\u001b[0m\u001b[0;34m\u001b[0m\u001b[0m\n",
      "\u001b[0;32m/opt/anaconda3/envs/capstone_env/lib/python3.8/site-packages/pandas/core/generic.py\u001b[0m in \u001b[0;36m_drop_axis\u001b[0;34m(self, labels, axis, level, errors)\u001b[0m\n\u001b[1;32m   3910\u001b[0m                 \u001b[0mnew_axis\u001b[0m \u001b[0;34m=\u001b[0m \u001b[0maxis\u001b[0m\u001b[0;34m.\u001b[0m\u001b[0mdrop\u001b[0m\u001b[0;34m(\u001b[0m\u001b[0mlabels\u001b[0m\u001b[0;34m,\u001b[0m \u001b[0mlevel\u001b[0m\u001b[0;34m=\u001b[0m\u001b[0mlevel\u001b[0m\u001b[0;34m,\u001b[0m \u001b[0merrors\u001b[0m\u001b[0;34m=\u001b[0m\u001b[0merrors\u001b[0m\u001b[0;34m)\u001b[0m\u001b[0;34m\u001b[0m\u001b[0;34m\u001b[0m\u001b[0m\n\u001b[1;32m   3911\u001b[0m             \u001b[0;32melse\u001b[0m\u001b[0;34m:\u001b[0m\u001b[0;34m\u001b[0m\u001b[0;34m\u001b[0m\u001b[0m\n\u001b[0;32m-> 3912\u001b[0;31m                 \u001b[0mnew_axis\u001b[0m \u001b[0;34m=\u001b[0m \u001b[0maxis\u001b[0m\u001b[0;34m.\u001b[0m\u001b[0mdrop\u001b[0m\u001b[0;34m(\u001b[0m\u001b[0mlabels\u001b[0m\u001b[0;34m,\u001b[0m \u001b[0merrors\u001b[0m\u001b[0;34m=\u001b[0m\u001b[0merrors\u001b[0m\u001b[0;34m)\u001b[0m\u001b[0;34m\u001b[0m\u001b[0;34m\u001b[0m\u001b[0m\n\u001b[0m\u001b[1;32m   3913\u001b[0m             \u001b[0mresult\u001b[0m \u001b[0;34m=\u001b[0m \u001b[0mself\u001b[0m\u001b[0;34m.\u001b[0m\u001b[0mreindex\u001b[0m\u001b[0;34m(\u001b[0m\u001b[0;34m**\u001b[0m\u001b[0;34m{\u001b[0m\u001b[0maxis_name\u001b[0m\u001b[0;34m:\u001b[0m \u001b[0mnew_axis\u001b[0m\u001b[0;34m}\u001b[0m\u001b[0;34m)\u001b[0m\u001b[0;34m\u001b[0m\u001b[0;34m\u001b[0m\u001b[0m\n\u001b[1;32m   3914\u001b[0m \u001b[0;34m\u001b[0m\u001b[0m\n",
      "\u001b[0;32m/opt/anaconda3/envs/capstone_env/lib/python3.8/site-packages/pandas/core/indexes/base.py\u001b[0m in \u001b[0;36mdrop\u001b[0;34m(self, labels, errors)\u001b[0m\n\u001b[1;32m   5274\u001b[0m         \u001b[0;32mif\u001b[0m \u001b[0mmask\u001b[0m\u001b[0;34m.\u001b[0m\u001b[0many\u001b[0m\u001b[0;34m(\u001b[0m\u001b[0;34m)\u001b[0m\u001b[0;34m:\u001b[0m\u001b[0;34m\u001b[0m\u001b[0;34m\u001b[0m\u001b[0m\n\u001b[1;32m   5275\u001b[0m             \u001b[0;32mif\u001b[0m \u001b[0merrors\u001b[0m \u001b[0;34m!=\u001b[0m \u001b[0;34m\"ignore\"\u001b[0m\u001b[0;34m:\u001b[0m\u001b[0;34m\u001b[0m\u001b[0;34m\u001b[0m\u001b[0m\n\u001b[0;32m-> 5276\u001b[0;31m                 \u001b[0;32mraise\u001b[0m \u001b[0mKeyError\u001b[0m\u001b[0;34m(\u001b[0m\u001b[0;34mf\"{labels[mask]} not found in axis\"\u001b[0m\u001b[0;34m)\u001b[0m\u001b[0;34m\u001b[0m\u001b[0;34m\u001b[0m\u001b[0m\n\u001b[0m\u001b[1;32m   5277\u001b[0m             \u001b[0mindexer\u001b[0m \u001b[0;34m=\u001b[0m \u001b[0mindexer\u001b[0m\u001b[0;34m[\u001b[0m\u001b[0;34m~\u001b[0m\u001b[0mmask\u001b[0m\u001b[0;34m]\u001b[0m\u001b[0;34m\u001b[0m\u001b[0;34m\u001b[0m\u001b[0m\n\u001b[1;32m   5278\u001b[0m         \u001b[0;32mreturn\u001b[0m \u001b[0mself\u001b[0m\u001b[0;34m.\u001b[0m\u001b[0mdelete\u001b[0m\u001b[0;34m(\u001b[0m\u001b[0mindexer\u001b[0m\u001b[0;34m)\u001b[0m\u001b[0;34m\u001b[0m\u001b[0;34m\u001b[0m\u001b[0m\n",
      "\u001b[0;31mKeyError\u001b[0m: '[52] not found in axis'"
     ]
    }
   ],
   "source": [
    "infile = open('data/pickles/demo_cat2.pickle', 'rb')\n",
    "demo_cat2 = pickle.load(infile)\n",
    "infile.close()\n",
    "\n",
    "# make dataframe merging the categorical and continuous columns\n",
    "df3C = cont_cols_df.merge(demo_cat2, how='outer', left_index=True, right_index=True)\n",
    "\n",
    "# removing columns that had questionable p-values\n",
    "df3C = df3C.drop(axis=1, columns=['factryarea', 'strgearea', 'assesstot', 2, 3, 5, 7, 8, 11, \n",
    "                                  12, 14, 15, 18, 19, 20, 21, 22, 23, 25, 32, 34, 35, 39, 42, \n",
    "                                  44, 49, 50, 51, 52])\n",
    "\n",
    "# making a model using continous & some categorical variables\n",
    "X3C = df3C\n",
    "y3C = demolished_buildings['lifespan']\n",
    "\n",
    "# train test split\n",
    "X_train3C, X_test3C, y_train3C, y_test3C = train_test_split(X3C, y3C, test_size=0.33, random_state=12)\n",
    "\n",
    "# instantiating the model\n",
    "linear_reg_model(X_train3C, y_train3C, X_test3C, y_test3C)"
   ]
  },
  {
   "cell_type": "markdown",
   "metadata": {},
   "source": [
    "__Comments__\n",
    "\n",
    "This model performed very well with an accuracy of .96 and RMSE of 6.8."
   ]
  },
  {
   "cell_type": "markdown",
   "metadata": {},
   "source": [
    "## Model 4: Linear Regression with Interactions"
   ]
  },
  {
   "cell_type": "markdown",
   "metadata": {},
   "source": [
    "### Add Interactions"
   ]
  },
  {
   "cell_type": "code",
   "execution_count": null,
   "metadata": {},
   "outputs": [],
   "source": [
    "y_train3.shape"
   ]
  },
  {
   "cell_type": "code",
   "execution_count": null,
   "metadata": {},
   "outputs": [],
   "source": [
    "y_train3 = y_train3.to_numpy()\n",
    "y_train3 = y_train3.reshape(-1,1)"
   ]
  },
  {
   "cell_type": "code",
   "execution_count": null,
   "metadata": {},
   "outputs": [],
   "source": [
    "y_train3.shape"
   ]
  },
  {
   "cell_type": "code",
   "execution_count": null,
   "metadata": {},
   "outputs": [],
   "source": [
    "X_test3.shape"
   ]
  },
  {
   "cell_type": "code",
   "execution_count": null,
   "metadata": {},
   "outputs": [],
   "source": [
    "ints = PolynomialFeatures(degree=2, include_bias=False, interaction_only=True)\n",
    "\n",
    "X_train3_int = ints.fit_transform(X_train3)\n",
    "X_test3_int = ints.fit_transform(X_test3)\n",
    "\n",
    "interaction_df = pd.DataFrame(X_train3_int)\n",
    "\n",
    "interaction_model = linear_model.OLS(y_train3, interaction_df).fit()\n",
    "interaction_model.pvalues[interaction_model.pvalues < 0.05]"
   ]
  },
  {
   "cell_type": "code",
   "execution_count": null,
   "metadata": {},
   "outputs": [],
   "source": [
    "X_test3_int.shape"
   ]
  },
  {
   "cell_type": "code",
   "execution_count": null,
   "metadata": {},
   "outputs": [],
   "source": [
    "X_train3_int.shape"
   ]
  },
  {
   "cell_type": "code",
   "execution_count": null,
   "metadata": {},
   "outputs": [],
   "source": [
    "y_pred3 = interaction_model.predict(X_test3_int)\n",
    "MSE3 = mean_squared_error(y_test3, y_pred3)\n",
    "\n",
    "print('Root Mean Squared Error ', np.sqrt(MSE3))"
   ]
  },
  {
   "cell_type": "markdown",
   "metadata": {},
   "source": [
    "__Comments__\n",
    "\n",
    "The interaction terms are causing the model to become inaccurate, with a RMSE of 276. An RMSE this high when the building lifespan is typically 50+ years means that the model is unusable. \n",
    "\n",
    "Most likely, there are too many interactions because of high dimensionality. There were 58 features before interactions, and 1711 features after interactions. This illustrates the curse of dimensionality."
   ]
  },
  {
   "cell_type": "markdown",
   "metadata": {},
   "source": [
    "## Model 5: Polynomial Regression"
   ]
  },
  {
   "cell_type": "code",
   "execution_count": null,
   "metadata": {},
   "outputs": [],
   "source": [
    "# Polynomial Regression\n",
    "\n",
    "pf = PolynomialFeatures(degree = 2, interaction_only=False, include_bias=True)\n",
    "\n",
    "y_train3 = pd.DataFrame(y_train3)\n",
    "\n",
    "X_train3_poly = pf.fit_transform(X_train3)\n",
    "X_train3_poly = pd.DataFrame(X_train3_poly, index = y_train3.index)\n",
    "\n",
    "X_test3_poly = pf.fit_transform(X_test3)\n",
    "X_test3_poly = pd.DataFrame(X_test3_poly)\n",
    "\n",
    "X_train3_poly.head(3)"
   ]
  },
  {
   "cell_type": "code",
   "execution_count": null,
   "metadata": {},
   "outputs": [],
   "source": [
    "linear_reg_model(X_train3_poly, y_train3,  X_test3_poly, y_test3)"
   ]
  },
  {
   "cell_type": "markdown",
   "metadata": {},
   "source": [
    "__Comments__\n",
    "\n",
    "There is a strong pattern in the residuals plot. All results indicate this model is performing very poorly.\n",
    "\n"
   ]
  },
  {
   "cell_type": "markdown",
   "metadata": {},
   "source": [
    "# Conclusion\n",
    "\n",
    "\n",
    "The best model was Model 3C."
   ]
  }
 ],
 "metadata": {
  "kernelspec": {
   "display_name": "Python [conda env:capstone_env] *",
   "language": "python",
   "name": "conda-env-capstone_env-py"
  },
  "language_info": {
   "codemirror_mode": {
    "name": "ipython",
    "version": 3
   },
   "file_extension": ".py",
   "mimetype": "text/x-python",
   "name": "python",
   "nbconvert_exporter": "python",
   "pygments_lexer": "ipython3",
   "version": "3.8.5"
  }
 },
 "nbformat": 4,
 "nbformat_minor": 4
}
