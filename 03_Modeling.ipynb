{
 "cells": [
  {
   "cell_type": "markdown",
   "metadata": {},
   "source": [
    "# Modeling"
   ]
  },
  {
   "cell_type": "markdown",
   "metadata": {},
   "source": [
    "## Imports"
   ]
  },
  {
   "cell_type": "code",
   "execution_count": 323,
   "metadata": {},
   "outputs": [],
   "source": [
    "import numpy as np\n",
    "import pandas as pd\n",
    "import pickle\n",
    "import matplotlib.pyplot as plt\n",
    "%matplotlib inline\n",
    "from sklearn.model_selection import train_test_split\n",
    "from sklearn.linear_model import LinearRegression\n",
    "from sklearn.metrics import mean_squared_error\n",
    "from sklearn.metrics import mean_squared_error, r2_score\n",
    "from sklearn.model_selection import cross_val_score\n",
    "from sklearn.neighbors import KNeighborsRegressor\n",
    "from sklearn.preprocessing import PolynomialFeatures\n",
    "import statsmodels.api as sm\n",
    "from sklearn.preprocessing import Normalizer\n",
    "from sklearn.preprocessing import StandardScaler\n",
    "from sklearn.tree import DecisionTreeRegressor\n",
    "from statsmodels.tools.eval_measures import rmse\n",
    "from sklearn import feature_selection\n",
    "from statsmodels.regression import linear_model"
   ]
  },
  {
   "cell_type": "markdown",
   "metadata": {},
   "source": [
    "## Import Pickle File"
   ]
  },
  {
   "cell_type": "code",
   "execution_count": 324,
   "metadata": {},
   "outputs": [],
   "source": [
    "infile = open('data/pickles/demolished_buildings.pickle', 'rb')\n",
    "demolished_buildings = pickle.load(infile)\n",
    "infile.close()"
   ]
  },
  {
   "cell_type": "code",
   "execution_count": 325,
   "metadata": {},
   "outputs": [
    {
     "data": {
      "text/plain": [
       "pandas.core.frame.DataFrame"
      ]
     },
     "execution_count": 325,
     "metadata": {},
     "output_type": "execute_result"
    }
   ],
   "source": [
    "type(demolished_buildings)"
   ]
  },
  {
   "cell_type": "code",
   "execution_count": 326,
   "metadata": {},
   "outputs": [
    {
     "data": {
      "text/html": [
       "<div>\n",
       "<style scoped>\n",
       "    .dataframe tbody tr th:only-of-type {\n",
       "        vertical-align: middle;\n",
       "    }\n",
       "\n",
       "    .dataframe tbody tr th {\n",
       "        vertical-align: top;\n",
       "    }\n",
       "\n",
       "    .dataframe thead th {\n",
       "        text-align: right;\n",
       "    }\n",
       "</style>\n",
       "<table border=\"1\" class=\"dataframe\">\n",
       "  <thead>\n",
       "    <tr style=\"text-align: right;\">\n",
       "      <th></th>\n",
       "      <th>policeprct</th>\n",
       "      <th>healtharea</th>\n",
       "      <th>zonedist1</th>\n",
       "      <th>zonedist2</th>\n",
       "      <th>zonedist3</th>\n",
       "      <th>overlay1</th>\n",
       "      <th>spdist1</th>\n",
       "      <th>spdist2</th>\n",
       "      <th>ltdheight</th>\n",
       "      <th>splitzone</th>\n",
       "      <th>...</th>\n",
       "      <th>factryarea</th>\n",
       "      <th>bldgfront</th>\n",
       "      <th>ext</th>\n",
       "      <th>irrlotcode</th>\n",
       "      <th>lottype</th>\n",
       "      <th>assesstot</th>\n",
       "      <th>yearbuilt</th>\n",
       "      <th>histdist</th>\n",
       "      <th>landmark</th>\n",
       "      <th>lifespan</th>\n",
       "    </tr>\n",
       "  </thead>\n",
       "  <tbody>\n",
       "    <tr>\n",
       "      <th>82</th>\n",
       "      <td>13.0</td>\n",
       "      <td>5900.0</td>\n",
       "      <td>C1-8A</td>\n",
       "      <td>0</td>\n",
       "      <td>0</td>\n",
       "      <td>0</td>\n",
       "      <td>0</td>\n",
       "      <td>0</td>\n",
       "      <td>0</td>\n",
       "      <td>N</td>\n",
       "      <td>...</td>\n",
       "      <td>0.0</td>\n",
       "      <td>0.0</td>\n",
       "      <td>0</td>\n",
       "      <td>N</td>\n",
       "      <td>5.0</td>\n",
       "      <td>478592.0</td>\n",
       "      <td>1972</td>\n",
       "      <td>0</td>\n",
       "      <td>0</td>\n",
       "      <td>46</td>\n",
       "    </tr>\n",
       "    <tr>\n",
       "      <th>106</th>\n",
       "      <td>108.0</td>\n",
       "      <td>1021.0</td>\n",
       "      <td>R5D</td>\n",
       "      <td>0</td>\n",
       "      <td>0</td>\n",
       "      <td>0</td>\n",
       "      <td>0</td>\n",
       "      <td>0</td>\n",
       "      <td>0</td>\n",
       "      <td>N</td>\n",
       "      <td>...</td>\n",
       "      <td>0.0</td>\n",
       "      <td>0.0</td>\n",
       "      <td>0</td>\n",
       "      <td>Y</td>\n",
       "      <td>6.0</td>\n",
       "      <td>64380.0</td>\n",
       "      <td>1972</td>\n",
       "      <td>0</td>\n",
       "      <td>0</td>\n",
       "      <td>30</td>\n",
       "    </tr>\n",
       "    <tr>\n",
       "      <th>134</th>\n",
       "      <td>81.0</td>\n",
       "      <td>3100.0</td>\n",
       "      <td>C4-4L</td>\n",
       "      <td>0</td>\n",
       "      <td>0</td>\n",
       "      <td>0</td>\n",
       "      <td>0</td>\n",
       "      <td>0</td>\n",
       "      <td>0</td>\n",
       "      <td>N</td>\n",
       "      <td>...</td>\n",
       "      <td>0.0</td>\n",
       "      <td>72.0</td>\n",
       "      <td>E</td>\n",
       "      <td>N</td>\n",
       "      <td>5.0</td>\n",
       "      <td>1757700.0</td>\n",
       "      <td>1922</td>\n",
       "      <td>0</td>\n",
       "      <td>0</td>\n",
       "      <td>69</td>\n",
       "    </tr>\n",
       "    <tr>\n",
       "      <th>185</th>\n",
       "      <td>66.0</td>\n",
       "      <td>5310.0</td>\n",
       "      <td>C8-2</td>\n",
       "      <td>0</td>\n",
       "      <td>0</td>\n",
       "      <td>0</td>\n",
       "      <td>OP</td>\n",
       "      <td>0</td>\n",
       "      <td>0</td>\n",
       "      <td>N</td>\n",
       "      <td>...</td>\n",
       "      <td>0.0</td>\n",
       "      <td>0.0</td>\n",
       "      <td>0</td>\n",
       "      <td>Y</td>\n",
       "      <td>5.0</td>\n",
       "      <td>19350.0</td>\n",
       "      <td>1972</td>\n",
       "      <td>0</td>\n",
       "      <td>0</td>\n",
       "      <td>25</td>\n",
       "    </tr>\n",
       "  </tbody>\n",
       "</table>\n",
       "<p>4 rows × 24 columns</p>\n",
       "</div>"
      ],
      "text/plain": [
       "     policeprct  healtharea zonedist1 zonedist2 zonedist3 overlay1 spdist1  \\\n",
       "82         13.0      5900.0     C1-8A         0         0        0       0   \n",
       "106       108.0      1021.0       R5D         0         0        0       0   \n",
       "134        81.0      3100.0     C4-4L         0         0        0       0   \n",
       "185        66.0      5310.0      C8-2         0         0        0      OP   \n",
       "\n",
       "    spdist2 ltdheight splitzone  ... factryarea bldgfront  ext  irrlotcode  \\\n",
       "82        0         0         N  ...        0.0       0.0    0           N   \n",
       "106       0         0         N  ...        0.0       0.0    0           Y   \n",
       "134       0         0         N  ...        0.0      72.0    E           N   \n",
       "185       0         0         N  ...        0.0       0.0    0           Y   \n",
       "\n",
       "     lottype  assesstot yearbuilt histdist  landmark  lifespan  \n",
       "82       5.0   478592.0      1972        0         0        46  \n",
       "106      6.0    64380.0      1972        0         0        30  \n",
       "134      5.0  1757700.0      1922        0         0        69  \n",
       "185      5.0    19350.0      1972        0         0        25  \n",
       "\n",
       "[4 rows x 24 columns]"
      ]
     },
     "execution_count": 326,
     "metadata": {},
     "output_type": "execute_result"
    }
   ],
   "source": [
    "demolished_buildings.head(4)"
   ]
  },
  {
   "cell_type": "markdown",
   "metadata": {},
   "source": [
    "## Continuous & Categorical Variables"
   ]
  },
  {
   "cell_type": "code",
   "execution_count": 327,
   "metadata": {},
   "outputs": [
    {
     "data": {
      "text/plain": [
       "['assesstot',\n",
       " 'bldgclass',\n",
       " 'bldgfront',\n",
       " 'ext',\n",
       " 'factryarea',\n",
       " 'healtharea',\n",
       " 'histdist',\n",
       " 'irrlotcode',\n",
       " 'landmark',\n",
       " 'lifespan',\n",
       " 'lotarea',\n",
       " 'lottype',\n",
       " 'ltdheight',\n",
       " 'overlay1',\n",
       " 'ownertype',\n",
       " 'policeprct',\n",
       " 'spdist1',\n",
       " 'spdist2',\n",
       " 'splitzone',\n",
       " 'strgearea',\n",
       " 'yearbuilt',\n",
       " 'zonedist1',\n",
       " 'zonedist2',\n",
       " 'zonedist3']"
      ]
     },
     "execution_count": 327,
     "metadata": {},
     "output_type": "execute_result"
    }
   ],
   "source": [
    "all_cols = list(demolished_buildings.columns)\n",
    "all_cols = sorted(all_cols)\n",
    "all_cols"
   ]
  },
  {
   "cell_type": "code",
   "execution_count": 328,
   "metadata": {},
   "outputs": [
    {
     "name": "stdout",
     "output_type": "stream",
     "text": [
      "['assesstot', 'bldgclass', 'bldgfront', 'ext', 'factryarea', 'healtharea', 'histdist', 'irrlotcode', 'landmark', 'lotarea', 'lottype', 'ltdheight', 'overlay1', 'ownertype', 'policeprct', 'spdist1', 'spdist2', 'splitzone', 'strgearea', 'yearbuilt', 'zonedist1', 'zonedist2', 'zonedist3']\n",
      "23\n"
     ]
    }
   ],
   "source": [
    "# making a list of continuous columns\n",
    "cont_cols = ['lotarea', 'strgearea','factryarea', 'bldgfront', 'assesstot', 'yearbuilt']\n",
    "\n",
    "# making a dataframe of continuous columns\n",
    "cont_cols_df = demolished_buildings[['lotarea', 'strgearea','factryarea', 'bldgfront', 'assesstot', 'yearbuilt']]\n",
    "\n",
    "#making a list of categorical columns\n",
    "cat_cols = []\n",
    "\n",
    "for col in all_cols:\n",
    "    if col in cont_cols:\n",
    "        pass\n",
    "    if col == 'lifespan':\n",
    "        pass\n",
    "    else:\n",
    "        cat_cols.append(col)\n",
    "    \n",
    "print(cat_cols)\n",
    "print(len(cat_cols))"
   ]
  },
  {
   "cell_type": "markdown",
   "metadata": {},
   "source": [
    "## Train Test Split"
   ]
  },
  {
   "cell_type": "code",
   "execution_count": 329,
   "metadata": {},
   "outputs": [],
   "source": [
    "# try a model using only continous variables\n",
    "X = cont_cols_df\n",
    "y = demolished_buildings['lifespan']\n",
    "\n",
    "X_train, X_test, y_train, y_test = train_test_split(X, y, test_size=0.33, random_state=12)"
   ]
  },
  {
   "cell_type": "markdown",
   "metadata": {},
   "source": [
    "## Model 1A : Linear Regression"
   ]
  },
  {
   "cell_type": "markdown",
   "metadata": {},
   "source": [
    "Using Continuous Variables only."
   ]
  },
  {
   "cell_type": "markdown",
   "metadata": {},
   "source": [
    "### From Scratch"
   ]
  },
  {
   "cell_type": "code",
   "execution_count": 330,
   "metadata": {},
   "outputs": [],
   "source": [
    "def linear_reg_model(Xtrain, ytrain, Xtest, ytest):\n",
    "    \"\"\"\n",
    "    Function takes training and test data as input and returns the following:\n",
    "    - Accuracy Score\n",
    "    - Coefficients\n",
    "    - P-values\n",
    "    - Mean squared error\n",
    "    - Root mean squared error\n",
    "    - R-squared\n",
    "    - Cross Validation Score    \n",
    "    - Residuals plot\n",
    "    - Predictions Dataframe\n",
    "    \"\"\"\n",
    "    \n",
    "    #instantiate model\n",
    "    model = LinearRegression(fit_intercept=True, copy_X=True).fit(Xtrain, ytrain)\n",
    "    #make predictions\n",
    "    y_pred = model.predict(Xtest)\n",
    "    #get coefficients\n",
    "    coef = model.coef_\n",
    "    #make list of columns\n",
    "    column_list = list(Xtrain.columns)    \n",
    "    # attach names to coefficients\n",
    "    coefficients = dict(zip(column_list, coef))    \n",
    "    #get performance metric\n",
    "    MSE = mean_squared_error(ytest, y_pred)    \n",
    "    #cross validation 5 folds\n",
    "    cvs = cross_val_score(estimator=model, X=Xtest, y=ytest, cv=5)        \n",
    "    #make dataframe of predictions\n",
    "    pred = pd.DataFrame({'Actual': ytest, 'Predicted': y_pred})\n",
    "    \n",
    "    #f-test to see which coefficients have p-values greater than 0.05\n",
    "    f_test = feature_selection.f_regression(Xtrain, ytrain)\n",
    "    pvalues = list(zip(list(Xtrain.columns), f_test[1]))\n",
    "    \n",
    "    large_pvalues = []\n",
    "    for i in pvalues:\n",
    "        if i[1] > 0.05:\n",
    "            large_pvalues.append(i)\n",
    "    \n",
    "    print('Accuracy Score ', model.score(Xtest, ytest))    \n",
    "    print('Coefficients ', coefficients)    \n",
    "    print('P-Values Greater than 0.05', large_pvalues)    \n",
    "    print('Mean Squared Error ', MSE)   \n",
    "    print('Root Mean Squared Error ', np.sqrt(MSE))    \n",
    "    print('R-Squared', r2_score(ytest, y_pred))       \n",
    "    print('Cross Validation Score ', cvs)\n",
    "\n",
    "    #plot residuals\n",
    "    residuals = ytest - y_pred\n",
    "    fig, ax = plt.subplots(figsize=(6,4))\n",
    "    ax.scatter(residuals, y_pred)\n",
    "    \n",
    "    return pred"
   ]
  },
  {
   "cell_type": "code",
   "execution_count": 331,
   "metadata": {},
   "outputs": [
    {
     "name": "stdout",
     "output_type": "stream",
     "text": [
      "Accuracy Score  0.9016724101573149\n",
      "Coefficients  {'lotarea': -3.165186189328124e-06, 'strgearea': -1.4043477822092771e-05, 'factryarea': 4.649129550462128e-05, 'bldgfront': 0.01900167271613683, 'assesstot': 1.7666912452889011e-10, 'yearbuilt': -1.039311825265042}\n",
      "P-Values Greater than 0.05 [('strgearea', 0.11552716074567967), ('assesstot', 0.3608876591422222)]\n",
      "Mean Squared Error  83.50043288795412\n",
      "Root Mean Squared Error  9.137857127792824\n",
      "R-Squared 0.9016724101573149\n",
      "Cross Validation Score  [0.89272863 0.88147014 0.90693815 0.90168005 0.90782767]\n"
     ]
    },
    {
     "data": {
      "text/html": [
       "<div>\n",
       "<style scoped>\n",
       "    .dataframe tbody tr th:only-of-type {\n",
       "        vertical-align: middle;\n",
       "    }\n",
       "\n",
       "    .dataframe tbody tr th {\n",
       "        vertical-align: top;\n",
       "    }\n",
       "\n",
       "    .dataframe thead th {\n",
       "        text-align: right;\n",
       "    }\n",
       "</style>\n",
       "<table border=\"1\" class=\"dataframe\">\n",
       "  <thead>\n",
       "    <tr style=\"text-align: right;\">\n",
       "      <th></th>\n",
       "      <th>Actual</th>\n",
       "      <th>Predicted</th>\n",
       "    </tr>\n",
       "  </thead>\n",
       "  <tbody>\n",
       "    <tr>\n",
       "      <th>36977</th>\n",
       "      <td>94</td>\n",
       "      <td>84.123631</td>\n",
       "    </tr>\n",
       "    <tr>\n",
       "      <th>35941</th>\n",
       "      <td>109</td>\n",
       "      <td>101.333591</td>\n",
       "    </tr>\n",
       "    <tr>\n",
       "      <th>33183</th>\n",
       "      <td>25</td>\n",
       "      <td>35.376091</td>\n",
       "    </tr>\n",
       "    <tr>\n",
       "      <th>13343</th>\n",
       "      <td>30</td>\n",
       "      <td>34.964462</td>\n",
       "    </tr>\n",
       "    <tr>\n",
       "      <th>21854</th>\n",
       "      <td>37</td>\n",
       "      <td>38.368223</td>\n",
       "    </tr>\n",
       "    <tr>\n",
       "      <th>...</th>\n",
       "      <td>...</td>\n",
       "      <td>...</td>\n",
       "    </tr>\n",
       "    <tr>\n",
       "      <th>26298</th>\n",
       "      <td>42</td>\n",
       "      <td>34.974682</td>\n",
       "    </tr>\n",
       "    <tr>\n",
       "      <th>37081</th>\n",
       "      <td>54</td>\n",
       "      <td>42.925295</td>\n",
       "    </tr>\n",
       "    <tr>\n",
       "      <th>10646</th>\n",
       "      <td>25</td>\n",
       "      <td>34.973528</td>\n",
       "    </tr>\n",
       "    <tr>\n",
       "      <th>35889</th>\n",
       "      <td>88</td>\n",
       "      <td>78.526495</td>\n",
       "    </tr>\n",
       "    <tr>\n",
       "      <th>10906</th>\n",
       "      <td>38</td>\n",
       "      <td>34.976510</td>\n",
       "    </tr>\n",
       "  </tbody>\n",
       "</table>\n",
       "<p>1170 rows × 2 columns</p>\n",
       "</div>"
      ],
      "text/plain": [
       "       Actual   Predicted\n",
       "36977      94   84.123631\n",
       "35941     109  101.333591\n",
       "33183      25   35.376091\n",
       "13343      30   34.964462\n",
       "21854      37   38.368223\n",
       "...       ...         ...\n",
       "26298      42   34.974682\n",
       "37081      54   42.925295\n",
       "10646      25   34.973528\n",
       "35889      88   78.526495\n",
       "10906      38   34.976510\n",
       "\n",
       "[1170 rows x 2 columns]"
      ]
     },
     "execution_count": 331,
     "metadata": {},
     "output_type": "execute_result"
    },
    {
     "data": {
      "image/png": "[encoded data removed]",
      "text/plain": [
       "<Figure size 432x288 with 1 Axes>"
      ]
     },
     "metadata": {
      "needs_background": "light"
     },
     "output_type": "display_data"
    }
   ],
   "source": [
    "linear_reg_model(X_train, y_train, X_test, y_test)"
   ]
  },
  {
   "cell_type": "markdown",
   "metadata": {},
   "source": [
    "__Comments__\n",
    "\n",
    "Even though most of the data did not have a linear relationship to the target variable, the model performed well. \n",
    "\n",
    "The r-squared value is 0.90, which means that the model explains 90% of the variation in building lifespan.\n",
    "\n",
    "The coefficients indicate tha factryarea and assesstot have the strongest influence on lifespan.\n",
    "\n",
    "An RMSE of 9.1 means that the predictions are off by 9 years on average in either direction.\n",
    "\n",
    "strgarea has a p-value of 1.155\\\n",
    "assesstot has a p-value of 0.360\\\n",
    "These are both greater than 0.05.\n",
    "\n",
    "The residuals plot has some patterns in it, so the model can likely be improved.\n",
    "\n",
    "__Next Steps:__\n",
    "\n",
    "Do a double check using statsmodels to confirm the results."
   ]
  },
  {
   "cell_type": "markdown",
   "metadata": {},
   "source": [
    "## Model 1A : Linear Regression"
   ]
  },
  {
   "cell_type": "markdown",
   "metadata": {},
   "source": [
    "### Using Mix of Continous & Categorical Variables"
   ]
  },
  {
   "cell_type": "markdown",
   "metadata": {},
   "source": [
    "This model is a double check of the first model. "
   ]
  },
  {
   "cell_type": "markdown",
   "metadata": {},
   "source": [
    "### Using Statsmodels"
   ]
  },
  {
   "cell_type": "code",
   "execution_count": 332,
   "metadata": {},
   "outputs": [
    {
     "data": {
      "text/html": [
       "<table class=\"simpletable\">\n",
       "<caption>OLS Regression Results</caption>\n",
       "<tr>\n",
       "  <th>Dep. Variable:</th>        <td>lifespan</td>     <th>  R-squared:         </th> <td>   0.903</td> \n",
       "</tr>\n",
       "<tr>\n",
       "  <th>Model:</th>                   <td>OLS</td>       <th>  Adj. R-squared:    </th> <td>   0.903</td> \n",
       "</tr>\n",
       "<tr>\n",
       "  <th>Method:</th>             <td>Least Squares</td>  <th>  F-statistic:       </th> <td>   3675.</td> \n",
       "</tr>\n",
       "<tr>\n",
       "  <th>Date:</th>             <td>Mon, 07 Sep 2020</td> <th>  Prob (F-statistic):</th>  <td>  0.00</td>  \n",
       "</tr>\n",
       "<tr>\n",
       "  <th>Time:</th>                 <td>18:28:54</td>     <th>  Log-Likelihood:    </th> <td> -8551.1</td> \n",
       "</tr>\n",
       "<tr>\n",
       "  <th>No. Observations:</th>      <td>  2373</td>      <th>  AIC:               </th> <td>1.712e+04</td>\n",
       "</tr>\n",
       "<tr>\n",
       "  <th>Df Residuals:</th>          <td>  2366</td>      <th>  BIC:               </th> <td>1.716e+04</td>\n",
       "</tr>\n",
       "<tr>\n",
       "  <th>Df Model:</th>              <td>     6</td>      <th>                     </th>     <td> </td>    \n",
       "</tr>\n",
       "<tr>\n",
       "  <th>Covariance Type:</th>      <td>nonrobust</td>    <th>                     </th>     <td> </td>    \n",
       "</tr>\n",
       "</table>\n",
       "<table class=\"simpletable\">\n",
       "<tr>\n",
       "       <td></td>         <th>coef</th>     <th>std err</th>      <th>t</th>      <th>P>|t|</th>  <th>[0.025</th>    <th>0.975]</th>  \n",
       "</tr>\n",
       "<tr>\n",
       "  <th>const</th>      <td> 2084.5033</td> <td>   14.479</td> <td>  143.967</td> <td> 0.000</td> <td> 2056.110</td> <td> 2112.896</td>\n",
       "</tr>\n",
       "<tr>\n",
       "  <th>lotarea</th>    <td>-3.165e-06</td> <td> 1.19e-06</td> <td>   -2.650</td> <td> 0.008</td> <td>-5.51e-06</td> <td>-8.23e-07</td>\n",
       "</tr>\n",
       "<tr>\n",
       "  <th>strgearea</th>  <td>-1.404e-05</td> <td>  5.6e-06</td> <td>   -2.508</td> <td> 0.012</td> <td> -2.5e-05</td> <td>-3.06e-06</td>\n",
       "</tr>\n",
       "<tr>\n",
       "  <th>factryarea</th> <td> 4.649e-05</td> <td> 4.17e-05</td> <td>    1.115</td> <td> 0.265</td> <td>-3.53e-05</td> <td>    0.000</td>\n",
       "</tr>\n",
       "<tr>\n",
       "  <th>bldgfront</th>  <td>    0.0190</td> <td>    0.004</td> <td>    4.854</td> <td> 0.000</td> <td>    0.011</td> <td>    0.027</td>\n",
       "</tr>\n",
       "<tr>\n",
       "  <th>assesstot</th>  <td> 1.767e-10</td> <td> 1.91e-08</td> <td>    0.009</td> <td> 0.993</td> <td>-3.73e-08</td> <td> 3.76e-08</td>\n",
       "</tr>\n",
       "<tr>\n",
       "  <th>yearbuilt</th>  <td>   -1.0393</td> <td>    0.007</td> <td> -140.685</td> <td> 0.000</td> <td>   -1.054</td> <td>   -1.025</td>\n",
       "</tr>\n",
       "</table>\n",
       "<table class=\"simpletable\">\n",
       "<tr>\n",
       "  <th>Omnibus:</th>       <td>982.092</td> <th>  Durbin-Watson:     </th> <td>   2.063</td>\n",
       "</tr>\n",
       "<tr>\n",
       "  <th>Prob(Omnibus):</th> <td> 0.000</td>  <th>  Jarque-Bera (JB):  </th> <td> 162.554</td>\n",
       "</tr>\n",
       "<tr>\n",
       "  <th>Skew:</th>          <td>-0.329</td>  <th>  Prob(JB):          </th> <td>5.03e-36</td>\n",
       "</tr>\n",
       "<tr>\n",
       "  <th>Kurtosis:</th>      <td> 1.899</td>  <th>  Cond. No.          </th> <td>8.04e+08</td>\n",
       "</tr>\n",
       "</table><br/><br/>Warnings:<br/>[1] Standard Errors assume that the covariance matrix of the errors is correctly specified.<br/>[2] The condition number is large, 8.04e+08. This might indicate that there are<br/>strong multicollinearity or other numerical problems."
      ],
      "text/plain": [
       "<class 'statsmodels.iolib.summary.Summary'>\n",
       "\"\"\"\n",
       "                            OLS Regression Results                            \n",
       "==============================================================================\n",
       "Dep. Variable:               lifespan   R-squared:                       0.903\n",
       "Model:                            OLS   Adj. R-squared:                  0.903\n",
       "Method:                 Least Squares   F-statistic:                     3675.\n",
       "Date:                Mon, 07 Sep 2020   Prob (F-statistic):               0.00\n",
       "Time:                        18:28:54   Log-Likelihood:                -8551.1\n",
       "No. Observations:                2373   AIC:                         1.712e+04\n",
       "Df Residuals:                    2366   BIC:                         1.716e+04\n",
       "Df Model:                           6                                         \n",
       "Covariance Type:            nonrobust                                         \n",
       "==============================================================================\n",
       "                 coef    std err          t      P>|t|      [0.025      0.975]\n",
       "------------------------------------------------------------------------------\n",
       "const       2084.5033     14.479    143.967      0.000    2056.110    2112.896\n",
       "lotarea    -3.165e-06   1.19e-06     -2.650      0.008   -5.51e-06   -8.23e-07\n",
       "strgearea  -1.404e-05    5.6e-06     -2.508      0.012    -2.5e-05   -3.06e-06\n",
       "factryarea  4.649e-05   4.17e-05      1.115      0.265   -3.53e-05       0.000\n",
       "bldgfront      0.0190      0.004      4.854      0.000       0.011       0.027\n",
       "assesstot   1.767e-10   1.91e-08      0.009      0.993   -3.73e-08    3.76e-08\n",
       "yearbuilt     -1.0393      0.007   -140.685      0.000      -1.054      -1.025\n",
       "==============================================================================\n",
       "Omnibus:                      982.092   Durbin-Watson:                   2.063\n",
       "Prob(Omnibus):                  0.000   Jarque-Bera (JB):              162.554\n",
       "Skew:                          -0.329   Prob(JB):                     5.03e-36\n",
       "Kurtosis:                       1.899   Cond. No.                     8.04e+08\n",
       "==============================================================================\n",
       "\n",
       "Warnings:\n",
       "[1] Standard Errors assume that the covariance matrix of the errors is correctly specified.\n",
       "[2] The condition number is large, 8.04e+08. This might indicate that there are\n",
       "strong multicollinearity or other numerical problems.\n",
       "\"\"\""
      ]
     },
     "execution_count": 332,
     "metadata": {},
     "output_type": "execute_result"
    }
   ],
   "source": [
    "Xcont_train = sm.add_constant(X_train)\n",
    "Xcont_test = sm.add_constant(X_test)\n",
    "\n",
    "model = sm.OLS(y_train, Xcont_train)\n",
    "fitted_model = model.fit()\n",
    "fitted_model.summary()"
   ]
  },
  {
   "cell_type": "markdown",
   "metadata": {},
   "source": [
    "__Comments__\n",
    "\n",
    "This model is a double check confirming the results of the first model.\n",
    "\n",
    "P-value for factryarea, strgearea and assesstot are > 0.05, so these coefficients are irrelevant for predicting the target and should be dropped. However, this will result in less than 5 variables, so some of the categorical variables will need to be added.\n",
    "\n",
    "factryarea coefficient has a value of 4.649e-05 or 464,900. This is outside of the 95% confidence interval.\n",
    "\n",
    "assesstot coefficient has a value of 1.767e-10 or 17,670,000,000. This is outside of the 95% confidence interval."
   ]
  },
  {
   "cell_type": "code",
   "execution_count": 333,
   "metadata": {},
   "outputs": [],
   "source": [
    "y_predict = fitted_model.predict(Xcont_test)"
   ]
  },
  {
   "cell_type": "code",
   "execution_count": 334,
   "metadata": {},
   "outputs": [
    {
     "data": {
      "text/html": [
       "<div>\n",
       "<style scoped>\n",
       "    .dataframe tbody tr th:only-of-type {\n",
       "        vertical-align: middle;\n",
       "    }\n",
       "\n",
       "    .dataframe tbody tr th {\n",
       "        vertical-align: top;\n",
       "    }\n",
       "\n",
       "    .dataframe thead th {\n",
       "        text-align: right;\n",
       "    }\n",
       "</style>\n",
       "<table border=\"1\" class=\"dataframe\">\n",
       "  <thead>\n",
       "    <tr style=\"text-align: right;\">\n",
       "      <th></th>\n",
       "      <th>0</th>\n",
       "      <th>1</th>\n",
       "    </tr>\n",
       "  </thead>\n",
       "  <tbody>\n",
       "    <tr>\n",
       "      <th>const</th>\n",
       "      <td>2.056110e+03</td>\n",
       "      <td>2.112896e+03</td>\n",
       "    </tr>\n",
       "    <tr>\n",
       "      <th>lotarea</th>\n",
       "      <td>-5.507474e-06</td>\n",
       "      <td>-8.228984e-07</td>\n",
       "    </tr>\n",
       "    <tr>\n",
       "      <th>strgearea</th>\n",
       "      <td>-2.502368e-05</td>\n",
       "      <td>-3.063279e-06</td>\n",
       "    </tr>\n",
       "    <tr>\n",
       "      <th>factryarea</th>\n",
       "      <td>-3.526563e-05</td>\n",
       "      <td>1.282482e-04</td>\n",
       "    </tr>\n",
       "    <tr>\n",
       "      <th>bldgfront</th>\n",
       "      <td>1.132564e-02</td>\n",
       "      <td>2.667771e-02</td>\n",
       "    </tr>\n",
       "    <tr>\n",
       "      <th>assesstot</th>\n",
       "      <td>-3.726632e-08</td>\n",
       "      <td>3.761966e-08</td>\n",
       "    </tr>\n",
       "    <tr>\n",
       "      <th>yearbuilt</th>\n",
       "      <td>-1.053799e+00</td>\n",
       "      <td>-1.024825e+00</td>\n",
       "    </tr>\n",
       "  </tbody>\n",
       "</table>\n",
       "</div>"
      ],
      "text/plain": [
       "                       0             1\n",
       "const       2.056110e+03  2.112896e+03\n",
       "lotarea    -5.507474e-06 -8.228984e-07\n",
       "strgearea  -2.502368e-05 -3.063279e-06\n",
       "factryarea -3.526563e-05  1.282482e-04\n",
       "bldgfront   1.132564e-02  2.667771e-02\n",
       "assesstot  -3.726632e-08  3.761966e-08\n",
       "yearbuilt  -1.053799e+00 -1.024825e+00"
      ]
     },
     "execution_count": 334,
     "metadata": {},
     "output_type": "execute_result"
    }
   ],
   "source": [
    "ci = fitted_model.conf_int(alpha=0.05)\n",
    "ci"
   ]
  },
  {
   "cell_type": "code",
   "execution_count": 335,
   "metadata": {},
   "outputs": [
    {
     "data": {
      "text/plain": [
       "-5.507473956161507e-06"
      ]
     },
     "execution_count": 335,
     "metadata": {},
     "output_type": "execute_result"
    }
   ],
   "source": [
    "ci[0]['lotarea']"
   ]
  },
  {
   "cell_type": "code",
   "execution_count": 336,
   "metadata": {},
   "outputs": [
    {
     "data": {
      "text/plain": [
       "-8.22898422633378e-07"
      ]
     },
     "execution_count": 336,
     "metadata": {},
     "output_type": "execute_result"
    }
   ],
   "source": [
    "ci[1]['lotarea']"
   ]
  },
  {
   "cell_type": "code",
   "execution_count": 337,
   "metadata": {},
   "outputs": [
    {
     "data": {
      "text/plain": [
       "-4.684575533528129e-06"
      ]
     },
     "execution_count": 337,
     "metadata": {},
     "output_type": "execute_result"
    }
   ],
   "source": [
    "lot_area_interval = ci[0]['lotarea'] - ci[1]['lotarea']\n",
    "lot_area_interval"
   ]
  },
  {
   "cell_type": "markdown",
   "metadata": {},
   "source": [
    "## Model 2 : Linear Regression"
   ]
  },
  {
   "cell_type": "markdown",
   "metadata": {},
   "source": [
    "### Using Mix of Continous & Categorical Variables"
   ]
  },
  {
   "cell_type": "code",
   "execution_count": 338,
   "metadata": {},
   "outputs": [],
   "source": [
    "infile = open('data/pickles/demo_cat.pickle', 'rb')\n",
    "demo_cat = pickle.load(infile)\n",
    "infile.close()"
   ]
  },
  {
   "cell_type": "code",
   "execution_count": 339,
   "metadata": {},
   "outputs": [
    {
     "data": {
      "text/html": [
       "<div>\n",
       "<style scoped>\n",
       "    .dataframe tbody tr th:only-of-type {\n",
       "        vertical-align: middle;\n",
       "    }\n",
       "\n",
       "    .dataframe tbody tr th {\n",
       "        vertical-align: top;\n",
       "    }\n",
       "\n",
       "    .dataframe thead th {\n",
       "        text-align: right;\n",
       "    }\n",
       "</style>\n",
       "<table border=\"1\" class=\"dataframe\">\n",
       "  <thead>\n",
       "    <tr style=\"text-align: right;\">\n",
       "      <th></th>\n",
       "      <th>irrlotcode_1</th>\n",
       "      <th>overlay1_1</th>\n",
       "      <th>overlay1_2</th>\n",
       "      <th>overlay1_3</th>\n",
       "      <th>overlay1_4</th>\n",
       "      <th>overlay1_5</th>\n",
       "      <th>overlay1_6</th>\n",
       "      <th>overlay1_7</th>\n",
       "      <th>overlay1_8</th>\n",
       "      <th>overlay1_9</th>\n",
       "      <th>overlay1_10</th>\n",
       "      <th>splitzone_1</th>\n",
       "      <th>splitzone_2</th>\n",
       "      <th>ownertype_1</th>\n",
       "      <th>ownertype_2</th>\n",
       "      <th>ownertype_3</th>\n",
       "      <th>ext_1</th>\n",
       "      <th>ext_2</th>\n",
       "      <th>ext_3</th>\n",
       "      <th>ext_4</th>\n",
       "    </tr>\n",
       "  </thead>\n",
       "  <tbody>\n",
       "    <tr>\n",
       "      <th>0</th>\n",
       "      <td>0.0</td>\n",
       "      <td>0.0</td>\n",
       "      <td>0.0</td>\n",
       "      <td>0.0</td>\n",
       "      <td>0.0</td>\n",
       "      <td>0.0</td>\n",
       "      <td>0.0</td>\n",
       "      <td>0.0</td>\n",
       "      <td>0.0</td>\n",
       "      <td>0.0</td>\n",
       "      <td>0.0</td>\n",
       "      <td>1.0</td>\n",
       "      <td>0.0</td>\n",
       "      <td>0.0</td>\n",
       "      <td>0.0</td>\n",
       "      <td>0.0</td>\n",
       "      <td>0.0</td>\n",
       "      <td>0.0</td>\n",
       "      <td>0.0</td>\n",
       "      <td>0.0</td>\n",
       "    </tr>\n",
       "    <tr>\n",
       "      <th>1</th>\n",
       "      <td>1.0</td>\n",
       "      <td>0.0</td>\n",
       "      <td>0.0</td>\n",
       "      <td>0.0</td>\n",
       "      <td>0.0</td>\n",
       "      <td>0.0</td>\n",
       "      <td>0.0</td>\n",
       "      <td>0.0</td>\n",
       "      <td>0.0</td>\n",
       "      <td>0.0</td>\n",
       "      <td>0.0</td>\n",
       "      <td>1.0</td>\n",
       "      <td>0.0</td>\n",
       "      <td>0.0</td>\n",
       "      <td>0.0</td>\n",
       "      <td>0.0</td>\n",
       "      <td>0.0</td>\n",
       "      <td>0.0</td>\n",
       "      <td>0.0</td>\n",
       "      <td>0.0</td>\n",
       "    </tr>\n",
       "    <tr>\n",
       "      <th>2</th>\n",
       "      <td>0.0</td>\n",
       "      <td>0.0</td>\n",
       "      <td>0.0</td>\n",
       "      <td>0.0</td>\n",
       "      <td>0.0</td>\n",
       "      <td>0.0</td>\n",
       "      <td>0.0</td>\n",
       "      <td>0.0</td>\n",
       "      <td>0.0</td>\n",
       "      <td>0.0</td>\n",
       "      <td>0.0</td>\n",
       "      <td>1.0</td>\n",
       "      <td>0.0</td>\n",
       "      <td>0.0</td>\n",
       "      <td>0.0</td>\n",
       "      <td>0.0</td>\n",
       "      <td>0.0</td>\n",
       "      <td>1.0</td>\n",
       "      <td>0.0</td>\n",
       "      <td>0.0</td>\n",
       "    </tr>\n",
       "  </tbody>\n",
       "</table>\n",
       "</div>"
      ],
      "text/plain": [
       "   irrlotcode_1  overlay1_1  overlay1_2  overlay1_3  overlay1_4  overlay1_5  \\\n",
       "0           0.0         0.0         0.0         0.0         0.0         0.0   \n",
       "1           1.0         0.0         0.0         0.0         0.0         0.0   \n",
       "2           0.0         0.0         0.0         0.0         0.0         0.0   \n",
       "\n",
       "   overlay1_6  overlay1_7  overlay1_8  overlay1_9  overlay1_10  splitzone_1  \\\n",
       "0         0.0         0.0         0.0         0.0          0.0          1.0   \n",
       "1         0.0         0.0         0.0         0.0          0.0          1.0   \n",
       "2         0.0         0.0         0.0         0.0          0.0          1.0   \n",
       "\n",
       "   splitzone_2  ownertype_1  ownertype_2  ownertype_3  ext_1  ext_2  ext_3  \\\n",
       "0          0.0          0.0          0.0          0.0    0.0    0.0    0.0   \n",
       "1          0.0          0.0          0.0          0.0    0.0    0.0    0.0   \n",
       "2          0.0          0.0          0.0          0.0    0.0    1.0    0.0   \n",
       "\n",
       "   ext_4  \n",
       "0    0.0  \n",
       "1    0.0  \n",
       "2    0.0  "
      ]
     },
     "execution_count": 339,
     "metadata": {},
     "output_type": "execute_result"
    }
   ],
   "source": [
    "demo_cat.head(3)"
   ]
  },
  {
   "cell_type": "code",
   "execution_count": 340,
   "metadata": {},
   "outputs": [
    {
     "data": {
      "text/html": [
       "<div>\n",
       "<style scoped>\n",
       "    .dataframe tbody tr th:only-of-type {\n",
       "        vertical-align: middle;\n",
       "    }\n",
       "\n",
       "    .dataframe tbody tr th {\n",
       "        vertical-align: top;\n",
       "    }\n",
       "\n",
       "    .dataframe thead th {\n",
       "        text-align: right;\n",
       "    }\n",
       "</style>\n",
       "<table border=\"1\" class=\"dataframe\">\n",
       "  <thead>\n",
       "    <tr style=\"text-align: right;\">\n",
       "      <th></th>\n",
       "      <th>lotarea</th>\n",
       "      <th>strgearea</th>\n",
       "      <th>factryarea</th>\n",
       "      <th>bldgfront</th>\n",
       "      <th>assesstot</th>\n",
       "      <th>yearbuilt</th>\n",
       "    </tr>\n",
       "  </thead>\n",
       "  <tbody>\n",
       "    <tr>\n",
       "      <th>82</th>\n",
       "      <td>1840.0</td>\n",
       "      <td>0.0</td>\n",
       "      <td>0.0</td>\n",
       "      <td>0.0</td>\n",
       "      <td>478592.0</td>\n",
       "      <td>1972</td>\n",
       "    </tr>\n",
       "    <tr>\n",
       "      <th>106</th>\n",
       "      <td>7767.0</td>\n",
       "      <td>0.0</td>\n",
       "      <td>0.0</td>\n",
       "      <td>0.0</td>\n",
       "      <td>64380.0</td>\n",
       "      <td>1972</td>\n",
       "    </tr>\n",
       "    <tr>\n",
       "      <th>134</th>\n",
       "      <td>8000.0</td>\n",
       "      <td>0.0</td>\n",
       "      <td>0.0</td>\n",
       "      <td>72.0</td>\n",
       "      <td>1757700.0</td>\n",
       "      <td>1922</td>\n",
       "    </tr>\n",
       "  </tbody>\n",
       "</table>\n",
       "</div>"
      ],
      "text/plain": [
       "     lotarea  strgearea  factryarea  bldgfront  assesstot  yearbuilt\n",
       "82    1840.0        0.0         0.0        0.0   478592.0       1972\n",
       "106   7767.0        0.0         0.0        0.0    64380.0       1972\n",
       "134   8000.0        0.0         0.0       72.0  1757700.0       1922"
      ]
     },
     "execution_count": 340,
     "metadata": {},
     "output_type": "execute_result"
    }
   ],
   "source": [
    "cont_cols_df.head(3)"
   ]
  },
  {
   "cell_type": "code",
   "execution_count": 341,
   "metadata": {},
   "outputs": [
    {
     "data": {
      "text/plain": [
       "3543"
      ]
     },
     "execution_count": 341,
     "metadata": {},
     "output_type": "execute_result"
    }
   ],
   "source": [
    "len(cont_cols_df)"
   ]
  },
  {
   "cell_type": "code",
   "execution_count": 342,
   "metadata": {},
   "outputs": [
    {
     "data": {
      "text/plain": [
       "3543"
      ]
     },
     "execution_count": 342,
     "metadata": {},
     "output_type": "execute_result"
    }
   ],
   "source": [
    "len(demo_cat)"
   ]
  },
  {
   "cell_type": "code",
   "execution_count": 343,
   "metadata": {},
   "outputs": [],
   "source": [
    "cont_cols_df = cont_cols_df.reset_index()"
   ]
  },
  {
   "cell_type": "code",
   "execution_count": 344,
   "metadata": {},
   "outputs": [
    {
     "data": {
      "text/html": [
       "<div>\n",
       "<style scoped>\n",
       "    .dataframe tbody tr th:only-of-type {\n",
       "        vertical-align: middle;\n",
       "    }\n",
       "\n",
       "    .dataframe tbody tr th {\n",
       "        vertical-align: top;\n",
       "    }\n",
       "\n",
       "    .dataframe thead th {\n",
       "        text-align: right;\n",
       "    }\n",
       "</style>\n",
       "<table border=\"1\" class=\"dataframe\">\n",
       "  <thead>\n",
       "    <tr style=\"text-align: right;\">\n",
       "      <th></th>\n",
       "      <th>index</th>\n",
       "      <th>lotarea</th>\n",
       "      <th>strgearea</th>\n",
       "      <th>factryarea</th>\n",
       "      <th>bldgfront</th>\n",
       "      <th>assesstot</th>\n",
       "      <th>yearbuilt</th>\n",
       "      <th>irrlotcode_1</th>\n",
       "      <th>overlay1_1</th>\n",
       "      <th>overlay1_2</th>\n",
       "      <th>...</th>\n",
       "      <th>overlay1_10</th>\n",
       "      <th>splitzone_1</th>\n",
       "      <th>splitzone_2</th>\n",
       "      <th>ownertype_1</th>\n",
       "      <th>ownertype_2</th>\n",
       "      <th>ownertype_3</th>\n",
       "      <th>ext_1</th>\n",
       "      <th>ext_2</th>\n",
       "      <th>ext_3</th>\n",
       "      <th>ext_4</th>\n",
       "    </tr>\n",
       "  </thead>\n",
       "  <tbody>\n",
       "    <tr>\n",
       "      <th>0</th>\n",
       "      <td>82</td>\n",
       "      <td>1840.0</td>\n",
       "      <td>0.0</td>\n",
       "      <td>0.0</td>\n",
       "      <td>0.0</td>\n",
       "      <td>478592.0</td>\n",
       "      <td>1972</td>\n",
       "      <td>0.0</td>\n",
       "      <td>0.0</td>\n",
       "      <td>0.0</td>\n",
       "      <td>...</td>\n",
       "      <td>0.0</td>\n",
       "      <td>1.0</td>\n",
       "      <td>0.0</td>\n",
       "      <td>0.0</td>\n",
       "      <td>0.0</td>\n",
       "      <td>0.0</td>\n",
       "      <td>0.0</td>\n",
       "      <td>0.0</td>\n",
       "      <td>0.0</td>\n",
       "      <td>0.0</td>\n",
       "    </tr>\n",
       "    <tr>\n",
       "      <th>1</th>\n",
       "      <td>106</td>\n",
       "      <td>7767.0</td>\n",
       "      <td>0.0</td>\n",
       "      <td>0.0</td>\n",
       "      <td>0.0</td>\n",
       "      <td>64380.0</td>\n",
       "      <td>1972</td>\n",
       "      <td>1.0</td>\n",
       "      <td>0.0</td>\n",
       "      <td>0.0</td>\n",
       "      <td>...</td>\n",
       "      <td>0.0</td>\n",
       "      <td>1.0</td>\n",
       "      <td>0.0</td>\n",
       "      <td>0.0</td>\n",
       "      <td>0.0</td>\n",
       "      <td>0.0</td>\n",
       "      <td>0.0</td>\n",
       "      <td>0.0</td>\n",
       "      <td>0.0</td>\n",
       "      <td>0.0</td>\n",
       "    </tr>\n",
       "    <tr>\n",
       "      <th>2</th>\n",
       "      <td>134</td>\n",
       "      <td>8000.0</td>\n",
       "      <td>0.0</td>\n",
       "      <td>0.0</td>\n",
       "      <td>72.0</td>\n",
       "      <td>1757700.0</td>\n",
       "      <td>1922</td>\n",
       "      <td>0.0</td>\n",
       "      <td>0.0</td>\n",
       "      <td>0.0</td>\n",
       "      <td>...</td>\n",
       "      <td>0.0</td>\n",
       "      <td>1.0</td>\n",
       "      <td>0.0</td>\n",
       "      <td>0.0</td>\n",
       "      <td>0.0</td>\n",
       "      <td>0.0</td>\n",
       "      <td>0.0</td>\n",
       "      <td>1.0</td>\n",
       "      <td>0.0</td>\n",
       "      <td>0.0</td>\n",
       "    </tr>\n",
       "  </tbody>\n",
       "</table>\n",
       "<p>3 rows × 27 columns</p>\n",
       "</div>"
      ],
      "text/plain": [
       "   index  lotarea  strgearea  factryarea  bldgfront  assesstot  yearbuilt  \\\n",
       "0     82   1840.0        0.0         0.0        0.0   478592.0       1972   \n",
       "1    106   7767.0        0.0         0.0        0.0    64380.0       1972   \n",
       "2    134   8000.0        0.0         0.0       72.0  1757700.0       1922   \n",
       "\n",
       "   irrlotcode_1  overlay1_1  overlay1_2  ...  overlay1_10  splitzone_1  \\\n",
       "0           0.0         0.0         0.0  ...          0.0          1.0   \n",
       "1           1.0         0.0         0.0  ...          0.0          1.0   \n",
       "2           0.0         0.0         0.0  ...          0.0          1.0   \n",
       "\n",
       "   splitzone_2  ownertype_1  ownertype_2  ownertype_3  ext_1  ext_2  ext_3  \\\n",
       "0          0.0          0.0          0.0          0.0    0.0    0.0    0.0   \n",
       "1          0.0          0.0          0.0          0.0    0.0    0.0    0.0   \n",
       "2          0.0          0.0          0.0          0.0    0.0    1.0    0.0   \n",
       "\n",
       "   ext_4  \n",
       "0    0.0  \n",
       "1    0.0  \n",
       "2    0.0  \n",
       "\n",
       "[3 rows x 27 columns]"
      ]
     },
     "execution_count": 344,
     "metadata": {},
     "output_type": "execute_result"
    }
   ],
   "source": [
    "df2 = cont_cols_df.merge(demo_cat, how='outer', left_index=True, right_index=True)\n",
    "df2.head(3)"
   ]
  },
  {
   "cell_type": "code",
   "execution_count": 345,
   "metadata": {},
   "outputs": [],
   "source": [
    "# now remove columns that had questionable p-values\n",
    "df2 = df2.drop(axis=1, columns=['factryarea', 'strgearea', 'assesstot'])"
   ]
  },
  {
   "cell_type": "code",
   "execution_count": 346,
   "metadata": {},
   "outputs": [
    {
     "data": {
      "text/plain": [
       "24"
      ]
     },
     "execution_count": 346,
     "metadata": {},
     "output_type": "execute_result"
    }
   ],
   "source": [
    "#checking number of columns\n",
    "# before one-hot encoding the columns were 'irrlotcode', 'overlay1', 'splitzone', 'ownertype', 'ext'\n",
    "\n",
    "len(df2.columns)"
   ]
  },
  {
   "cell_type": "code",
   "execution_count": 347,
   "metadata": {},
   "outputs": [],
   "source": [
    "# making a model using continous & some categorical variables\n",
    "X2 = df2\n",
    "y2 = demolished_buildings['lifespan']\n",
    "\n",
    "X_train2, X_test2, y_train2, y_test2 = train_test_split(X2, y2, test_size=0.33, random_state=12)"
   ]
  },
  {
   "cell_type": "code",
   "execution_count": 348,
   "metadata": {},
   "outputs": [
    {
     "name": "stdout",
     "output_type": "stream",
     "text": [
      "Accuracy Score  0.9241797548876822\n",
      "Coefficients  {'index': 0.0002899849857458769, 'lotarea': 1.0962005111218138e-06, 'bldgfront': 0.015443088853120814, 'yearbuilt': -1.0199042825636502, 'irrlotcode_1': 0.8115953955017192, 'overlay1_1': 2.168924652209751, 'overlay1_2': 0.067237252460712, 'overlay1_3': 1.1263289537269254, 'overlay1_4': -0.610157438267647, 'overlay1_5': 2.6166579718042215, 'overlay1_6': -4.786188702421436, 'overlay1_7': -3.7957110364419586, 'overlay1_8': -3.491915721897984, 'overlay1_9': 1.7833027032601287, 'overlay1_10': -1.2752679231840456, 'splitzone_1': -6.241680500584169, 'splitzone_2': -5.282062444200504, 'ownertype_1': -2.4661354609314947, 'ownertype_2': -4.256106074061737, 'ownertype_3': -13.67111229368357, 'ext_1': 0.1893464280529193, 'ext_2': 1.2286553693594837, 'ext_3': -5.127564117354963, 'ext_4': -2.280779870132502}\n",
      "P-Values Greater than 0.05 [('irrlotcode_1', 0.055949995001861715), ('overlay1_1', 0.49523852943170665), ('overlay1_2', 0.10735711510093252), ('overlay1_3', 0.45383879727504306), ('overlay1_4', 0.6276564854778712), ('overlay1_5', 0.3611001260957446), ('overlay1_6', 0.06863229521798112), ('overlay1_8', 0.05225209380313934), ('splitzone_2', 0.07185100135705064), ('ownertype_1', 0.7115786454923033), ('ownertype_3', 0.2470695313420242)]\n",
      "Mean Squared Error  64.38704842332011\n",
      "Root Mean Squared Error  8.02415406278569\n",
      "R-Squared 0.9241797548876822\n",
      "Cross Validation Score  [0.92509469 0.91074622 0.9186826  0.93032679 0.92816291]\n"
     ]
    },
    {
     "data": {
      "text/html": [
       "<div>\n",
       "<style scoped>\n",
       "    .dataframe tbody tr th:only-of-type {\n",
       "        vertical-align: middle;\n",
       "    }\n",
       "\n",
       "    .dataframe tbody tr th {\n",
       "        vertical-align: top;\n",
       "    }\n",
       "\n",
       "    .dataframe thead th {\n",
       "        text-align: right;\n",
       "    }\n",
       "</style>\n",
       "<table border=\"1\" class=\"dataframe\">\n",
       "  <thead>\n",
       "    <tr style=\"text-align: right;\">\n",
       "      <th></th>\n",
       "      <th>Actual</th>\n",
       "      <th>Predicted</th>\n",
       "    </tr>\n",
       "  </thead>\n",
       "  <tbody>\n",
       "    <tr>\n",
       "      <th>36977</th>\n",
       "      <td>94</td>\n",
       "      <td>84.640673</td>\n",
       "    </tr>\n",
       "    <tr>\n",
       "      <th>35941</th>\n",
       "      <td>109</td>\n",
       "      <td>104.863987</td>\n",
       "    </tr>\n",
       "    <tr>\n",
       "      <th>33183</th>\n",
       "      <td>25</td>\n",
       "      <td>31.899380</td>\n",
       "    </tr>\n",
       "    <tr>\n",
       "      <th>13343</th>\n",
       "      <td>30</td>\n",
       "      <td>32.498119</td>\n",
       "    </tr>\n",
       "    <tr>\n",
       "      <th>21854</th>\n",
       "      <td>37</td>\n",
       "      <td>39.388207</td>\n",
       "    </tr>\n",
       "    <tr>\n",
       "      <th>...</th>\n",
       "      <td>...</td>\n",
       "      <td>...</td>\n",
       "    </tr>\n",
       "    <tr>\n",
       "      <th>26298</th>\n",
       "      <td>42</td>\n",
       "      <td>36.251321</td>\n",
       "    </tr>\n",
       "    <tr>\n",
       "      <th>37081</th>\n",
       "      <td>54</td>\n",
       "      <td>48.077464</td>\n",
       "    </tr>\n",
       "    <tr>\n",
       "      <th>10646</th>\n",
       "      <td>25</td>\n",
       "      <td>31.712878</td>\n",
       "    </tr>\n",
       "    <tr>\n",
       "      <th>35889</th>\n",
       "      <td>88</td>\n",
       "      <td>82.852960</td>\n",
       "    </tr>\n",
       "    <tr>\n",
       "      <th>10906</th>\n",
       "      <td>38</td>\n",
       "      <td>31.787261</td>\n",
       "    </tr>\n",
       "  </tbody>\n",
       "</table>\n",
       "<p>1170 rows × 2 columns</p>\n",
       "</div>"
      ],
      "text/plain": [
       "       Actual   Predicted\n",
       "36977      94   84.640673\n",
       "35941     109  104.863987\n",
       "33183      25   31.899380\n",
       "13343      30   32.498119\n",
       "21854      37   39.388207\n",
       "...       ...         ...\n",
       "26298      42   36.251321\n",
       "37081      54   48.077464\n",
       "10646      25   31.712878\n",
       "35889      88   82.852960\n",
       "10906      38   31.787261\n",
       "\n",
       "[1170 rows x 2 columns]"
      ]
     },
     "execution_count": 348,
     "metadata": {},
     "output_type": "execute_result"
    },
    {
     "data": {
      "image/png": "[encoded data removed]",
      "text/plain": [
       "<Figure size 432x288 with 1 Axes>"
      ]
     },
     "metadata": {
      "needs_background": "light"
     },
     "output_type": "display_data"
    }
   ],
   "source": [
    "linear_reg_model(X_train2, y_train2, X_test2, y_test2)"
   ]
  },
  {
   "cell_type": "markdown",
   "metadata": {},
   "source": [
    "__Comments__\n",
    "\n",
    "Model performance improved slightly with RMSE down to 8.0 and accuracy up to 92%. \n",
    "\n",
    "Most p-values are very small, negative numbers which means they are statistically significant. \n",
    "\n",
    "Because the model improved after taking out 'factryarea', 'strgearea', 'assesstot', we can conclude that these features did not have a significant impact on the model.\n",
    "\n",
    "Cross Validation confirms that the accuracy score of 0.92 is in the range of replicable scores.\n",
    "\n",
    "The residuals plot shows a pattern, so there is more information that can be gleaned from the data. The pattern can be addressed by one of the following:\n",
    "1. Independent variables may be missing, more variables can be included\n",
    "2. The model may perform better with a polynomial term.\n",
    "3. The model may perform better with an interaction term.\n",
    "\n",
    "Next iteration: include more categorical variables."
   ]
  },
  {
   "cell_type": "markdown",
   "metadata": {},
   "source": [
    "## Model 3A: Linear Regression (Best Model)"
   ]
  },
  {
   "cell_type": "markdown",
   "metadata": {},
   "source": [
    "### Using Mix of Continous & Categorical Variables"
   ]
  },
  {
   "cell_type": "code",
   "execution_count": 349,
   "metadata": {},
   "outputs": [],
   "source": [
    "infile = open('data/pickles/demo_cat2.pickle', 'rb')\n",
    "demo_cat2 = pickle.load(infile)\n",
    "infile.close()"
   ]
  },
  {
   "cell_type": "code",
   "execution_count": 350,
   "metadata": {},
   "outputs": [
    {
     "data": {
      "text/plain": [
       "3543"
      ]
     },
     "execution_count": 350,
     "metadata": {},
     "output_type": "execute_result"
    }
   ],
   "source": [
    "len(cont_cols_df)"
   ]
  },
  {
   "cell_type": "code",
   "execution_count": 351,
   "metadata": {},
   "outputs": [
    {
     "data": {
      "text/plain": [
       "3543"
      ]
     },
     "execution_count": 351,
     "metadata": {},
     "output_type": "execute_result"
    }
   ],
   "source": [
    "len(demo_cat2)"
   ]
  },
  {
   "cell_type": "code",
   "execution_count": 352,
   "metadata": {},
   "outputs": [
    {
     "data": {
      "text/html": [
       "<div>\n",
       "<style scoped>\n",
       "    .dataframe tbody tr th:only-of-type {\n",
       "        vertical-align: middle;\n",
       "    }\n",
       "\n",
       "    .dataframe tbody tr th {\n",
       "        vertical-align: top;\n",
       "    }\n",
       "\n",
       "    .dataframe thead th {\n",
       "        text-align: right;\n",
       "    }\n",
       "</style>\n",
       "<table border=\"1\" class=\"dataframe\">\n",
       "  <thead>\n",
       "    <tr style=\"text-align: right;\">\n",
       "      <th></th>\n",
       "      <th>index</th>\n",
       "      <th>lotarea</th>\n",
       "      <th>strgearea</th>\n",
       "      <th>factryarea</th>\n",
       "      <th>bldgfront</th>\n",
       "      <th>assesstot</th>\n",
       "      <th>yearbuilt</th>\n",
       "      <th>irrlotcode_1</th>\n",
       "      <th>overlay1_1</th>\n",
       "      <th>overlay1_2</th>\n",
       "      <th>...</th>\n",
       "      <th>spdist1_7</th>\n",
       "      <th>spdist1_8</th>\n",
       "      <th>spdist1_10</th>\n",
       "      <th>zonedist1_1</th>\n",
       "      <th>zonedist1_2</th>\n",
       "      <th>zonedist1_3</th>\n",
       "      <th>zonedist1_4</th>\n",
       "      <th>zonedist2_1</th>\n",
       "      <th>zonedist2_2</th>\n",
       "      <th>zonedist2_3</th>\n",
       "    </tr>\n",
       "  </thead>\n",
       "  <tbody>\n",
       "    <tr>\n",
       "      <th>0</th>\n",
       "      <td>82</td>\n",
       "      <td>1840.0</td>\n",
       "      <td>0.0</td>\n",
       "      <td>0.0</td>\n",
       "      <td>0.0</td>\n",
       "      <td>478592.0</td>\n",
       "      <td>1972</td>\n",
       "      <td>0.0</td>\n",
       "      <td>0.0</td>\n",
       "      <td>0.0</td>\n",
       "      <td>...</td>\n",
       "      <td>0.0</td>\n",
       "      <td>0.0</td>\n",
       "      <td>0.0</td>\n",
       "      <td>0.0</td>\n",
       "      <td>1.0</td>\n",
       "      <td>0.0</td>\n",
       "      <td>0.0</td>\n",
       "      <td>0.0</td>\n",
       "      <td>0.0</td>\n",
       "      <td>0.0</td>\n",
       "    </tr>\n",
       "    <tr>\n",
       "      <th>1</th>\n",
       "      <td>106</td>\n",
       "      <td>7767.0</td>\n",
       "      <td>0.0</td>\n",
       "      <td>0.0</td>\n",
       "      <td>0.0</td>\n",
       "      <td>64380.0</td>\n",
       "      <td>1972</td>\n",
       "      <td>1.0</td>\n",
       "      <td>0.0</td>\n",
       "      <td>0.0</td>\n",
       "      <td>...</td>\n",
       "      <td>0.0</td>\n",
       "      <td>0.0</td>\n",
       "      <td>0.0</td>\n",
       "      <td>1.0</td>\n",
       "      <td>0.0</td>\n",
       "      <td>0.0</td>\n",
       "      <td>0.0</td>\n",
       "      <td>0.0</td>\n",
       "      <td>0.0</td>\n",
       "      <td>0.0</td>\n",
       "    </tr>\n",
       "    <tr>\n",
       "      <th>2</th>\n",
       "      <td>134</td>\n",
       "      <td>8000.0</td>\n",
       "      <td>0.0</td>\n",
       "      <td>0.0</td>\n",
       "      <td>72.0</td>\n",
       "      <td>1757700.0</td>\n",
       "      <td>1922</td>\n",
       "      <td>0.0</td>\n",
       "      <td>0.0</td>\n",
       "      <td>0.0</td>\n",
       "      <td>...</td>\n",
       "      <td>0.0</td>\n",
       "      <td>0.0</td>\n",
       "      <td>0.0</td>\n",
       "      <td>0.0</td>\n",
       "      <td>1.0</td>\n",
       "      <td>0.0</td>\n",
       "      <td>0.0</td>\n",
       "      <td>0.0</td>\n",
       "      <td>0.0</td>\n",
       "      <td>0.0</td>\n",
       "    </tr>\n",
       "  </tbody>\n",
       "</table>\n",
       "<p>3 rows × 59 columns</p>\n",
       "</div>"
      ],
      "text/plain": [
       "   index  lotarea  strgearea  factryarea  bldgfront  assesstot  yearbuilt  \\\n",
       "0     82   1840.0        0.0         0.0        0.0   478592.0       1972   \n",
       "1    106   7767.0        0.0         0.0        0.0    64380.0       1972   \n",
       "2    134   8000.0        0.0         0.0       72.0  1757700.0       1922   \n",
       "\n",
       "   irrlotcode_1  overlay1_1  overlay1_2  ...  spdist1_7  spdist1_8  \\\n",
       "0           0.0         0.0         0.0  ...        0.0        0.0   \n",
       "1           1.0         0.0         0.0  ...        0.0        0.0   \n",
       "2           0.0         0.0         0.0  ...        0.0        0.0   \n",
       "\n",
       "   spdist1_10  zonedist1_1  zonedist1_2  zonedist1_3  zonedist1_4  \\\n",
       "0         0.0          0.0          1.0          0.0          0.0   \n",
       "1         0.0          1.0          0.0          0.0          0.0   \n",
       "2         0.0          0.0          1.0          0.0          0.0   \n",
       "\n",
       "   zonedist2_1  zonedist2_2  zonedist2_3  \n",
       "0          0.0          0.0          0.0  \n",
       "1          0.0          0.0          0.0  \n",
       "2          0.0          0.0          0.0  \n",
       "\n",
       "[3 rows x 59 columns]"
      ]
     },
     "execution_count": 352,
     "metadata": {},
     "output_type": "execute_result"
    }
   ],
   "source": [
    "df3 = cont_cols_df.merge(demo_cat2, how='outer', left_index=True, right_index=True)\n",
    "df3.head(3)"
   ]
  },
  {
   "cell_type": "code",
   "execution_count": 363,
   "metadata": {},
   "outputs": [],
   "source": [
    "# now remove columns that had questionable p-values\n",
    "df3 = df3.drop(axis=1, columns=['index', 'factryarea', 'strgearea', 'assesstot'])"
   ]
  },
  {
   "cell_type": "code",
   "execution_count": 364,
   "metadata": {},
   "outputs": [
    {
     "data": {
      "text/plain": [
       "55"
      ]
     },
     "execution_count": 364,
     "metadata": {},
     "output_type": "execute_result"
    }
   ],
   "source": [
    "#checking number of columns\n",
    "len(df3.columns) #should be 55"
   ]
  },
  {
   "cell_type": "code",
   "execution_count": 365,
   "metadata": {},
   "outputs": [],
   "source": [
    "# making a model using continous & some categorical variables\n",
    "X3 = df3\n",
    "y3 = demolished_buildings['lifespan']\n",
    "\n",
    "X_train3, X_test3, y_train3, y_test3 = train_test_split(X3, y3, test_size=0.33, random_state=12)"
   ]
  },
  {
   "cell_type": "code",
   "execution_count": 366,
   "metadata": {},
   "outputs": [
    {
     "name": "stdout",
     "output_type": "stream",
     "text": [
      "Accuracy Score  0.9193047557991171\n",
      "Coefficients  {'lotarea': -9.745919417459767e-07, 'bldgfront': 0.01823119958450442, 'yearbuilt': -1.01264004627496, 'irrlotcode_1': 0.4967575017484891, 'overlay1_1': 4.360654737583763, 'overlay1_2': 2.238809182223239, 'overlay1_3': 3.376483931778153, 'overlay1_4': 2.058198007578137, 'overlay1_5': 3.989732757995451, 'overlay1_6': -2.1800249193867987, 'overlay1_7': -1.3159000621523778, 'overlay1_8': 0.3207587577585578, 'overlay1_9': 4.02272558728008, 'overlay1_10': 1.3659334880767382, 'splitzone_1': -4.932192214898141, 'splitzone_2': -4.481007497819888, 'ownertype_1': -2.026729752787885, 'ownertype_2': -5.272423995091908, 'ownertype_3': -13.121573590321956, 'ext_1': 4.0308398612586736, 'ext_2': 3.657197567382663, 'ext_3': -0.31758711577755583, 'ext_4': -0.8072142325044305, 'zonedist3_1': 0.3149595938787624, 'spdist2_1': -7.273267676869854, 'ltdheight_1': 6.217248937900877e-15, 'histdist_1': 0.022068438247968225, 'bldgclass_1': -4.646723807554703, 'bldgclass_2': -5.366827482178276, 'bldgclass_3': -5.313878313527719, 'bldgclass_4': -1.146576827278731, 'bldgclass_5': -2.260242910948458, 'bldgclass_6': -1.4828629888182692, 'bldgclass_7': -5.870124432416785, 'bldgclass_8': 1.5455498564357821, 'bldgclass_9': 3.3526475737975634, 'bldgclass_10': -5.409778575166271, 'bldgclass_11': -4.5189586935731825, 'bldgclass_12': -8.902101378171357, 'spdist1_1': 1.4611641408396034, 'spdist1_2': 0.31463660507395824, 'spdist1_3': 2.475710683895116, 'spdist1_4': -0.9301252592100845, 'spdist1_5': 0.46149396588449876, 'spdist1_6': 1.1494596204803367, 'spdist1_7': -2.422331191191608, 'spdist1_8': 6.834832133488487, 'spdist1_10': 1.2009193129866285, 'zonedist1_1': -6.430070088947598, 'zonedist1_2': -0.11255619894616142, 'zonedist1_3': -5.78474316755171, 'zonedist1_4': 2.9141697427274806, 'zonedist2_1': -0.9249249275083242, 'zonedist2_2': 4.214295501353491, 'zonedist2_3': -0.4971103947948583}\n",
      "P-Values Greater than 0.05 [('irrlotcode_1', 0.055949995001861715), ('overlay1_1', 0.49523852943170665), ('overlay1_2', 0.10735711510093252), ('overlay1_3', 0.45383879727504306), ('overlay1_4', 0.6276564854778712), ('overlay1_5', 0.3611001260957446), ('overlay1_6', 0.06863229521798112), ('overlay1_8', 0.05225209380313934), ('splitzone_2', 0.07185100135705064), ('ownertype_1', 0.7115786454923033), ('ownertype_3', 0.2470695313420242), ('spdist2_1', 0.4676499124417647), ('histdist_1', 0.9449340118304432), ('bldgclass_7', 0.3302066730173545), ('bldgclass_9', 0.4605633386844876), ('bldgclass_10', 0.09130433115060123), ('bldgclass_11', 0.3337962779864635), ('bldgclass_12', 0.8998857938931115), ('spdist1_1', 0.36027863457851717), ('spdist1_3', 0.48152589416877356), ('spdist1_5', 0.561710757425429), ('spdist1_10', 0.12143123850238134), ('zonedist1_3', 0.11281610421550263), ('zonedist1_4', 0.857127364482397), ('zonedist2_1', 0.10593786107165847), ('zonedist2_2', 0.5650994857732441), ('zonedist2_3', 0.44915531200737)]\n",
      "Mean Squared Error  68.52692955815552\n",
      "Root Mean Squared Error  8.278099392865219\n",
      "R-Squared 0.9193047557991171\n",
      "Cross Validation Score  [0.91193278 0.89902867 0.91877303 0.91509346 0.92634569]\n"
     ]
    },
    {
     "name": "stderr",
     "output_type": "stream",
     "text": [
      "/opt/anaconda3/envs/capstone_env/lib/python3.8/site-packages/sklearn/feature_selection/_univariate_selection.py:302: RuntimeWarning: invalid value encountered in true_divide\n",
      "  corr /= X_norms\n"
     ]
    },
    {
     "data": {
      "text/html": [
       "<div>\n",
       "<style scoped>\n",
       "    .dataframe tbody tr th:only-of-type {\n",
       "        vertical-align: middle;\n",
       "    }\n",
       "\n",
       "    .dataframe tbody tr th {\n",
       "        vertical-align: top;\n",
       "    }\n",
       "\n",
       "    .dataframe thead th {\n",
       "        text-align: right;\n",
       "    }\n",
       "</style>\n",
       "<table border=\"1\" class=\"dataframe\">\n",
       "  <thead>\n",
       "    <tr style=\"text-align: right;\">\n",
       "      <th></th>\n",
       "      <th>Actual</th>\n",
       "      <th>Predicted</th>\n",
       "    </tr>\n",
       "  </thead>\n",
       "  <tbody>\n",
       "    <tr>\n",
       "      <th>36977</th>\n",
       "      <td>94</td>\n",
       "      <td>82.197214</td>\n",
       "    </tr>\n",
       "    <tr>\n",
       "      <th>35941</th>\n",
       "      <td>109</td>\n",
       "      <td>105.505558</td>\n",
       "    </tr>\n",
       "    <tr>\n",
       "      <th>33183</th>\n",
       "      <td>25</td>\n",
       "      <td>32.784086</td>\n",
       "    </tr>\n",
       "    <tr>\n",
       "      <th>13343</th>\n",
       "      <td>30</td>\n",
       "      <td>34.850037</td>\n",
       "    </tr>\n",
       "    <tr>\n",
       "      <th>21854</th>\n",
       "      <td>37</td>\n",
       "      <td>38.118732</td>\n",
       "    </tr>\n",
       "    <tr>\n",
       "      <th>...</th>\n",
       "      <td>...</td>\n",
       "      <td>...</td>\n",
       "    </tr>\n",
       "    <tr>\n",
       "      <th>26298</th>\n",
       "      <td>42</td>\n",
       "      <td>34.207869</td>\n",
       "    </tr>\n",
       "    <tr>\n",
       "      <th>37081</th>\n",
       "      <td>54</td>\n",
       "      <td>48.148382</td>\n",
       "    </tr>\n",
       "    <tr>\n",
       "      <th>10646</th>\n",
       "      <td>25</td>\n",
       "      <td>29.560788</td>\n",
       "    </tr>\n",
       "    <tr>\n",
       "      <th>35889</th>\n",
       "      <td>88</td>\n",
       "      <td>76.290353</td>\n",
       "    </tr>\n",
       "    <tr>\n",
       "      <th>10906</th>\n",
       "      <td>38</td>\n",
       "      <td>40.525926</td>\n",
       "    </tr>\n",
       "  </tbody>\n",
       "</table>\n",
       "<p>1170 rows × 2 columns</p>\n",
       "</div>"
      ],
      "text/plain": [
       "       Actual   Predicted\n",
       "36977      94   82.197214\n",
       "35941     109  105.505558\n",
       "33183      25   32.784086\n",
       "13343      30   34.850037\n",
       "21854      37   38.118732\n",
       "...       ...         ...\n",
       "26298      42   34.207869\n",
       "37081      54   48.148382\n",
       "10646      25   29.560788\n",
       "35889      88   76.290353\n",
       "10906      38   40.525926\n",
       "\n",
       "[1170 rows x 2 columns]"
      ]
     },
     "execution_count": 366,
     "metadata": {},
     "output_type": "execute_result"
    },
    {
     "data": {
      "image/png": "[encoded data removed]",
      "text/plain": [
       "<Figure size 432x288 with 1 Axes>"
      ]
     },
     "metadata": {
      "needs_background": "light"
     },
     "output_type": "display_data"
    }
   ],
   "source": [
    "linear_reg_model(X_train3, y_train3, X_test3, y_test3)"
   ]
  },
  {
   "cell_type": "markdown",
   "metadata": {},
   "source": [
    "__Comments__\n",
    "\n",
    "This model performed very well at 94% accuracy with a RMSE of 6.9. \n",
    "\n",
    "This means that the predictions are within 7 years of the actual value in either direction. This is useful.\n",
    "\n",
    "The residuals plot still shows a pattern. All possible features have been included, so the next potential steps include interactions and polynomial regression."
   ]
  },
  {
   "cell_type": "markdown",
   "metadata": {},
   "source": [
    "## Model 3B: Linear Regression (including questionable features)"
   ]
  },
  {
   "cell_type": "markdown",
   "metadata": {},
   "source": [
    "### In this model, keeping columns 'factryarea', 'strgearea', 'assesstot'"
   ]
  },
  {
   "cell_type": "code",
   "execution_count": 367,
   "metadata": {},
   "outputs": [],
   "source": [
    "infile = open('data/pickles/demo_cat2.pickle', 'rb')\n",
    "demo_cat2 = pickle.load(infile)\n",
    "infile.close()"
   ]
  },
  {
   "cell_type": "code",
   "execution_count": 368,
   "metadata": {},
   "outputs": [
    {
     "data": {
      "text/plain": [
       "3543"
      ]
     },
     "execution_count": 368,
     "metadata": {},
     "output_type": "execute_result"
    }
   ],
   "source": [
    "len(cont_cols_df)"
   ]
  },
  {
   "cell_type": "code",
   "execution_count": 369,
   "metadata": {},
   "outputs": [
    {
     "data": {
      "text/plain": [
       "3543"
      ]
     },
     "execution_count": 369,
     "metadata": {},
     "output_type": "execute_result"
    }
   ],
   "source": [
    "len(demo_cat2)"
   ]
  },
  {
   "cell_type": "code",
   "execution_count": 370,
   "metadata": {},
   "outputs": [
    {
     "data": {
      "text/html": [
       "<div>\n",
       "<style scoped>\n",
       "    .dataframe tbody tr th:only-of-type {\n",
       "        vertical-align: middle;\n",
       "    }\n",
       "\n",
       "    .dataframe tbody tr th {\n",
       "        vertical-align: top;\n",
       "    }\n",
       "\n",
       "    .dataframe thead th {\n",
       "        text-align: right;\n",
       "    }\n",
       "</style>\n",
       "<table border=\"1\" class=\"dataframe\">\n",
       "  <thead>\n",
       "    <tr style=\"text-align: right;\">\n",
       "      <th></th>\n",
       "      <th>index</th>\n",
       "      <th>lotarea</th>\n",
       "      <th>strgearea</th>\n",
       "      <th>factryarea</th>\n",
       "      <th>bldgfront</th>\n",
       "      <th>assesstot</th>\n",
       "      <th>yearbuilt</th>\n",
       "      <th>irrlotcode_1</th>\n",
       "      <th>overlay1_1</th>\n",
       "      <th>overlay1_2</th>\n",
       "      <th>...</th>\n",
       "      <th>spdist1_7</th>\n",
       "      <th>spdist1_8</th>\n",
       "      <th>spdist1_10</th>\n",
       "      <th>zonedist1_1</th>\n",
       "      <th>zonedist1_2</th>\n",
       "      <th>zonedist1_3</th>\n",
       "      <th>zonedist1_4</th>\n",
       "      <th>zonedist2_1</th>\n",
       "      <th>zonedist2_2</th>\n",
       "      <th>zonedist2_3</th>\n",
       "    </tr>\n",
       "  </thead>\n",
       "  <tbody>\n",
       "    <tr>\n",
       "      <th>0</th>\n",
       "      <td>82</td>\n",
       "      <td>1840.0</td>\n",
       "      <td>0.0</td>\n",
       "      <td>0.0</td>\n",
       "      <td>0.0</td>\n",
       "      <td>478592.0</td>\n",
       "      <td>1972</td>\n",
       "      <td>0.0</td>\n",
       "      <td>0.0</td>\n",
       "      <td>0.0</td>\n",
       "      <td>...</td>\n",
       "      <td>0.0</td>\n",
       "      <td>0.0</td>\n",
       "      <td>0.0</td>\n",
       "      <td>0.0</td>\n",
       "      <td>1.0</td>\n",
       "      <td>0.0</td>\n",
       "      <td>0.0</td>\n",
       "      <td>0.0</td>\n",
       "      <td>0.0</td>\n",
       "      <td>0.0</td>\n",
       "    </tr>\n",
       "    <tr>\n",
       "      <th>1</th>\n",
       "      <td>106</td>\n",
       "      <td>7767.0</td>\n",
       "      <td>0.0</td>\n",
       "      <td>0.0</td>\n",
       "      <td>0.0</td>\n",
       "      <td>64380.0</td>\n",
       "      <td>1972</td>\n",
       "      <td>1.0</td>\n",
       "      <td>0.0</td>\n",
       "      <td>0.0</td>\n",
       "      <td>...</td>\n",
       "      <td>0.0</td>\n",
       "      <td>0.0</td>\n",
       "      <td>0.0</td>\n",
       "      <td>1.0</td>\n",
       "      <td>0.0</td>\n",
       "      <td>0.0</td>\n",
       "      <td>0.0</td>\n",
       "      <td>0.0</td>\n",
       "      <td>0.0</td>\n",
       "      <td>0.0</td>\n",
       "    </tr>\n",
       "    <tr>\n",
       "      <th>2</th>\n",
       "      <td>134</td>\n",
       "      <td>8000.0</td>\n",
       "      <td>0.0</td>\n",
       "      <td>0.0</td>\n",
       "      <td>72.0</td>\n",
       "      <td>1757700.0</td>\n",
       "      <td>1922</td>\n",
       "      <td>0.0</td>\n",
       "      <td>0.0</td>\n",
       "      <td>0.0</td>\n",
       "      <td>...</td>\n",
       "      <td>0.0</td>\n",
       "      <td>0.0</td>\n",
       "      <td>0.0</td>\n",
       "      <td>0.0</td>\n",
       "      <td>1.0</td>\n",
       "      <td>0.0</td>\n",
       "      <td>0.0</td>\n",
       "      <td>0.0</td>\n",
       "      <td>0.0</td>\n",
       "      <td>0.0</td>\n",
       "    </tr>\n",
       "  </tbody>\n",
       "</table>\n",
       "<p>3 rows × 59 columns</p>\n",
       "</div>"
      ],
      "text/plain": [
       "   index  lotarea  strgearea  factryarea  bldgfront  assesstot  yearbuilt  \\\n",
       "0     82   1840.0        0.0         0.0        0.0   478592.0       1972   \n",
       "1    106   7767.0        0.0         0.0        0.0    64380.0       1972   \n",
       "2    134   8000.0        0.0         0.0       72.0  1757700.0       1922   \n",
       "\n",
       "   irrlotcode_1  overlay1_1  overlay1_2  ...  spdist1_7  spdist1_8  \\\n",
       "0           0.0         0.0         0.0  ...        0.0        0.0   \n",
       "1           1.0         0.0         0.0  ...        0.0        0.0   \n",
       "2           0.0         0.0         0.0  ...        0.0        0.0   \n",
       "\n",
       "   spdist1_10  zonedist1_1  zonedist1_2  zonedist1_3  zonedist1_4  \\\n",
       "0         0.0          0.0          1.0          0.0          0.0   \n",
       "1         0.0          1.0          0.0          0.0          0.0   \n",
       "2         0.0          0.0          1.0          0.0          0.0   \n",
       "\n",
       "   zonedist2_1  zonedist2_2  zonedist2_3  \n",
       "0          0.0          0.0          0.0  \n",
       "1          0.0          0.0          0.0  \n",
       "2          0.0          0.0          0.0  \n",
       "\n",
       "[3 rows x 59 columns]"
      ]
     },
     "execution_count": 370,
     "metadata": {},
     "output_type": "execute_result"
    }
   ],
   "source": [
    "df4 = cont_cols_df.merge(demo_cat2, how='outer', left_index=True, right_index=True)\n",
    "df4.head(3)"
   ]
  },
  {
   "cell_type": "code",
   "execution_count": 371,
   "metadata": {},
   "outputs": [
    {
     "data": {
      "text/plain": [
       "59"
      ]
     },
     "execution_count": 371,
     "metadata": {},
     "output_type": "execute_result"
    }
   ],
   "source": [
    "#checking number of columns\n",
    "len(df4.columns)"
   ]
  },
  {
   "cell_type": "code",
   "execution_count": 372,
   "metadata": {},
   "outputs": [],
   "source": [
    "# making a model using continous & some categorical variables\n",
    "X4 = df4\n",
    "y4 = demolished_buildings['lifespan']\n",
    "\n",
    "X_train4, X_test4, y_train4, y_test4 = train_test_split(X4, y4, test_size=0.33, random_state=12)"
   ]
  },
  {
   "cell_type": "code",
   "execution_count": 373,
   "metadata": {},
   "outputs": [
    {
     "name": "stdout",
     "output_type": "stream",
     "text": [
      "Accuracy Score  0.9304126452470942\n",
      "Coefficients  {'index': 0.0002585706723263737, 'lotarea': 1.932708344741574e-06, 'strgearea': -1.458237369405109e-05, 'factryarea': -1.2190475626323513e-05, 'bldgfront': 0.021578390085000263, 'assesstot': -3.171961981962568e-08, 'yearbuilt': -1.0118523558047858, 'irrlotcode_1': 0.7918753686113327, 'overlay1_1': 3.9750872430890674, 'overlay1_2': 2.3179888028055866, 'overlay1_3': 3.176094924403401, 'overlay1_4': 1.6385812240479654, 'overlay1_5': 3.9114838775507668, 'overlay1_6': -2.7306926055008236, 'overlay1_7': -1.7687753258581047, 'overlay1_8': -0.22946219320879216, 'overlay1_9': 2.126636382831917, 'overlay1_10': -0.5475321971586076, 'splitzone_1': -3.70600947137119, 'splitzone_2': -4.1081185728327565, 'ownertype_1': -1.255821981430113, 'ownertype_2': -4.990749479923554, 'ownertype_3': -15.638183617550808, 'ext_1': 2.176127106212034, 'ext_2': 1.8270209041708743, 'ext_3': -1.8337048489786523, 'ext_4': -0.43204429563910496, 'zonedist3_1': -2.5120352173119684, 'spdist2_1': -9.19996961060766, 'ltdheight_1': -1.149080830487037e-14, 'histdist_1': 2.2348926437877665, 'bldgclass_1': -3.8462003667059768, 'bldgclass_2': -5.248211540073733, 'bldgclass_3': -4.092424618914222, 'bldgclass_4': -1.0670794870865667, 'bldgclass_5': -1.6740518798076018, 'bldgclass_6': -2.1353182434935967, 'bldgclass_7': -3.1096112002335414, 'bldgclass_8': 0.4759553224802852, 'bldgclass_9': 2.7327096276781195, 'bldgclass_10': -1.8082785516110043, 'bldgclass_11': -7.241694034832434, 'bldgclass_12': -9.031038516595213, 'spdist1_1': 1.3785966483975642, 'spdist1_2': 1.6166301200720155, 'spdist1_3': 1.0567133303191119, 'spdist1_4': -0.7959401154359675, 'spdist1_5': -0.5508298417437145, 'spdist1_6': 0.9772982720937089, 'spdist1_7': -0.7103454659300623, 'spdist1_8': 5.791219475972176, 'spdist1_10': 0.04870418048183737, 'zonedist1_1': -5.05863191941337, 'zonedist1_2': 0.11108835643280313, 'zonedist1_3': -4.198205196182111, 'zonedist1_4': 1.331620714953823, 'zonedist2_1': 0.07784060293566258, 'zonedist2_2': 4.385315976339043, 'zonedist2_3': 0.6286944585001232}\n",
      "P-Values Greater than 0.05 [('strgearea', 0.11552716074567967), ('assesstot', 0.3608876591422222), ('irrlotcode_1', 0.055949995001861715), ('overlay1_1', 0.49523852943170665), ('overlay1_2', 0.10735711510093252), ('overlay1_3', 0.45383879727504306), ('overlay1_4', 0.6276564854778712), ('overlay1_5', 0.3611001260957446), ('overlay1_6', 0.06863229521798112), ('overlay1_8', 0.05225209380313934), ('splitzone_2', 0.07185100135705064), ('ownertype_1', 0.7115786454923033), ('ownertype_3', 0.2470695313420242), ('spdist2_1', 0.4676499124417647), ('histdist_1', 0.9449340118304432), ('bldgclass_7', 0.3302066730173545), ('bldgclass_9', 0.4605633386844876), ('bldgclass_10', 0.09130433115060123), ('bldgclass_11', 0.3337962779864635), ('bldgclass_12', 0.8998857938931115), ('spdist1_1', 0.36027863457851717), ('spdist1_3', 0.48152589416877356), ('spdist1_5', 0.561710757425429), ('spdist1_10', 0.12143123850238134), ('zonedist1_3', 0.11281610421550263), ('zonedist1_4', 0.857127364482397), ('zonedist2_1', 0.10593786107165847), ('zonedist2_2', 0.5650994857732441), ('zonedist2_3', 0.44915531200737)]\n",
      "Mean Squared Error  59.094037133338006\n",
      "Root Mean Squared Error  7.687264606694504\n",
      "R-Squared 0.9304126452470942\n",
      "Cross Validation Score  [0.92721221 0.91697216 0.92146536 0.93046561 0.9332716 ]\n"
     ]
    },
    {
     "name": "stderr",
     "output_type": "stream",
     "text": [
      "/opt/anaconda3/envs/capstone_env/lib/python3.8/site-packages/sklearn/feature_selection/_univariate_selection.py:302: RuntimeWarning: invalid value encountered in true_divide\n",
      "  corr /= X_norms\n"
     ]
    },
    {
     "data": {
      "text/html": [
       "<div>\n",
       "<style scoped>\n",
       "    .dataframe tbody tr th:only-of-type {\n",
       "        vertical-align: middle;\n",
       "    }\n",
       "\n",
       "    .dataframe tbody tr th {\n",
       "        vertical-align: top;\n",
       "    }\n",
       "\n",
       "    .dataframe thead th {\n",
       "        text-align: right;\n",
       "    }\n",
       "</style>\n",
       "<table border=\"1\" class=\"dataframe\">\n",
       "  <thead>\n",
       "    <tr style=\"text-align: right;\">\n",
       "      <th></th>\n",
       "      <th>Actual</th>\n",
       "      <th>Predicted</th>\n",
       "    </tr>\n",
       "  </thead>\n",
       "  <tbody>\n",
       "    <tr>\n",
       "      <th>36977</th>\n",
       "      <td>94</td>\n",
       "      <td>86.472251</td>\n",
       "    </tr>\n",
       "    <tr>\n",
       "      <th>35941</th>\n",
       "      <td>109</td>\n",
       "      <td>106.646706</td>\n",
       "    </tr>\n",
       "    <tr>\n",
       "      <th>33183</th>\n",
       "      <td>25</td>\n",
       "      <td>35.004860</td>\n",
       "    </tr>\n",
       "    <tr>\n",
       "      <th>13343</th>\n",
       "      <td>30</td>\n",
       "      <td>33.178370</td>\n",
       "    </tr>\n",
       "    <tr>\n",
       "      <th>21854</th>\n",
       "      <td>37</td>\n",
       "      <td>38.047148</td>\n",
       "    </tr>\n",
       "    <tr>\n",
       "      <th>...</th>\n",
       "      <td>...</td>\n",
       "      <td>...</td>\n",
       "    </tr>\n",
       "    <tr>\n",
       "      <th>26298</th>\n",
       "      <td>42</td>\n",
       "      <td>35.669038</td>\n",
       "    </tr>\n",
       "    <tr>\n",
       "      <th>37081</th>\n",
       "      <td>54</td>\n",
       "      <td>50.601596</td>\n",
       "    </tr>\n",
       "    <tr>\n",
       "      <th>10646</th>\n",
       "      <td>25</td>\n",
       "      <td>27.775016</td>\n",
       "    </tr>\n",
       "    <tr>\n",
       "      <th>35889</th>\n",
       "      <td>88</td>\n",
       "      <td>79.548000</td>\n",
       "    </tr>\n",
       "    <tr>\n",
       "      <th>10906</th>\n",
       "      <td>38</td>\n",
       "      <td>36.845931</td>\n",
       "    </tr>\n",
       "  </tbody>\n",
       "</table>\n",
       "<p>1170 rows × 2 columns</p>\n",
       "</div>"
      ],
      "text/plain": [
       "       Actual   Predicted\n",
       "36977      94   86.472251\n",
       "35941     109  106.646706\n",
       "33183      25   35.004860\n",
       "13343      30   33.178370\n",
       "21854      37   38.047148\n",
       "...       ...         ...\n",
       "26298      42   35.669038\n",
       "37081      54   50.601596\n",
       "10646      25   27.775016\n",
       "35889      88   79.548000\n",
       "10906      38   36.845931\n",
       "\n",
       "[1170 rows x 2 columns]"
      ]
     },
     "execution_count": 373,
     "metadata": {},
     "output_type": "execute_result"
    },
    {
     "data": {
      "image/png": "[encoded data removed]",
      "text/plain": [
       "<Figure size 432x288 with 1 Axes>"
      ]
     },
     "metadata": {
      "needs_background": "light"
     },
     "output_type": "display_data"
    }
   ],
   "source": [
    "linear_reg_model(X_train4, y_train4, X_test4, y_test4)"
   ]
  },
  {
   "cell_type": "markdown",
   "metadata": {},
   "source": [
    "__Comments__\n",
    "\n",
    "This model performed the same as the prior model, indicating that features 'factryarea', 'strgearea', 'assesstot' have no meaningful impact on the model. "
   ]
  },
  {
   "cell_type": "markdown",
   "metadata": {},
   "source": [
    "## Model 3C: Linear Regression (Limited Features) - BEST MODEL"
   ]
  },
  {
   "cell_type": "markdown",
   "metadata": {},
   "source": [
    "### Using all features with a P-value below 0.05"
   ]
  },
  {
   "cell_type": "code",
   "execution_count": 393,
   "metadata": {},
   "outputs": [
    {
     "name": "stdout",
     "output_type": "stream",
     "text": [
      "Accuracy Score  0.9267716167409483\n",
      "Coefficients  {'index': 0.00026928968951924983, 'lotarea': 2.971657687104878e-06, 'bldgfront': 0.015589389438471097, 'yearbuilt': -1.0114166128934954, 'overlay1_7': -2.0686765391892377, 'overlay1_9': 1.0352797173954071, 'overlay1_10': -1.0074016692749117, 'splitzone_1': -1.526668268484904, 'ownertype_2': -4.559075347338942, 'ext_1': 1.693966582506926, 'ext_2': 1.763228221471504, 'ext_3': -3.2102894580418533, 'ext_4': -0.9889647811894199, 'zonedist3_1': 0.31860140399749226, 'ltdheight_1': 3.923084079815453e-12, 'bldgclass_1': -3.1078827344765423, 'bldgclass_2': -5.0929036301538115, 'bldgclass_3': -3.4134403830865816, 'bldgclass_4': 0.023408618265498938, 'bldgclass_5': -0.9360749210175731, 'bldgclass_6': -1.9091702222747668, 'bldgclass_8': 0.5672780910675437, 'spdist1_2': 0.7874806620091958, 'spdist1_4': -1.6281689867570952, 'spdist1_6': 0.43071542421990533, 'spdist1_7': -1.8895521964512467, 'spdist1_8': 5.2027165591444176, 'zonedist1_1': -0.4055678147978874, 'zonedist1_2': 3.9164106238866663}\n",
      "P-Values Greater than 0.05 []\n",
      "Mean Squared Error  62.18602237275024\n",
      "Root Mean Squared Error  7.885811459371206\n",
      "R-Squared 0.9267716167409483\n",
      "Cross Validation Score  [0.92616359 0.91296883 0.92354343 0.92312179 0.93363068]\n"
     ]
    },
    {
     "name": "stderr",
     "output_type": "stream",
     "text": [
      "/opt/anaconda3/envs/capstone_env/lib/python3.8/site-packages/sklearn/feature_selection/_univariate_selection.py:302: RuntimeWarning: invalid value encountered in true_divide\n",
      "  corr /= X_norms\n"
     ]
    },
    {
     "data": {
      "text/html": [
       "<div>\n",
       "<style scoped>\n",
       "    .dataframe tbody tr th:only-of-type {\n",
       "        vertical-align: middle;\n",
       "    }\n",
       "\n",
       "    .dataframe tbody tr th {\n",
       "        vertical-align: top;\n",
       "    }\n",
       "\n",
       "    .dataframe thead th {\n",
       "        text-align: right;\n",
       "    }\n",
       "</style>\n",
       "<table border=\"1\" class=\"dataframe\">\n",
       "  <thead>\n",
       "    <tr style=\"text-align: right;\">\n",
       "      <th></th>\n",
       "      <th>Actual</th>\n",
       "      <th>Predicted</th>\n",
       "    </tr>\n",
       "  </thead>\n",
       "  <tbody>\n",
       "    <tr>\n",
       "      <th>36977</th>\n",
       "      <td>94</td>\n",
       "      <td>86.590991</td>\n",
       "    </tr>\n",
       "    <tr>\n",
       "      <th>35941</th>\n",
       "      <td>109</td>\n",
       "      <td>106.711630</td>\n",
       "    </tr>\n",
       "    <tr>\n",
       "      <th>33183</th>\n",
       "      <td>25</td>\n",
       "      <td>34.119153</td>\n",
       "    </tr>\n",
       "    <tr>\n",
       "      <th>13343</th>\n",
       "      <td>30</td>\n",
       "      <td>33.818772</td>\n",
       "    </tr>\n",
       "    <tr>\n",
       "      <th>21854</th>\n",
       "      <td>37</td>\n",
       "      <td>38.158889</td>\n",
       "    </tr>\n",
       "    <tr>\n",
       "      <th>...</th>\n",
       "      <td>...</td>\n",
       "      <td>...</td>\n",
       "    </tr>\n",
       "    <tr>\n",
       "      <th>26298</th>\n",
       "      <td>42</td>\n",
       "      <td>36.892218</td>\n",
       "    </tr>\n",
       "    <tr>\n",
       "      <th>37081</th>\n",
       "      <td>54</td>\n",
       "      <td>50.353332</td>\n",
       "    </tr>\n",
       "    <tr>\n",
       "      <th>10646</th>\n",
       "      <td>25</td>\n",
       "      <td>29.570504</td>\n",
       "    </tr>\n",
       "    <tr>\n",
       "      <th>35889</th>\n",
       "      <td>88</td>\n",
       "      <td>80.792949</td>\n",
       "    </tr>\n",
       "    <tr>\n",
       "      <th>10906</th>\n",
       "      <td>38</td>\n",
       "      <td>37.067635</td>\n",
       "    </tr>\n",
       "  </tbody>\n",
       "</table>\n",
       "<p>1170 rows × 2 columns</p>\n",
       "</div>"
      ],
      "text/plain": [
       "       Actual   Predicted\n",
       "36977      94   86.590991\n",
       "35941     109  106.711630\n",
       "33183      25   34.119153\n",
       "13343      30   33.818772\n",
       "21854      37   38.158889\n",
       "...       ...         ...\n",
       "26298      42   36.892218\n",
       "37081      54   50.353332\n",
       "10646      25   29.570504\n",
       "35889      88   80.792949\n",
       "10906      38   37.067635\n",
       "\n",
       "[1170 rows x 2 columns]"
      ]
     },
     "execution_count": 393,
     "metadata": {},
     "output_type": "execute_result"
    },
    {
     "data": {
      "image/png": "[encoded data removed]",
      "text/plain": [
       "<Figure size 432x288 with 1 Axes>"
      ]
     },
     "metadata": {
      "needs_background": "light"
     },
     "output_type": "display_data"
    }
   ],
   "source": [
    "infile = open('data/pickles/demo_cat2.pickle', 'rb')\n",
    "demo_cat2 = pickle.load(infile)\n",
    "infile.close()\n",
    "\n",
    "# make dataframe merging the categorical and continuous columns\n",
    "df3C = cont_cols_df.merge(demo_cat2, how='outer', left_index=True, right_index=True)\n",
    "\n",
    "# removing columns that had questionable p-values\n",
    "df3C = df3C.drop(axis=1, columns=['factryarea', 'strgearea', 'assesstot', 'irrlotcode_1',\n",
    "                                  'overlay1_1', 'overlay1_2', 'overlay1_3', 'overlay1_4', 'overlay1_5',\n",
    "                                    'overlay1_6', 'overlay1_8', 'splitzone_2', 'ownertype_1', 'ownertype_3', \n",
    "                                  'spdist2_1', 'histdist_1', 'bldgclass_7', 'bldgclass_9', 'bldgclass_10',  \n",
    "                                  'bldgclass_11', 'bldgclass_12', 'spdist1_1', 'spdist1_3', 'spdist1_5', 'spdist1_10', \n",
    "                                  'zonedist1_3', 'zonedist1_4', 'zonedist2_1', 'zonedist2_2', 'zonedist2_3'])\n",
    "\n",
    "# making a model using continous & some categorical variables\n",
    "X3C = df3C\n",
    "y3C = demolished_buildings['lifespan']\n",
    "\n",
    "# train test split\n",
    "X_train3C, X_test3C, y_train3C, y_test3C = train_test_split(X3C, y3C, test_size=0.33, random_state=12)\n",
    "\n",
    "# instantiating the model\n",
    "linear_reg_model(X_train3C, y_train3C, X_test3C, y_test3C)"
   ]
  },
  {
   "cell_type": "markdown",
   "metadata": {},
   "source": [
    "__Comments__\n",
    "\n",
    "This model performed well with an accuracy of .92 and RMSE of 7.88."
   ]
  },
  {
   "cell_type": "markdown",
   "metadata": {},
   "source": [
    "## Model 4: Linear Regression with Interactions"
   ]
  },
  {
   "cell_type": "markdown",
   "metadata": {},
   "source": [
    "### Add Interactions"
   ]
  },
  {
   "cell_type": "code",
   "execution_count": 375,
   "metadata": {},
   "outputs": [
    {
     "data": {
      "text/plain": [
       "(2373,)"
      ]
     },
     "execution_count": 375,
     "metadata": {},
     "output_type": "execute_result"
    }
   ],
   "source": [
    "y_train3.shape"
   ]
  },
  {
   "cell_type": "code",
   "execution_count": 376,
   "metadata": {},
   "outputs": [],
   "source": [
    "y_train3 = y_train3.to_numpy()\n",
    "y_train3 = y_train3.reshape(-1,1)"
   ]
  },
  {
   "cell_type": "code",
   "execution_count": 377,
   "metadata": {},
   "outputs": [
    {
     "data": {
      "text/plain": [
       "(2373, 1)"
      ]
     },
     "execution_count": 377,
     "metadata": {},
     "output_type": "execute_result"
    }
   ],
   "source": [
    "y_train3.shape"
   ]
  },
  {
   "cell_type": "code",
   "execution_count": 378,
   "metadata": {},
   "outputs": [
    {
     "data": {
      "text/plain": [
       "(1170, 55)"
      ]
     },
     "execution_count": 378,
     "metadata": {},
     "output_type": "execute_result"
    }
   ],
   "source": [
    "X_test3.shape"
   ]
  },
  {
   "cell_type": "code",
   "execution_count": 379,
   "metadata": {},
   "outputs": [
    {
     "name": "stderr",
     "output_type": "stream",
     "text": [
      "/opt/anaconda3/envs/capstone_env/lib/python3.8/site-packages/statsmodels/base/model.py:1362: RuntimeWarning: invalid value encountered in true_divide\n",
      "  return self.params / self.bse\n"
     ]
    },
    {
     "data": {
      "text/plain": [
       "1       4.895896e-02\n",
       "2       2.481334e-04\n",
       "8       2.412049e-02\n",
       "11      6.070618e-03\n",
       "14      2.702952e-30\n",
       "            ...     \n",
       "1443    1.887562e-02\n",
       "1444    3.937860e-02\n",
       "1447    3.536342e-02\n",
       "1522    1.367888e-02\n",
       "1531    9.652269e-03\n",
       "Length: 136, dtype: float64"
      ]
     },
     "execution_count": 379,
     "metadata": {},
     "output_type": "execute_result"
    }
   ],
   "source": [
    "ints = PolynomialFeatures(degree=2, include_bias=False, interaction_only=True)\n",
    "\n",
    "X_train3_int = ints.fit_transform(X_train3)\n",
    "X_test3_int = ints.fit_transform(X_test3)\n",
    "\n",
    "interaction_df = pd.DataFrame(X_train3_int)\n",
    "\n",
    "interaction_model = linear_model.OLS(y_train3, interaction_df).fit()\n",
    "interaction_model.pvalues[interaction_model.pvalues < 0.05]"
   ]
  },
  {
   "cell_type": "code",
   "execution_count": 380,
   "metadata": {},
   "outputs": [
    {
     "data": {
      "text/plain": [
       "(1170, 1540)"
      ]
     },
     "execution_count": 380,
     "metadata": {},
     "output_type": "execute_result"
    }
   ],
   "source": [
    "X_test3_int.shape"
   ]
  },
  {
   "cell_type": "code",
   "execution_count": 381,
   "metadata": {},
   "outputs": [
    {
     "data": {
      "text/plain": [
       "(2373, 1540)"
      ]
     },
     "execution_count": 381,
     "metadata": {},
     "output_type": "execute_result"
    }
   ],
   "source": [
    "X_train3_int.shape"
   ]
  },
  {
   "cell_type": "code",
   "execution_count": 382,
   "metadata": {},
   "outputs": [
    {
     "name": "stdout",
     "output_type": "stream",
     "text": [
      "Root Mean Squared Error  125.5509257027769\n"
     ]
    }
   ],
   "source": [
    "y_pred3 = interaction_model.predict(X_test3_int)\n",
    "MSE3 = mean_squared_error(y_test3, y_pred3)\n",
    "\n",
    "print('Root Mean Squared Error ', np.sqrt(MSE3))"
   ]
  },
  {
   "cell_type": "markdown",
   "metadata": {},
   "source": [
    "__Comments__\n",
    "\n",
    "The interaction terms are causing the model to become inaccurate, with a RMSE of 276. An RMSE this high when the building lifespan is typically 50+ years means that the model is unusable. \n",
    "\n",
    "Most likely, there are too many interactions because of high dimensionality. There were 58 features before interactions, and 1711 features after interactions. This illustrates the curse of dimensionality."
   ]
  },
  {
   "cell_type": "markdown",
   "metadata": {},
   "source": [
    "## Model 5: Polynomial Regression"
   ]
  },
  {
   "cell_type": "code",
   "execution_count": 383,
   "metadata": {},
   "outputs": [
    {
     "data": {
      "text/html": [
       "<div>\n",
       "<style scoped>\n",
       "    .dataframe tbody tr th:only-of-type {\n",
       "        vertical-align: middle;\n",
       "    }\n",
       "\n",
       "    .dataframe tbody tr th {\n",
       "        vertical-align: top;\n",
       "    }\n",
       "\n",
       "    .dataframe thead th {\n",
       "        text-align: right;\n",
       "    }\n",
       "</style>\n",
       "<table border=\"1\" class=\"dataframe\">\n",
       "  <thead>\n",
       "    <tr style=\"text-align: right;\">\n",
       "      <th></th>\n",
       "      <th>0</th>\n",
       "      <th>1</th>\n",
       "      <th>2</th>\n",
       "      <th>3</th>\n",
       "      <th>4</th>\n",
       "      <th>5</th>\n",
       "      <th>6</th>\n",
       "      <th>7</th>\n",
       "      <th>8</th>\n",
       "      <th>9</th>\n",
       "      <th>...</th>\n",
       "      <th>1586</th>\n",
       "      <th>1587</th>\n",
       "      <th>1588</th>\n",
       "      <th>1589</th>\n",
       "      <th>1590</th>\n",
       "      <th>1591</th>\n",
       "      <th>1592</th>\n",
       "      <th>1593</th>\n",
       "      <th>1594</th>\n",
       "      <th>1595</th>\n",
       "    </tr>\n",
       "  </thead>\n",
       "  <tbody>\n",
       "    <tr>\n",
       "      <th>0</th>\n",
       "      <td>1.0</td>\n",
       "      <td>1875.0</td>\n",
       "      <td>20.0</td>\n",
       "      <td>1920.0</td>\n",
       "      <td>0.0</td>\n",
       "      <td>1.0</td>\n",
       "      <td>0.0</td>\n",
       "      <td>0.0</td>\n",
       "      <td>0.0</td>\n",
       "      <td>0.0</td>\n",
       "      <td>...</td>\n",
       "      <td>0.0</td>\n",
       "      <td>0.0</td>\n",
       "      <td>0.0</td>\n",
       "      <td>0.0</td>\n",
       "      <td>0.0</td>\n",
       "      <td>0.0</td>\n",
       "      <td>0.0</td>\n",
       "      <td>0.0</td>\n",
       "      <td>0.0</td>\n",
       "      <td>0.0</td>\n",
       "    </tr>\n",
       "    <tr>\n",
       "      <th>1</th>\n",
       "      <td>1.0</td>\n",
       "      <td>4121.0</td>\n",
       "      <td>36.0</td>\n",
       "      <td>1961.0</td>\n",
       "      <td>1.0</td>\n",
       "      <td>0.0</td>\n",
       "      <td>0.0</td>\n",
       "      <td>1.0</td>\n",
       "      <td>0.0</td>\n",
       "      <td>0.0</td>\n",
       "      <td>...</td>\n",
       "      <td>0.0</td>\n",
       "      <td>0.0</td>\n",
       "      <td>0.0</td>\n",
       "      <td>0.0</td>\n",
       "      <td>0.0</td>\n",
       "      <td>0.0</td>\n",
       "      <td>0.0</td>\n",
       "      <td>0.0</td>\n",
       "      <td>0.0</td>\n",
       "      <td>0.0</td>\n",
       "    </tr>\n",
       "    <tr>\n",
       "      <th>2</th>\n",
       "      <td>1.0</td>\n",
       "      <td>26615.0</td>\n",
       "      <td>0.0</td>\n",
       "      <td>1972.0</td>\n",
       "      <td>1.0</td>\n",
       "      <td>0.0</td>\n",
       "      <td>0.0</td>\n",
       "      <td>0.0</td>\n",
       "      <td>0.0</td>\n",
       "      <td>0.0</td>\n",
       "      <td>...</td>\n",
       "      <td>0.0</td>\n",
       "      <td>0.0</td>\n",
       "      <td>0.0</td>\n",
       "      <td>0.0</td>\n",
       "      <td>0.0</td>\n",
       "      <td>0.0</td>\n",
       "      <td>0.0</td>\n",
       "      <td>0.0</td>\n",
       "      <td>0.0</td>\n",
       "      <td>0.0</td>\n",
       "    </tr>\n",
       "  </tbody>\n",
       "</table>\n",
       "<p>3 rows × 1596 columns</p>\n",
       "</div>"
      ],
      "text/plain": [
       "   0        1     2       3     4     5     6     7     8     9     ...  1586  \\\n",
       "0   1.0   1875.0  20.0  1920.0   0.0   1.0   0.0   0.0   0.0   0.0  ...   0.0   \n",
       "1   1.0   4121.0  36.0  1961.0   1.0   0.0   0.0   1.0   0.0   0.0  ...   0.0   \n",
       "2   1.0  26615.0   0.0  1972.0   1.0   0.0   0.0   0.0   0.0   0.0  ...   0.0   \n",
       "\n",
       "   1587  1588  1589  1590  1591  1592  1593  1594  1595  \n",
       "0   0.0   0.0   0.0   0.0   0.0   0.0   0.0   0.0   0.0  \n",
       "1   0.0   0.0   0.0   0.0   0.0   0.0   0.0   0.0   0.0  \n",
       "2   0.0   0.0   0.0   0.0   0.0   0.0   0.0   0.0   0.0  \n",
       "\n",
       "[3 rows x 1596 columns]"
      ]
     },
     "execution_count": 383,
     "metadata": {},
     "output_type": "execute_result"
    }
   ],
   "source": [
    "# Polynomial Regression\n",
    "\n",
    "pf = PolynomialFeatures(degree = 2, interaction_only=False, include_bias=True)\n",
    "\n",
    "y_train3 = pd.DataFrame(y_train3)\n",
    "\n",
    "X_train3_poly = pf.fit_transform(X_train3)\n",
    "X_train3_poly = pd.DataFrame(X_train3_poly, index = y_train3.index)\n",
    "\n",
    "X_test3_poly = pf.fit_transform(X_test3)\n",
    "X_test3_poly = pd.DataFrame(X_test3_poly)\n",
    "\n",
    "X_train3_poly.head(3)"
   ]
  },
  {
   "cell_type": "code",
   "execution_count": 384,
   "metadata": {},
   "outputs": [
    {
     "ename": "Exception",
     "evalue": "Data must be 1-dimensional",
     "output_type": "error",
     "traceback": [
      "\u001b[0;31m---------------------------------------------------------------------------\u001b[0m",
      "\u001b[0;31mException\u001b[0m                                 Traceback (most recent call last)",
      "\u001b[0;32m<ipython-input-384-4bdd8ed801a3>\u001b[0m in \u001b[0;36m<module>\u001b[0;34m\u001b[0m\n\u001b[0;32m----> 1\u001b[0;31m \u001b[0mlinear_reg_model\u001b[0m\u001b[0;34m(\u001b[0m\u001b[0mX_train3_poly\u001b[0m\u001b[0;34m,\u001b[0m \u001b[0my_train3\u001b[0m\u001b[0;34m,\u001b[0m  \u001b[0mX_test3_poly\u001b[0m\u001b[0;34m,\u001b[0m \u001b[0my_test3\u001b[0m\u001b[0;34m)\u001b[0m\u001b[0;34m\u001b[0m\u001b[0;34m\u001b[0m\u001b[0m\n\u001b[0m",
      "\u001b[0;32m<ipython-input-330-80b58d6d6c2e>\u001b[0m in \u001b[0;36mlinear_reg_model\u001b[0;34m(Xtrain, ytrain, Xtest, ytest)\u001b[0m\n\u001b[1;32m     28\u001b[0m     \u001b[0mcvs\u001b[0m \u001b[0;34m=\u001b[0m \u001b[0mcross_val_score\u001b[0m\u001b[0;34m(\u001b[0m\u001b[0mestimator\u001b[0m\u001b[0;34m=\u001b[0m\u001b[0mmodel\u001b[0m\u001b[0;34m,\u001b[0m \u001b[0mX\u001b[0m\u001b[0;34m=\u001b[0m\u001b[0mXtest\u001b[0m\u001b[0;34m,\u001b[0m \u001b[0my\u001b[0m\u001b[0;34m=\u001b[0m\u001b[0mytest\u001b[0m\u001b[0;34m,\u001b[0m \u001b[0mcv\u001b[0m\u001b[0;34m=\u001b[0m\u001b[0;36m5\u001b[0m\u001b[0;34m)\u001b[0m\u001b[0;34m\u001b[0m\u001b[0;34m\u001b[0m\u001b[0m\n\u001b[1;32m     29\u001b[0m     \u001b[0;31m#make dataframe of predictions\u001b[0m\u001b[0;34m\u001b[0m\u001b[0;34m\u001b[0m\u001b[0;34m\u001b[0m\u001b[0m\n\u001b[0;32m---> 30\u001b[0;31m     \u001b[0mpred\u001b[0m \u001b[0;34m=\u001b[0m \u001b[0mpd\u001b[0m\u001b[0;34m.\u001b[0m\u001b[0mDataFrame\u001b[0m\u001b[0;34m(\u001b[0m\u001b[0;34m{\u001b[0m\u001b[0;34m'Actual'\u001b[0m\u001b[0;34m:\u001b[0m \u001b[0mytest\u001b[0m\u001b[0;34m,\u001b[0m \u001b[0;34m'Predicted'\u001b[0m\u001b[0;34m:\u001b[0m \u001b[0my_pred\u001b[0m\u001b[0;34m}\u001b[0m\u001b[0;34m)\u001b[0m\u001b[0;34m\u001b[0m\u001b[0;34m\u001b[0m\u001b[0m\n\u001b[0m\u001b[1;32m     31\u001b[0m \u001b[0;34m\u001b[0m\u001b[0m\n\u001b[1;32m     32\u001b[0m     \u001b[0;31m#f-test to see which coefficients have p-values greater than 0.05\u001b[0m\u001b[0;34m\u001b[0m\u001b[0;34m\u001b[0m\u001b[0;34m\u001b[0m\u001b[0m\n",
      "\u001b[0;32m/opt/anaconda3/envs/capstone_env/lib/python3.8/site-packages/pandas/core/frame.py\u001b[0m in \u001b[0;36m__init__\u001b[0;34m(self, data, index, columns, dtype, copy)\u001b[0m\n\u001b[1;32m    465\u001b[0m \u001b[0;34m\u001b[0m\u001b[0m\n\u001b[1;32m    466\u001b[0m         \u001b[0;32melif\u001b[0m \u001b[0misinstance\u001b[0m\u001b[0;34m(\u001b[0m\u001b[0mdata\u001b[0m\u001b[0;34m,\u001b[0m \u001b[0mdict\u001b[0m\u001b[0;34m)\u001b[0m\u001b[0;34m:\u001b[0m\u001b[0;34m\u001b[0m\u001b[0;34m\u001b[0m\u001b[0m\n\u001b[0;32m--> 467\u001b[0;31m             \u001b[0mmgr\u001b[0m \u001b[0;34m=\u001b[0m \u001b[0minit_dict\u001b[0m\u001b[0;34m(\u001b[0m\u001b[0mdata\u001b[0m\u001b[0;34m,\u001b[0m \u001b[0mindex\u001b[0m\u001b[0;34m,\u001b[0m \u001b[0mcolumns\u001b[0m\u001b[0;34m,\u001b[0m \u001b[0mdtype\u001b[0m\u001b[0;34m=\u001b[0m\u001b[0mdtype\u001b[0m\u001b[0;34m)\u001b[0m\u001b[0;34m\u001b[0m\u001b[0;34m\u001b[0m\u001b[0m\n\u001b[0m\u001b[1;32m    468\u001b[0m         \u001b[0;32melif\u001b[0m \u001b[0misinstance\u001b[0m\u001b[0;34m(\u001b[0m\u001b[0mdata\u001b[0m\u001b[0;34m,\u001b[0m \u001b[0mma\u001b[0m\u001b[0;34m.\u001b[0m\u001b[0mMaskedArray\u001b[0m\u001b[0;34m)\u001b[0m\u001b[0;34m:\u001b[0m\u001b[0;34m\u001b[0m\u001b[0;34m\u001b[0m\u001b[0m\n\u001b[1;32m    469\u001b[0m             \u001b[0;32mimport\u001b[0m \u001b[0mnumpy\u001b[0m\u001b[0;34m.\u001b[0m\u001b[0mma\u001b[0m\u001b[0;34m.\u001b[0m\u001b[0mmrecords\u001b[0m \u001b[0;32mas\u001b[0m \u001b[0mmrecords\u001b[0m\u001b[0;34m\u001b[0m\u001b[0;34m\u001b[0m\u001b[0m\n",
      "\u001b[0;32m/opt/anaconda3/envs/capstone_env/lib/python3.8/site-packages/pandas/core/internals/construction.py\u001b[0m in \u001b[0;36minit_dict\u001b[0;34m(data, index, columns, dtype)\u001b[0m\n\u001b[1;32m    281\u001b[0m             \u001b[0marr\u001b[0m \u001b[0;32mif\u001b[0m \u001b[0;32mnot\u001b[0m \u001b[0mis_datetime64tz_dtype\u001b[0m\u001b[0;34m(\u001b[0m\u001b[0marr\u001b[0m\u001b[0;34m)\u001b[0m \u001b[0;32melse\u001b[0m \u001b[0marr\u001b[0m\u001b[0;34m.\u001b[0m\u001b[0mcopy\u001b[0m\u001b[0;34m(\u001b[0m\u001b[0;34m)\u001b[0m \u001b[0;32mfor\u001b[0m \u001b[0marr\u001b[0m \u001b[0;32min\u001b[0m \u001b[0marrays\u001b[0m\u001b[0;34m\u001b[0m\u001b[0;34m\u001b[0m\u001b[0m\n\u001b[1;32m    282\u001b[0m         ]\n\u001b[0;32m--> 283\u001b[0;31m     \u001b[0;32mreturn\u001b[0m \u001b[0marrays_to_mgr\u001b[0m\u001b[0;34m(\u001b[0m\u001b[0marrays\u001b[0m\u001b[0;34m,\u001b[0m \u001b[0mdata_names\u001b[0m\u001b[0;34m,\u001b[0m \u001b[0mindex\u001b[0m\u001b[0;34m,\u001b[0m \u001b[0mcolumns\u001b[0m\u001b[0;34m,\u001b[0m \u001b[0mdtype\u001b[0m\u001b[0;34m=\u001b[0m\u001b[0mdtype\u001b[0m\u001b[0;34m)\u001b[0m\u001b[0;34m\u001b[0m\u001b[0;34m\u001b[0m\u001b[0m\n\u001b[0m\u001b[1;32m    284\u001b[0m \u001b[0;34m\u001b[0m\u001b[0m\n\u001b[1;32m    285\u001b[0m \u001b[0;34m\u001b[0m\u001b[0m\n",
      "\u001b[0;32m/opt/anaconda3/envs/capstone_env/lib/python3.8/site-packages/pandas/core/internals/construction.py\u001b[0m in \u001b[0;36marrays_to_mgr\u001b[0;34m(arrays, arr_names, index, columns, dtype, verify_integrity)\u001b[0m\n\u001b[1;32m     81\u001b[0m \u001b[0;34m\u001b[0m\u001b[0m\n\u001b[1;32m     82\u001b[0m         \u001b[0;31m# don't force copy because getting jammed in an ndarray anyway\u001b[0m\u001b[0;34m\u001b[0m\u001b[0;34m\u001b[0m\u001b[0;34m\u001b[0m\u001b[0m\n\u001b[0;32m---> 83\u001b[0;31m         \u001b[0marrays\u001b[0m \u001b[0;34m=\u001b[0m \u001b[0m_homogenize\u001b[0m\u001b[0;34m(\u001b[0m\u001b[0marrays\u001b[0m\u001b[0;34m,\u001b[0m \u001b[0mindex\u001b[0m\u001b[0;34m,\u001b[0m \u001b[0mdtype\u001b[0m\u001b[0;34m)\u001b[0m\u001b[0;34m\u001b[0m\u001b[0;34m\u001b[0m\u001b[0m\n\u001b[0m\u001b[1;32m     84\u001b[0m \u001b[0;34m\u001b[0m\u001b[0m\n\u001b[1;32m     85\u001b[0m         \u001b[0mcolumns\u001b[0m \u001b[0;34m=\u001b[0m \u001b[0mensure_index\u001b[0m\u001b[0;34m(\u001b[0m\u001b[0mcolumns\u001b[0m\u001b[0;34m)\u001b[0m\u001b[0;34m\u001b[0m\u001b[0;34m\u001b[0m\u001b[0m\n",
      "\u001b[0;32m/opt/anaconda3/envs/capstone_env/lib/python3.8/site-packages/pandas/core/internals/construction.py\u001b[0m in \u001b[0;36m_homogenize\u001b[0;34m(data, index, dtype)\u001b[0m\n\u001b[1;32m    349\u001b[0m                     \u001b[0mval\u001b[0m \u001b[0;34m=\u001b[0m \u001b[0mdict\u001b[0m\u001b[0;34m(\u001b[0m\u001b[0mval\u001b[0m\u001b[0;34m)\u001b[0m\u001b[0;34m\u001b[0m\u001b[0;34m\u001b[0m\u001b[0m\n\u001b[1;32m    350\u001b[0m                 \u001b[0mval\u001b[0m \u001b[0;34m=\u001b[0m \u001b[0mlib\u001b[0m\u001b[0;34m.\u001b[0m\u001b[0mfast_multiget\u001b[0m\u001b[0;34m(\u001b[0m\u001b[0mval\u001b[0m\u001b[0;34m,\u001b[0m \u001b[0moindex\u001b[0m\u001b[0;34m.\u001b[0m\u001b[0m_values\u001b[0m\u001b[0;34m,\u001b[0m \u001b[0mdefault\u001b[0m\u001b[0;34m=\u001b[0m\u001b[0mnp\u001b[0m\u001b[0;34m.\u001b[0m\u001b[0mnan\u001b[0m\u001b[0;34m)\u001b[0m\u001b[0;34m\u001b[0m\u001b[0;34m\u001b[0m\u001b[0m\n\u001b[0;32m--> 351\u001b[0;31m             val = sanitize_array(\n\u001b[0m\u001b[1;32m    352\u001b[0m                 \u001b[0mval\u001b[0m\u001b[0;34m,\u001b[0m \u001b[0mindex\u001b[0m\u001b[0;34m,\u001b[0m \u001b[0mdtype\u001b[0m\u001b[0;34m=\u001b[0m\u001b[0mdtype\u001b[0m\u001b[0;34m,\u001b[0m \u001b[0mcopy\u001b[0m\u001b[0;34m=\u001b[0m\u001b[0;32mFalse\u001b[0m\u001b[0;34m,\u001b[0m \u001b[0mraise_cast_failure\u001b[0m\u001b[0;34m=\u001b[0m\u001b[0;32mFalse\u001b[0m\u001b[0;34m\u001b[0m\u001b[0;34m\u001b[0m\u001b[0m\n\u001b[1;32m    353\u001b[0m             )\n",
      "\u001b[0;32m/opt/anaconda3/envs/capstone_env/lib/python3.8/site-packages/pandas/core/construction.py\u001b[0m in \u001b[0;36msanitize_array\u001b[0;34m(data, index, dtype, copy, raise_cast_failure)\u001b[0m\n\u001b[1;32m    490\u001b[0m     \u001b[0;32melif\u001b[0m \u001b[0msubarr\u001b[0m\u001b[0;34m.\u001b[0m\u001b[0mndim\u001b[0m \u001b[0;34m>\u001b[0m \u001b[0;36m1\u001b[0m\u001b[0;34m:\u001b[0m\u001b[0;34m\u001b[0m\u001b[0;34m\u001b[0m\u001b[0m\n\u001b[1;32m    491\u001b[0m         \u001b[0;32mif\u001b[0m \u001b[0misinstance\u001b[0m\u001b[0;34m(\u001b[0m\u001b[0mdata\u001b[0m\u001b[0;34m,\u001b[0m \u001b[0mnp\u001b[0m\u001b[0;34m.\u001b[0m\u001b[0mndarray\u001b[0m\u001b[0;34m)\u001b[0m\u001b[0;34m:\u001b[0m\u001b[0;34m\u001b[0m\u001b[0;34m\u001b[0m\u001b[0m\n\u001b[0;32m--> 492\u001b[0;31m             \u001b[0;32mraise\u001b[0m \u001b[0mException\u001b[0m\u001b[0;34m(\u001b[0m\u001b[0;34m\"Data must be 1-dimensional\"\u001b[0m\u001b[0;34m)\u001b[0m\u001b[0;34m\u001b[0m\u001b[0;34m\u001b[0m\u001b[0m\n\u001b[0m\u001b[1;32m    493\u001b[0m         \u001b[0;32melse\u001b[0m\u001b[0;34m:\u001b[0m\u001b[0;34m\u001b[0m\u001b[0;34m\u001b[0m\u001b[0m\n\u001b[1;32m    494\u001b[0m             \u001b[0msubarr\u001b[0m \u001b[0;34m=\u001b[0m \u001b[0mcom\u001b[0m\u001b[0;34m.\u001b[0m\u001b[0masarray_tuplesafe\u001b[0m\u001b[0;34m(\u001b[0m\u001b[0mdata\u001b[0m\u001b[0;34m,\u001b[0m \u001b[0mdtype\u001b[0m\u001b[0;34m=\u001b[0m\u001b[0mdtype\u001b[0m\u001b[0;34m)\u001b[0m\u001b[0;34m\u001b[0m\u001b[0;34m\u001b[0m\u001b[0m\n",
      "\u001b[0;31mException\u001b[0m: Data must be 1-dimensional"
     ]
    }
   ],
   "source": [
    "linear_reg_model(X_train3_poly, y_train3,  X_test3_poly, y_test3)"
   ]
  },
  {
   "cell_type": "markdown",
   "metadata": {},
   "source": [
    "__Comments__\n",
    "\n",
    "There is a strong pattern in the residuals plot. All results indicate this model is performing very poorly.\n",
    "\n"
   ]
  },
  {
   "cell_type": "markdown",
   "metadata": {},
   "source": [
    "# Conclusion\n",
    "\n",
    "\n",
    "The best model was Model 3C."
   ]
  }
 ],
 "metadata": {
  "kernelspec": {
   "display_name": "Python [conda env:capstone_env] *",
   "language": "python",
   "name": "conda-env-capstone_env-py"
  },
  "language_info": {
   "codemirror_mode": {
    "name": "ipython",
    "version": 3
   },
   "file_extension": ".py",
   "mimetype": "text/x-python",
   "name": "python",
   "nbconvert_exporter": "python",
   "pygments_lexer": "ipython3",
   "version": "3.8.5"
  }
 },
 "nbformat": 4,
 "nbformat_minor": 4
}
