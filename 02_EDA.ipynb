{
 "cells": [
  {
   "cell_type": "markdown",
   "metadata": {},
   "source": [
    "# Exploratory Data Analysis"
   ]
  },
  {
   "cell_type": "markdown",
   "metadata": {},
   "source": [
    "## Imports"
   ]
  },
  {
   "cell_type": "code",
   "execution_count": 4,
   "metadata": {},
   "outputs": [],
   "source": [
    "import numpy as np\n",
    "import pandas as pd\n",
    "import pickle\n",
    "import matplotlib.pyplot as plt"
   ]
  },
  {
   "cell_type": "code",
   "execution_count": 5,
   "metadata": {},
   "outputs": [],
   "source": [
    "infile = open('data/pickles/demolished_buildings.pickle', 'rb')\n",
    "demolished_buildings = pickle.load(infile)\n",
    "infile.close()"
   ]
  },
  {
   "cell_type": "code",
   "execution_count": 6,
   "metadata": {},
   "outputs": [
    {
     "data": {
      "text/plain": [
       "pandas.core.frame.DataFrame"
      ]
     },
     "execution_count": 6,
     "metadata": {},
     "output_type": "execute_result"
    }
   ],
   "source": [
    "type(demolished_buildings)"
   ]
  },
  {
   "cell_type": "code",
   "execution_count": 7,
   "metadata": {},
   "outputs": [
    {
     "data": {
      "text/html": [
       "<div>\n",
       "<style scoped>\n",
       "    .dataframe tbody tr th:only-of-type {\n",
       "        vertical-align: middle;\n",
       "    }\n",
       "\n",
       "    .dataframe tbody tr th {\n",
       "        vertical-align: top;\n",
       "    }\n",
       "\n",
       "    .dataframe thead th {\n",
       "        text-align: right;\n",
       "    }\n",
       "</style>\n",
       "<table border=\"1\" class=\"dataframe\">\n",
       "  <thead>\n",
       "    <tr style=\"text-align: right;\">\n",
       "      <th></th>\n",
       "      <th>policeprct</th>\n",
       "      <th>healtharea</th>\n",
       "      <th>zonedist1</th>\n",
       "      <th>zonedist2</th>\n",
       "      <th>zonedist3</th>\n",
       "      <th>overlay1</th>\n",
       "      <th>spdist1</th>\n",
       "      <th>spdist2</th>\n",
       "      <th>ltdheight</th>\n",
       "      <th>splitzone</th>\n",
       "      <th>...</th>\n",
       "      <th>factryarea</th>\n",
       "      <th>bldgfront</th>\n",
       "      <th>ext</th>\n",
       "      <th>irrlotcode</th>\n",
       "      <th>lottype</th>\n",
       "      <th>assesstot</th>\n",
       "      <th>yearbuilt</th>\n",
       "      <th>histdist</th>\n",
       "      <th>landmark</th>\n",
       "      <th>lifespan</th>\n",
       "    </tr>\n",
       "  </thead>\n",
       "  <tbody>\n",
       "    <tr>\n",
       "      <th>82</th>\n",
       "      <td>13.0</td>\n",
       "      <td>5900.0</td>\n",
       "      <td>C1-8A</td>\n",
       "      <td>0</td>\n",
       "      <td>0</td>\n",
       "      <td>0</td>\n",
       "      <td>0</td>\n",
       "      <td>0</td>\n",
       "      <td>0</td>\n",
       "      <td>N</td>\n",
       "      <td>...</td>\n",
       "      <td>0.0</td>\n",
       "      <td>0.0</td>\n",
       "      <td>0</td>\n",
       "      <td>N</td>\n",
       "      <td>5.0</td>\n",
       "      <td>478592.0</td>\n",
       "      <td>1972</td>\n",
       "      <td>0</td>\n",
       "      <td>0</td>\n",
       "      <td>46</td>\n",
       "    </tr>\n",
       "    <tr>\n",
       "      <th>106</th>\n",
       "      <td>108.0</td>\n",
       "      <td>1021.0</td>\n",
       "      <td>R5D</td>\n",
       "      <td>0</td>\n",
       "      <td>0</td>\n",
       "      <td>0</td>\n",
       "      <td>0</td>\n",
       "      <td>0</td>\n",
       "      <td>0</td>\n",
       "      <td>N</td>\n",
       "      <td>...</td>\n",
       "      <td>0.0</td>\n",
       "      <td>0.0</td>\n",
       "      <td>0</td>\n",
       "      <td>Y</td>\n",
       "      <td>6.0</td>\n",
       "      <td>64380.0</td>\n",
       "      <td>1972</td>\n",
       "      <td>0</td>\n",
       "      <td>0</td>\n",
       "      <td>30</td>\n",
       "    </tr>\n",
       "    <tr>\n",
       "      <th>134</th>\n",
       "      <td>81.0</td>\n",
       "      <td>3100.0</td>\n",
       "      <td>C4-4L</td>\n",
       "      <td>0</td>\n",
       "      <td>0</td>\n",
       "      <td>0</td>\n",
       "      <td>0</td>\n",
       "      <td>0</td>\n",
       "      <td>0</td>\n",
       "      <td>N</td>\n",
       "      <td>...</td>\n",
       "      <td>0.0</td>\n",
       "      <td>72.0</td>\n",
       "      <td>E</td>\n",
       "      <td>N</td>\n",
       "      <td>5.0</td>\n",
       "      <td>1757700.0</td>\n",
       "      <td>1922</td>\n",
       "      <td>0</td>\n",
       "      <td>0</td>\n",
       "      <td>69</td>\n",
       "    </tr>\n",
       "    <tr>\n",
       "      <th>185</th>\n",
       "      <td>66.0</td>\n",
       "      <td>5310.0</td>\n",
       "      <td>C8-2</td>\n",
       "      <td>0</td>\n",
       "      <td>0</td>\n",
       "      <td>0</td>\n",
       "      <td>OP</td>\n",
       "      <td>0</td>\n",
       "      <td>0</td>\n",
       "      <td>N</td>\n",
       "      <td>...</td>\n",
       "      <td>0.0</td>\n",
       "      <td>0.0</td>\n",
       "      <td>0</td>\n",
       "      <td>Y</td>\n",
       "      <td>5.0</td>\n",
       "      <td>19350.0</td>\n",
       "      <td>1972</td>\n",
       "      <td>0</td>\n",
       "      <td>0</td>\n",
       "      <td>25</td>\n",
       "    </tr>\n",
       "  </tbody>\n",
       "</table>\n",
       "<p>4 rows × 24 columns</p>\n",
       "</div>"
      ],
      "text/plain": [
       "     policeprct  healtharea zonedist1 zonedist2 zonedist3 overlay1 spdist1  \\\n",
       "82         13.0      5900.0     C1-8A         0         0        0       0   \n",
       "106       108.0      1021.0       R5D         0         0        0       0   \n",
       "134        81.0      3100.0     C4-4L         0         0        0       0   \n",
       "185        66.0      5310.0      C8-2         0         0        0      OP   \n",
       "\n",
       "    spdist2 ltdheight splitzone  ... factryarea bldgfront  ext  irrlotcode  \\\n",
       "82        0         0         N  ...        0.0       0.0    0           N   \n",
       "106       0         0         N  ...        0.0       0.0    0           Y   \n",
       "134       0         0         N  ...        0.0      72.0    E           N   \n",
       "185       0         0         N  ...        0.0       0.0    0           Y   \n",
       "\n",
       "     lottype  assesstot yearbuilt histdist  landmark  lifespan  \n",
       "82       5.0   478592.0      1972        0         0        46  \n",
       "106      6.0    64380.0      1972        0         0        30  \n",
       "134      5.0  1757700.0      1922        0         0        69  \n",
       "185      5.0    19350.0      1972        0         0        25  \n",
       "\n",
       "[4 rows x 24 columns]"
      ]
     },
     "execution_count": 7,
     "metadata": {},
     "output_type": "execute_result"
    }
   ],
   "source": [
    "demolished_buildings.head(4)"
   ]
  },
  {
   "cell_type": "code",
   "execution_count": null,
   "metadata": {},
   "outputs": [],
   "source": []
  },
  {
   "cell_type": "code",
   "execution_count": null,
   "metadata": {},
   "outputs": [],
   "source": []
  },
  {
   "cell_type": "code",
   "execution_count": null,
   "metadata": {},
   "outputs": [],
   "source": []
  }
 ],
 "metadata": {
  "kernelspec": {
   "display_name": "Python [conda env:capstone_env] *",
   "language": "python",
   "name": "conda-env-capstone_env-py"
  },
  "language_info": {
   "codemirror_mode": {
    "name": "ipython",
    "version": 3
   },
   "file_extension": ".py",
   "mimetype": "text/x-python",
   "name": "python",
   "nbconvert_exporter": "python",
   "pygments_lexer": "ipython3",
   "version": "3.8.5"
  }
 },
 "nbformat": 4,
 "nbformat_minor": 4
}
